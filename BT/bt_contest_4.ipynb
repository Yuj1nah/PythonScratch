{
 "cells": [
  {
   "cell_type": "code",
   "execution_count": 2,
   "metadata": {},
   "outputs": [
    {
     "name": "stdout",
     "output_type": "stream",
     "text": [
      "299151\n"
     ]
    }
   ],
   "source": [
    "#Bài 1. Tính tổng 1\n",
    "def S(n):\n",
    "    if n==0:\n",
    "        return 0\n",
    "    else:\n",
    "        return n+ S(n-1)\n",
    "if __name__=='__main__':\n",
    "    n=int(input())\n",
    "    print(S(n))\n"
   ]
  },
  {
   "cell_type": "code",
   "execution_count": 3,
   "metadata": {},
   "outputs": [
    {
     "name": "stdout",
     "output_type": "stream",
     "text": [
      "51039\n"
     ]
    }
   ],
   "source": [
    "#Bài 2. Tính tổng 2.\n",
    "from math import *\n",
    "def S(n):\n",
    "    if n==0:\n",
    "        return 0\n",
    "    return n**2 + S(n-1)\n",
    "if __name__=='__main__':\n",
    "    n=int(input())\n",
    "    print(S(n))"
   ]
  },
  {
   "cell_type": "code",
   "execution_count": 4,
   "metadata": {},
   "outputs": [
    {
     "name": "stdout",
     "output_type": "stream",
     "text": [
      "8992728900\n"
     ]
    }
   ],
   "source": [
    "#Bài 3. Tính tổng 3.\n",
    "from math import *\n",
    "def S(n):\n",
    "    if n==0:\n",
    "        return 0\n",
    "    return n**3 + S(n-1)\n",
    "if __name__=='__main__':\n",
    "    n=int(input())\n",
    "    print(S(n))"
   ]
  },
  {
   "cell_type": "code",
   "execution_count": 5,
   "metadata": {},
   "outputs": [
    {
     "name": "stdout",
     "output_type": "stream",
     "text": [
      "-460\n"
     ]
    }
   ],
   "source": [
    "#Bài 4. Tính tổng 4\n",
    "def S(n):\n",
    "    if n==0:\n",
    "        return 0\n",
    "    return (-1)**n * n + S(n-1)\n",
    "if __name__=='__main__':\n",
    "    n=int(input())\n",
    "    print(S(n))"
   ]
  },
  {
   "cell_type": "code",
   "execution_count": 6,
   "metadata": {},
   "outputs": [
    {
     "name": "stdout",
     "output_type": "stream",
     "text": [
      "720\n"
     ]
    }
   ],
   "source": [
    "#Bài 5. Tính giai thừa\n",
    "def gt(n):\n",
    "    if n==0 or n==1:\n",
    "        return 1\n",
    "    return n*gt(n-1)\n",
    "if __name__=='__main__':\n",
    "    n=int(input())\n",
    "    print(gt(n))"
   ]
  },
  {
   "cell_type": "code",
   "execution_count": 8,
   "metadata": {},
   "outputs": [
    {
     "name": "stdout",
     "output_type": "stream",
     "text": [
      "2\n"
     ]
    }
   ],
   "source": [
    "#Baif 6: Tính fibonaci\n",
    "def fibo(n):\n",
    "    if n==1:\n",
    "        return 0\n",
    "    elif n==2:\n",
    "        return 1\n",
    "    return fibo(n-1) + fibo(n-2)\n",
    "if __name__=='__main__':\n",
    "    n=int(input())\n",
    "    print(fibo(n))"
   ]
  },
  {
   "cell_type": "code",
   "execution_count": 1,
   "metadata": {},
   "outputs": [
    {
     "name": "stdout",
     "output_type": "stream",
     "text": [
      "45\n"
     ]
    }
   ],
   "source": [
    "#Bài 7. Tính tổ hợp chập K của N\n",
    "def nCk(n,k):\n",
    "    if k==0 or k==n:\n",
    "        return 1\n",
    "    if k==1:\n",
    "        return n\n",
    "    return nCk(n-1,k-1) + nCk(n-1,k)\n",
    "if __name__=='__main__':\n",
    "    a,b=map(int,input().split())\n",
    "    print(nCk(a,b))"
   ]
  },
  {
   "cell_type": "code",
   "execution_count": 1,
   "metadata": {},
   "outputs": [
    {
     "name": "stdout",
     "output_type": "stream",
     "text": [
      "10 20\n"
     ]
    }
   ],
   "source": [
    "#Bài 8. Ước chung lớn nhất, bội chung nhỏ nhất.\n",
    "def gcd(a,b):\n",
    "    if b==0:\n",
    "        return a\n",
    "    return gcd(b,a%b)\n",
    "if __name__=='__main__':\n",
    "    a,b=map(int,input().split())\n",
    "    print(gcd(a,b), (a*b)//gcd(a,b))"
   ]
  },
  {
   "cell_type": "code",
   "execution_count": 3,
   "metadata": {},
   "outputs": [
    {
     "name": "stdout",
     "output_type": "stream",
     "text": [
      "1024\n"
     ]
    }
   ],
   "source": [
    "#Bài 9. Lũy thừa nhị phân.\n",
    "def ltbin(a,b):\n",
    "    if b==0 or a==1 :\n",
    "        return 1\n",
    "    X=ltbin(a,b//2)\n",
    "    if b%2==1:\n",
    "        return X*X*a %(10**9 + 7)\n",
    "    else:\n",
    "        return X*X % (10**9 + 7)\n",
    "if __name__=='__main__':\n",
    "    a,b=map(int,input().split())\n",
    "    print(ltbin(a,b))"
   ]
  },
  {
   "cell_type": "code",
   "execution_count": 5,
   "metadata": {},
   "outputs": [
    {
     "name": "stdout",
     "output_type": "stream",
     "text": [
      "3.495\n"
     ]
    }
   ],
   "source": [
    "#Bài 10. Tính tổng 5\n",
    "def sum(n):\n",
    "    if n==1:\n",
    "        return 1\n",
    "    return 1/n + sum(n-1)\n",
    "if __name__=='__main__':\n",
    "    n=int(input())\n",
    "    print('{:.3f}'.format(sum(n)))"
   ]
  },
  {
   "cell_type": "code",
   "execution_count": 2,
   "metadata": {},
   "outputs": [
    {
     "name": "stdout",
     "output_type": "stream",
     "text": [
      "10011"
     ]
    }
   ],
   "source": [
    "#Bài 11. Chuyển hệ thập phân sang hệ nhị phân\n",
    "def bin(n):\n",
    "    if n!=0:\n",
    "        bin(n//2)\n",
    "        print(n%2,end='')\n",
    "if __name__=='__main__':\n",
    "    n=int(input())\n",
    "    if n==0:\n",
    "        print('0')\n",
    "    else:\n",
    "        bin(n)"
   ]
  },
  {
   "cell_type": "code",
   "execution_count": 5,
   "metadata": {},
   "outputs": [
    {
     "name": "stdout",
     "output_type": "stream",
     "text": [
      "3E3"
     ]
    }
   ],
   "source": [
    "#Bài 12. Chuyển hệ thập phân sang hệ 16.\n",
    "def hex(n):\n",
    "    if n!=0:\n",
    "        hex(n//16)\n",
    "        if n%16 == 10:\n",
    "            print('A',end='')\n",
    "        elif n%16 == 11:\n",
    "            print('B',end='')\n",
    "        elif n%16 == 12:\n",
    "            print('C',end='')\n",
    "        elif n%16 == 13:\n",
    "            print('D',end='')\n",
    "        elif n%16 == 14:\n",
    "            print('E',end='')\n",
    "        elif n%16 == 15:\n",
    "            print('F',end='')    \n",
    "        else:\n",
    "            print(n%16,end='')\n",
    "if __name__=='__main__':\n",
    "    n=int(input())\n",
    "    if n==0:\n",
    "        print('0')\n",
    "    else:\n",
    "        hex(n)"
   ]
  },
  {
   "cell_type": "code",
   "execution_count": 6,
   "metadata": {},
   "outputs": [
    {
     "name": "stdout",
     "output_type": "stream",
     "text": [
      "45\n"
     ]
    }
   ],
   "source": [
    "#Bài 13. Tính tổng chữ số sử dụng đệ quy\n",
    "def sumdigit(n):\n",
    "    if n<10:\n",
    "        return n\n",
    "    else:\n",
    "        return n%10 + sumdigit(n//10)\n",
    "if __name__=='__main__':\n",
    "    n=int(input())\n",
    "    print(sumdigit(n))    "
   ]
  },
  {
   "cell_type": "code",
   "execution_count": 10,
   "metadata": {},
   "outputs": [
    {
     "name": "stdout",
     "output_type": "stream",
     "text": [
      "9\n"
     ]
    }
   ],
   "source": [
    "#Bài 14. Đếm số lượng chữ số của N sử dụng đệ quy.\n",
    "def countdigit(n):\n",
    "    if n<10:\n",
    "        return 1\n",
    "    else:\n",
    "        return 1 + countdigit(n//10)\n",
    "if __name__=='__main__':\n",
    "    n=int(input())\n",
    "    print(countdigit(n))    \n",
    "    "
   ]
  },
  {
   "cell_type": "code",
   "execution_count": 12,
   "metadata": {},
   "outputs": [
    {
     "name": "stdout",
     "output_type": "stream",
     "text": [
      "7\n"
     ]
    }
   ],
   "source": [
    "#Bài 15. Tìm chữ số đầu tiên của số nguyên\n",
    "def fidigit(n):\n",
    "    if n<10:\n",
    "        return n\n",
    "    else:\n",
    "        return fidigit(n//10)\n",
    "if __name__=='__main__':\n",
    "    n=int(input())\n",
    "    print(fidigit(n))\n"
   ]
  },
  {
   "cell_type": "code",
   "execution_count": 13,
   "metadata": {},
   "outputs": [
    {
     "name": "stdout",
     "output_type": "stream",
     "text": [
      "9 1\n"
     ]
    }
   ],
   "source": [
    "#Bài 16. Chữ số lớn nhất và nhỏ nhất\n",
    "def MAX(n):\n",
    "    if n<10:\n",
    "        return n\n",
    "    else:\n",
    "        return max(n%10,MAX(n//10))\n",
    "def MIN(n):\n",
    "    if n<10:\n",
    "        return n\n",
    "    else:\n",
    "        return min(n%10,MIN(n//10))\n",
    "if __name__=='__main__':\n",
    "    n=int(input())\n",
    "    print(MAX(n),MIN(n))"
   ]
  },
  {
   "cell_type": "code",
   "execution_count": 19,
   "metadata": {},
   "outputs": [
    {
     "name": "stdout",
     "output_type": "stream",
     "text": [
      "1 2 3 4 1 \n",
      "1 4 3 2 1 "
     ]
    }
   ],
   "source": [
    "#Bài 17. In ra số nguyên\n",
    "def in1(n):\n",
    "    if n<10:\n",
    "        print(n,end=' ')\n",
    "    else:\n",
    "        in1(n//10)\n",
    "        print(n%10,end=' ')\n",
    "def in2(n):\n",
    "    if n<10:\n",
    "        print(n,end=' ')\n",
    "    else:\n",
    "        print(n%10,end=' ')\n",
    "        in2(n//10)        \n",
    "if __name__=='__main__':\n",
    "    n=int(input())\n",
    "    in1(n)\n",
    "    print()\n",
    "    in2(n)\n",
    "\n"
   ]
  },
  {
   "cell_type": "code",
   "execution_count": 24,
   "metadata": {},
   "outputs": [
    {
     "name": "stdout",
     "output_type": "stream",
     "text": [
      "12\n",
      "9\n"
     ]
    }
   ],
   "source": [
    "#Bài 18. Tính tổng chữ số chẵn lẻ.\n",
    "def SumEven(n):\n",
    "    if n<10:\n",
    "        if n%2==0:\n",
    "            return n\n",
    "        else:\n",
    "            return 0\n",
    "    else:\n",
    "        if n%2==0:\n",
    "            return n%10 + SumEven(n//10)\n",
    "        else:\n",
    "            return SumEven(n//10)\n",
    "def SumOdd(n):\n",
    "    if n<10:\n",
    "        if n%2!=0:\n",
    "            return n\n",
    "        else:\n",
    "            return 0\n",
    "    else:\n",
    "        if n%2!=0:\n",
    "            return n%10 + SumOdd(n//10)\n",
    "        else:\n",
    "            return SumOdd(n//10)\n",
    "if __name__=='__main__':\n",
    "    n=int(input())\n",
    "    print(SumEven(n))\n",
    "    print(SumOdd(n))\n"
   ]
  },
  {
   "cell_type": "code",
   "execution_count": 33,
   "metadata": {},
   "outputs": [
    {
     "name": "stdout",
     "output_type": "stream",
     "text": [
      "NO\n"
     ]
    }
   ],
   "source": [
    "#Bài 19. Kiểm tra chữ số chẵn.\n",
    "def check(n):\n",
    "    if n<10:\n",
    "        if n%2==0:\n",
    "            return True\n",
    "        else:\n",
    "            return False\n",
    "    else:\n",
    "        if n%2==1:\n",
    "            return False\n",
    "        else:\n",
    "            return check(n//10)\n",
    "\n",
    "if __name__=='__main__':\n",
    "    n=int(input())\n",
    "    if check(n):\n",
    "        print('YES')\n",
    "    else:\n",
    "        print('NO')"
   ]
  },
  {
   "cell_type": "code",
   "execution_count": 36,
   "metadata": {},
   "outputs": [
    {
     "name": "stdout",
     "output_type": "stream",
     "text": [
      "5\n"
     ]
    }
   ],
   "source": [
    "# Bài 20. Đếm số thao tác.\n",
    "from math import *\n",
    "def check(n):\n",
    "    if n==1:\n",
    "        return 0\n",
    "    tt1,tt2,tt3=10**9,10**9,10**9\n",
    "    if n%2==0:\n",
    "        tt1=1+check(n//2)\n",
    "    if n%3==0:\n",
    "        tt2=1+check(n//3)\n",
    "    if n>1:\n",
    "        tt3=1+check(n-1)\n",
    "    return min(tt1,tt2,tt3)\n",
    "if __name__=='__main__':\n",
    "    n=int(input())\n",
    "    print(check(n))"
   ]
  },
  {
   "cell_type": "code",
   "execution_count": 43,
   "metadata": {},
   "outputs": [
    {
     "name": "stdout",
     "output_type": "stream",
     "text": [
      "YES\n"
     ]
    }
   ],
   "source": [
    "#Bài 21. Kiểm tra mảng đối xứng.\n",
    "from math import *\n",
    "def check(a,l,r):\n",
    "    if l>=r:\n",
    "        return True\n",
    "    else:\n",
    "        if a[l]!=a[r]:\n",
    "            return False\n",
    "        else:\n",
    "            return check(a,l+1,r-1)\n",
    "if __name__=='__main__':\n",
    "    n=int(input())\n",
    "    a=list(map(int,input().split()))\n",
    "    if check(a,0,n-1):\n",
    "        print('YES')\n",
    "    else:\n",
    "        print('NO') "
   ]
  }
 ],
 "metadata": {
  "kernelspec": {
   "display_name": "Python 3",
   "language": "python",
   "name": "python3"
  },
  "language_info": {
   "codemirror_mode": {
    "name": "ipython",
    "version": 3
   },
   "file_extension": ".py",
   "mimetype": "text/x-python",
   "name": "python",
   "nbconvert_exporter": "python",
   "pygments_lexer": "ipython3",
   "version": "3.10.8"
  },
  "orig_nbformat": 4
 },
 "nbformat": 4,
 "nbformat_minor": 2
}
