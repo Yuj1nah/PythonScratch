{
 "cells": [
  {
   "cell_type": "code",
   "execution_count": null,
   "metadata": {},
   "outputs": [],
   "source": [
    "#Luyện tập viết hàm\n",
    "from math import *\n",
    "def prime(n):\n",
    "    if n<2:\n",
    "        return False\n",
    "    for i in range(2,isqrt(n)+1):\n",
    "        if n%i==0:\n",
    "            return False\n",
    "    return True\n",
    "def sum(n):\n",
    "    tong=0\n",
    "    if n<10:\n",
    "        tong=n\n",
    "        print(tong)\n",
    "    else:\n",
    "        while n!=0:\n",
    "            tong+=n%10\n",
    "            n//=10\n",
    "        print(tong)\n",
    "def EvenSum(n):\n",
    "    tong=0\n",
    "    while n!=0:\n",
    "        a=n%10\n",
    "        if a%2==0:\n",
    "            tong+=a\n",
    "        n//=10\n",
    "    print(tong)\n",
    "def PrimeSum(n):\n",
    "    tong=0\n",
    "    if n<10:\n",
    "        if prime(n):\n",
    "            print(n)\n",
    "        else:\n",
    "            print(tong)\n",
    "    else:\n",
    "        while n!=0:\n",
    "            a=n%10\n",
    "            if prime(a):\n",
    "                tong+=a\n",
    "            n//=10\n",
    "        print(tong)\n",
    "def Palin(n):\n",
    "    tong=0\n",
    "    while n!=0:\n",
    "        tong=tong*10+n%10\n",
    "        n//=10\n",
    "    return tong\n",
    "def gcdsnt(n):\n",
    "    cnt=0\n",
    "    for i in range(2,isqrt(n)+1):\n",
    "       if n%i==0:\n",
    "           cnt+=1\n",
    "           while n%i==0:\n",
    "               n//=i\n",
    "              \n",
    "    if n>1:\n",
    "        cnt+=1\n",
    "    return cnt\n",
    "def biggcd(n):\n",
    "    cnt=0\n",
    "    for i in range(2,isqrt(n)+1):\n",
    "        if n%i==0:\n",
    "            cnt=i\n",
    "            while n%i==0:\n",
    "                n//=i\n",
    "    if n>1:\n",
    "        cnt=n\n",
    "    return cnt\n",
    "def check6(n):\n",
    "    while n!=0:\n",
    "        if n%10==6:\n",
    "            return 1\n",
    "        n//=10\n",
    "    return 0\n",
    "def check8(n):\n",
    "    tong=0\n",
    "    while n!=0:\n",
    "        tong+=n%10\n",
    "        n//=10\n",
    "    if tong % 8==0:\n",
    "        return 1\n",
    "    else:\n",
    "        return 0    \n",
    "def tonggt(n):\n",
    "    tong=0\n",
    "    while n!=0:\n",
    "        tong+=factorial(n%10)\n",
    "        n//=10\n",
    "    return tong\n",
    "def checksame(n):\n",
    "    a=n%10\n",
    "    n//10\n",
    "    while n!=0:\n",
    "        b=n%10\n",
    "        if b!=a:\n",
    "            return 0\n",
    "        n//=10\n",
    "    return 1\n",
    "def compare(n):\n",
    "    a=n%10\n",
    "    n//10\n",
    "    while n!=0:\n",
    "        b=n%10\n",
    "        if b>a:\n",
    "            return 0\n",
    "        n//=10\n",
    "    return 1            \n",
    "def sumlt(n):\n",
    "    a=len(str(n))\n",
    "    tong=0\n",
    "    while n!=0:\n",
    "        b=n%10\n",
    "        tong+=b**a\n",
    "        n//=10\n",
    "    print(tong)\n",
    "if __name__=='__main__':\n",
    "    n=int(input())\n",
    "    if prime(n):\n",
    "        print('1')\n",
    "    else:\n",
    "        print('0')\n",
    "    sum(n)\n",
    "    EvenSum(n)\n",
    "    PrimeSum(n)\n",
    "    print(Palin(n))\n",
    "    print(gcdsnt(n))\n",
    "    print(biggcd(n))\n",
    "    print(check6(n))\n",
    "    print(check8(n))\n",
    "    print(tonggt(n))\n",
    "    print(checksame(n))\n",
    "    print(compare(n))\n",
    "    sumlt(n)\n",
    "    \n",
    "    \n",
    "\n"
   ]
  },
  {
   "cell_type": "code",
   "execution_count": null,
   "metadata": {},
   "outputs": [],
   "source": [
    "#Bài 12. Phân tích thừa số nguyên tố\n",
    "from math import *\n",
    "def ptsnt(n):\n",
    "    for i in range(2,isqrt(n)+1):\n",
    "        if n%i==0:  \n",
    "            cnt=0\n",
    "            while n%i==0:\n",
    "                cnt+=1\n",
    "                n//=i\n",
    "            print(i,cnt,sep='^',end=' ')\n",
    "            if n!=1:\n",
    "                print('*',end=' ')\n",
    "    if n>1:\n",
    "        print(n,1,sep='^')\n",
    "            \n",
    "if __name__=='__main__':\n",
    "    n=int(input())\n",
    "    ptsnt(n)\n"
   ]
  },
  {
   "cell_type": "code",
   "execution_count": null,
   "metadata": {},
   "outputs": [],
   "source": [
    "#Bài 17. Ước số nguyên tố lớn nhất\n",
    "from math import *\n",
    "def biggcd(n):\n",
    "    for i in range(2,isqrt(n)+1):\n",
    "       if n%i==0:\n",
    "           while n%i==0:\n",
    "               tong=i\n",
    "               n//=i\n",
    "    if n>1:\n",
    "        tong=n\n",
    "    return tong\n",
    "if __name__=='__main__':\n",
    "    n=int(input())\n",
    "    for i in range(n):\n",
    "        a=int(input())\n",
    "        print(biggcd(a))"
   ]
  },
  {
   "cell_type": "code",
   "execution_count": 22,
   "metadata": {},
   "outputs": [
    {
     "name": "stdout",
     "output_type": "stream",
     "text": [
      "217\n"
     ]
    }
   ],
   "source": [
    "\n",
    "def tonguoc(n):\n",
    "    tong=0\n",
    "    for i in range(1,isqrt(n)+1):\n",
    "        if n%i==0:\n",
    "            tong+=i\n",
    "            if i!=n//i:\n",
    "                tong+=n//i\n",
    "    print(tong)\n",
    "if __name__=='__main__':\n",
    "    n=int(input())\n",
    "    tonguoc(n)\n"
   ]
  },
  {
   "cell_type": "code",
   "execution_count": 32,
   "metadata": {},
   "outputs": [
    {
     "name": "stdout",
     "output_type": "stream",
     "text": [
      "YES\n"
     ]
    }
   ],
   "source": [
    "#Bài 20. Số Chính Phương\n",
    "from math import *\n",
    "def scp(n):\n",
    "    can=isqrt(n)\n",
    "    return can * can == n \n",
    "if __name__=='__main__':\n",
    "    n=int(input())\n",
    "    if scp(n):\n",
    "        print('YES')\n",
    "    else:\n",
    "        print('NO')"
   ]
  },
  {
   "cell_type": "code",
   "execution_count": 15,
   "metadata": {},
   "outputs": [
    {
     "name": "stdout",
     "output_type": "stream",
     "text": [
      "1\n"
     ]
    }
   ],
   "source": [
    "#Bài 15. Số Sphenic\n",
    "from math import *\n",
    "def Sphenic(n):\n",
    "    i=2\n",
    "    cnt=0\n",
    "    while i<=isqrt(n):\n",
    "        if n%i==0:\n",
    "            mu=0\n",
    "            while n%i==0:\n",
    "                mu+=1\n",
    "                n//=i\n",
    "            if mu>=2:\n",
    "                return False\n",
    "            cnt+=1\n",
    "            i+=1\n",
    "    if n>1:\n",
    "        cnt+=1        \n",
    "    \n",
    "    return cnt\n",
    "def Sphenic2(n):\n",
    "    cnt=0\n",
    "    for i in range(2,isqrt(n)+1):\n",
    "        if n%i==0:\n",
    "            mu=0\n",
    "            while n%i==0:\n",
    "                n//=i\n",
    "                mu+=1\n",
    "            if mu>=2:\n",
    "                return False\n",
    "            cnt+=1\n",
    "    if n>1:\n",
    "        cnt+=1\n",
    "    return cnt==3\n",
    "if __name__=='__main__':\n",
    "    n=int(input())\n",
    "    if Sphenic2(n):\n",
    "        print('1')\n",
    "    else:\n",
    "        print('0')"
   ]
  },
  {
   "cell_type": "code",
   "execution_count": 23,
   "metadata": {},
   "outputs": [
    {
     "name": "stdout",
     "output_type": "stream",
     "text": [
      "NO\n"
     ]
    }
   ],
   "source": [
    "#Bài 16. Số Smith\n",
    "from math import *\n",
    "def prime(n):\n",
    "    for i in range(2,isqrt(n)+1):\n",
    "        if n%i==0:\n",
    "            return False\n",
    "    return True\n",
    "def sumdigit(n):\n",
    "    tong=0\n",
    "    while n!=0:\n",
    "        tong+=n%10\n",
    "        n//=10\n",
    "    return tong\n",
    "def Smith(n):\n",
    "    tong1=sumdigit(n)\n",
    "    tong=0\n",
    "    if prime(n):\n",
    "        return False\n",
    "    else:\n",
    "        for i in range(2,isqrt(n)+1):\n",
    "            if n%i==0:\n",
    "                while n%i==0:\n",
    "                    tong+=sumdigit(i)\n",
    "                    n//=i\n",
    "        if n>1:\n",
    "            tong+=sumdigit(n)\n",
    "        return tong == tong1\n",
    "if __name__=='__main__':\n",
    "    n=int(input())\n",
    "    if Smith(n):\n",
    "        print('YES')\n",
    "    else:\n",
    "        print('NO')\n"
   ]
  },
  {
   "cell_type": "code",
   "execution_count": 26,
   "metadata": {},
   "outputs": [
    {
     "name": "stdout",
     "output_type": "stream",
     "text": [
      "YES\n"
     ]
    }
   ],
   "source": [
    "#Số có số lượng ước là số lẻ (LÀ SÔ CHÍNH PHƯƠNG)\n",
    "from math import *\n",
    "def tonguoc(n):\n",
    "    cnt=0\n",
    "    for i in range(1,isqrt(n)+1):\n",
    "        if n%i==0:\n",
    "            cnt+=1\n",
    "            if i!=n//i:\n",
    "                cnt+=1\n",
    "    if cnt%2==0:\n",
    "        return False\n",
    "    else:\n",
    "        return True\n",
    "def tonguoc2(n):\n",
    "    can=isqrt(n)\n",
    "    return can * can == n\n",
    "if __name__=='__main__':\n",
    "    n=int(input())\n",
    "    if tonguoc2(n):\n",
    "        print('YES')\n",
    "    else:\n",
    "        print('NO')\n"
   ]
  },
  {
   "cell_type": "code",
   "execution_count": 35,
   "metadata": {},
   "outputs": [
    {
     "name": "stdout",
     "output_type": "stream",
     "text": [
      "1 4 9 16 25 36 49 64 81 100 "
     ]
    }
   ],
   "source": [
    "#Bài 21. Số Chính Phương trong đoạn\n",
    "from math import *\n",
    "def scpind(a,b):\n",
    "    can1,can2=isqrt(a),isqrt(b)\n",
    "    if can1*can1!=a:\n",
    "        can1+=1\n",
    "    for i in range(can1,can2+1):\n",
    "        print(i*i,end=' ')\n",
    "if __name__=='__main__':\n",
    "    a,b=map(int,input().split())\n",
    "    scpind(a,b)\n"
   ]
  },
  {
   "cell_type": "code",
   "execution_count": 40,
   "metadata": {},
   "outputs": [
    {
     "name": "stdout",
     "output_type": "stream",
     "text": [
      "3\n"
     ]
    }
   ],
   "source": [
    "#Bài 22. Số Chính Phương 3\n",
    "from math import *\n",
    "def scp3(a,b):\n",
    "    can1,can2=isqrt(a),isqrt(b)\n",
    "    if can1*can1!=a:\n",
    "        can1+=1\n",
    "    print(can2-can1+1) #công thức tính số chính phương\n",
    "if __name__=='__main__':\n",
    "    a,b=map(int,input().split()) \n",
    "    can1,can2=isqrt(a),isqrt(b)\n",
    "    if can1*can1!=a:\n",
    "        can1+=1\n",
    "    print(can2-can1+1)   "
   ]
  },
  {
   "cell_type": "code",
   "execution_count": 14,
   "metadata": {},
   "outputs": [
    {
     "name": "stdout",
     "output_type": "stream",
     "text": [
      "15\n"
     ]
    }
   ],
   "source": [
    "#Bài 6. Số thuần nguyên tố\n",
    "from math import *\n",
    "def prime(n):\n",
    "    if n<2:\n",
    "        return False\n",
    "    for i in range(2,isqrt(n)+1):\n",
    "        if n%i==0:\n",
    "            return False\n",
    "    return True\n",
    "def Sumdigit(n):\n",
    "    tong=0\n",
    "    while n!=0:\n",
    "        a=n%10\n",
    "        if a!=2 and a!=3 and a!=5 and a!=7:\n",
    "           return False\n",
    "        tong+=a\n",
    "        n//=10\n",
    "    return prime(tong)           \n",
    "    \n",
    "if __name__=='__main__':\n",
    "    a,b=map(int,input().split())\n",
    "    cnt=0\n",
    "    for i in range(a,b+1):\n",
    "        if Sumdigit(i) and  prime(i) :\n",
    "            cnt+=1\n",
    "    print(cnt)\n",
    "\n",
    "        \n"
   ]
  },
  {
   "cell_type": "code",
   "execution_count": 6,
   "metadata": {},
   "outputs": [
    {
     "name": "stdout",
     "output_type": "stream",
     "text": [
      "66 222 252 282 414 434 444 474 494 525 555 585 595 606 616 636 646 666 696 777 828 858 868 888 969 "
     ]
    }
   ],
   "source": [
    "#Bài 27. Số thuận nghịch có 3 ước nguyên tố\n",
    "from math import*\n",
    "def palin(n):\n",
    "    tong=0\n",
    "    while n!=0:\n",
    "        tong=tong*10+n%10\n",
    "        n//=10\n",
    "    return tong\n",
    "def demuoc(n):\n",
    "    cnt=0\n",
    "    for i in range(2,isqrt(n)+1):\n",
    "        if n%i==0:\n",
    "            cnt+=1\n",
    "            while n%i==0:\n",
    "                n//=i\n",
    "    if n>1:\n",
    "        cnt+=1\n",
    "    return cnt\n",
    "            \n",
    "    \n",
    "if __name__=='__main__':\n",
    "    a,b=map(int,input().split())\n",
    "    check=0\n",
    "    for i in range(a,b+1):\n",
    "        if palin(i)==i and demuoc(i)>=3:\n",
    "            print(i,end=' ')\n",
    "            check=1\n",
    "    if check==0:\n",
    "        print('-1')\n",
    "        \n"
   ]
  },
  {
   "cell_type": "code",
   "execution_count": 12,
   "metadata": {},
   "outputs": [
    {
     "name": "stdout",
     "output_type": "stream",
     "text": [
      "0\n"
     ]
    }
   ],
   "source": [
    "#Bài 28. Số Lộc Phát\n",
    "from math import *\n",
    "def check(n):\n",
    "    while n!=0:\n",
    "        a=n%10\n",
    "        if a!=0 and a!=6 and a!=8:\n",
    "            return False\n",
    "        n//=10\n",
    "    return True\n",
    "if __name__=='__main__':\n",
    "    n=int(input())\n",
    "    if check(n):\n",
    "        print('1')\n",
    "    else:\n",
    "        print('0')"
   ]
  },
  {
   "cell_type": "code",
   "execution_count": 15,
   "metadata": {},
   "outputs": [
    {
     "name": "stdout",
     "output_type": "stream",
     "text": [
      "161 666 "
     ]
    }
   ],
   "source": [
    "#Bài 29. Số thuận nghịch, lộc phát\n",
    "def palin(n):\n",
    "    tong=0\n",
    "    cnt=0\n",
    "    while(n!=0):\n",
    "        a=n%10\n",
    "        tong=tong*10+a\n",
    "        if a==6:\n",
    "            cnt+=1\n",
    "        n//=10\n",
    "    if cnt<1:\n",
    "        return False \n",
    "    return tong\n",
    "def sumdigit(n):\n",
    "    tong=0\n",
    "    while n!=0:\n",
    "        a=n%10\n",
    "        tong+=a\n",
    "        n//=10\n",
    "    if tong%10==8:\n",
    "        return True\n",
    "    return False\n",
    "if __name__=='__main__':\n",
    "    a,b=map(int,input().split())\n",
    "    for i in range(a,b+1):\n",
    "        if palin(i)==i and sumdigit(i):\n",
    "            print(i,end=' ')\n"
   ]
  },
  {
   "cell_type": "code",
   "execution_count": null,
   "metadata": {},
   "outputs": [],
   "source": [
    "#Bài 30. Chữ số cuối cùng lớn nhất\n",
    "from math import *\n",
    "def prime(n):\n",
    "    if n<2:\n",
    "        return False\n",
    "    for i in range(2,isqrt(n)+1):\n",
    "        if n%i==0:\n",
    "            return False\n",
    "    return True\n",
    "def compare(n):\n",
    "    a=n%10\n",
    "    n//=10\n",
    "    while n!=0:\n",
    "        b=n%10\n",
    "        if b>a:\n",
    "            return False\n",
    "        n//=10\n",
    "    return True\n",
    "if __name__=='__main__':\n",
    "    n=int(input())\n",
    "    cnt=0\n",
    "    for i in range(1,n+1):\n",
    "        if  prime(i) and compare(i) :\n",
    "            print(i,end=' ')\n",
    "            cnt+=1\n",
    "    print()\n",
    "    print(cnt)"
   ]
  },
  {
   "cell_type": "code",
   "execution_count": 26,
   "metadata": {},
   "outputs": [
    {
     "name": "stdout",
     "output_type": "stream",
     "text": [
      "NO\n"
     ]
    }
   ],
   "source": [
    "#Bài 41. Số gần thuận nghịch\n",
    "from math import *\n",
    "def palin(n):\n",
    "    tong=0\n",
    "    while n!=0:\n",
    "        tong=tong*10+n%10\n",
    "        n//=10\n",
    "    return tong\n",
    "\n",
    "def check(n):\n",
    "    a=n%10\n",
    "    b=palin(n)%10\n",
    "    c=n//10\n",
    "    c=palin(c)//10\n",
    "    if (a==2*b or b==2*a) and palin(c)==c:\n",
    "        return True\n",
    "    return False\n",
    "if __name__=='__main__':\n",
    "    n=int(input())\n",
    "    if check(n):\n",
    "        print('YES')\n",
    "    else:\n",
    "        print('NO')\n",
    "\n"
   ]
  },
  {
   "cell_type": "code",
   "execution_count": 28,
   "metadata": {},
   "outputs": [
    {
     "name": "stdout",
     "output_type": "stream",
     "text": [
      "YES\n"
     ]
    }
   ],
   "source": [
    "#Bài 45. Biểu diễn số\n",
    "from math import *\n",
    "def check(n):\n",
    "    for i in range(0,n//111 +1):\n",
    "        if (n-i*111)%11==0:\n",
    "            return True\n",
    "    return False\n",
    "if __name__=='__main__':\n",
    "    n=int(input())\n",
    "    if check(n):\n",
    "        print('YES')\n",
    "    else:\n",
    "        print('NO')"
   ]
  },
  {
   "cell_type": "code",
   "execution_count": 29,
   "metadata": {},
   "outputs": [
    {
     "name": "stdout",
     "output_type": "stream",
     "text": [
      "YES\n"
     ]
    }
   ],
   "source": [
    "#Bài 26. Số Hoàn Hảo\n",
    "from math import *\n",
    "def prime(n):\n",
    "    if n<2:\n",
    "        return False\n",
    "    for i in range (2,isqrt(n)+1):\n",
    "        if n%i==0:\n",
    "            return False\n",
    "    return True\n",
    "def perfect(n):\n",
    "    for i in range(2,33):\n",
    "        if prime(i) and prime((2**i)-1):\n",
    "            if (((2**i)-1) * (2**(i-1))) == n:\n",
    "                return True\n",
    "    return False\n",
    "if __name__=='__main__':\n",
    "    n=int(input())\n",
    "    if perfect(n):\n",
    "        print('YES')\n",
    "    else:\n",
    "        print('NO')\n"
   ]
  },
  {
   "cell_type": "code",
   "execution_count": 34,
   "metadata": {},
   "outputs": [
    {
     "name": "stdout",
     "output_type": "stream",
     "text": [
      "1\n"
     ]
    }
   ],
   "source": [
    "#Bài 32. Thừa số nguyên tố thứ K\n",
    "from math import *\n",
    "def ptsnt(n,k):\n",
    "    cnt=0\n",
    "    for i in range(2,isqrt(n)+1):\n",
    "        if n%i==0:\n",
    "            while n%i==0:\n",
    "                n//=i\n",
    "                cnt+=1\n",
    "                if cnt==k:\n",
    "                    return i\n",
    "    if n>1:\n",
    "        cnt+=1\n",
    "        if cnt == k:\n",
    "            return n\n",
    "    return -1\n",
    "if __name__=='__main__':\n",
    "    n,k=map(int,input().split())\n",
    "    print(ptsnt(n,k))\n",
    "\n",
    "            \n"
   ]
  },
  {
   "cell_type": "code",
   "execution_count": 12,
   "metadata": {},
   "outputs": [
    {
     "name": "stdout",
     "output_type": "stream",
     "text": [
      "4 8 9 16 25 27 32 36 49 "
     ]
    }
   ],
   "source": [
    "#Bài 18. Bình phương nguyên tố 1\n",
    "from math import *\n",
    "def check(n):\n",
    "    for i in range(2,isqrt(n)+1):\n",
    "        if n%i==0:\n",
    "            cnt=0\n",
    "            while n%i==0:\n",
    "                cnt+=1\n",
    "                n//=i\n",
    "            if cnt >=2:\n",
    "                return True\n",
    "    return False\n",
    "    \n",
    "if __name__=='__main__':\n",
    "    a,b=map(int,input().split())\n",
    "    for i in range(a,b+1):\n",
    "        if check(i):\n",
    "            print(i,end=' ')\n",
    "            \n",
    "\n"
   ]
  },
  {
   "cell_type": "code",
   "execution_count": 9,
   "metadata": {},
   "outputs": [
    {
     "name": "stdout",
     "output_type": "stream",
     "text": [
      "7\n"
     ]
    }
   ],
   "source": [
    "#Bài 18. Bình phương nguyên tố 2\n",
    "from math import *\n",
    "def check(n):\n",
    "    for i in range(2,isqrt(n)+1):\n",
    "        if n%i==0:\n",
    "            cnt=0\n",
    "            while n%i==0:\n",
    "                cnt+=1\n",
    "                n//=i\n",
    "            if cnt ==1:\n",
    "                return False\n",
    "    if n!=1:\n",
    "        return False\n",
    "    return True\n",
    "    \n",
    "if __name__=='__main__':\n",
    "    a,b=map(int,input().split())\n",
    "    for i in range(a,b+1):\n",
    "        if check(i):\n",
    "            print(i,end=' ')"
   ]
  },
  {
   "cell_type": "code",
   "execution_count": 13,
   "metadata": {},
   "outputs": [
    {
     "name": "stdout",
     "output_type": "stream",
     "text": [
      "3 7\n",
      "5 5\n"
     ]
    }
   ],
   "source": [
    "#Bài 5. Goldbach conjecture\n",
    "from math import *\n",
    "def prime(n):\n",
    "    if n<2:\n",
    "        return False\n",
    "    for i in range(2,isqrt(n)+1):\n",
    "        if n%i==0:\n",
    "            return False\n",
    "    return True\n",
    "if __name__=='__main__':\n",
    "    t=int(input())\n",
    "    for i in range(t):\n",
    "        n=int(input())\n",
    "        for i in range(2,n//2 +1):\n",
    "            if prime(i) and prime(n-i):\n",
    "                print(i,n-i)"
   ]
  },
  {
   "cell_type": "code",
   "execution_count": null,
   "metadata": {},
   "outputs": [],
   "source": [
    "#Bài 34. Số nguyên dương nhỏ nhất chia hết cho x, y, z.\n",
    "from math import *\n",
    "x,y,z,n=map(int,input().split())\n",
    "bcnn=lcm(lcm(x,y),z)\n",
    "#Tìm số nhỏ nhất >=10**(n-1) và chia hết cho bcnn và <10**n\n",
    "tmp=10**(n-1)\n",
    "ans=(tmp+bcnn-1)//bcnn*bcnn #công thức\n",
    "if ans <10**n:\n",
    "    print(ans)\n",
    "else:\n",
    "    print('-1')"
   ]
  },
  {
   "cell_type": "code",
   "execution_count": null,
   "metadata": {},
   "outputs": [],
   "source": [
    "#Bài 7. Cặp số nguyên tố cùng nhau\n",
    "from math import *\n",
    "def prime(n):\n",
    "    if n<2:\n",
    "        return False\n",
    "    for i in range(2,isqrt(n)+1):\n",
    "        if n%i==0:\n",
    "            return False\n",
    "    return True\n",
    "if __name__=='__main__':\n",
    "    a,b=map(int,input().split())\n",
    "    for i in range(a,b):\n",
    "        for j in range(i+1,b+1):\n",
    "            if (gcd(i,j)==1):\n",
    "                print('(',i,',',j,')',sep='')"
   ]
  },
  {
   "cell_type": "code",
   "execution_count": 20,
   "metadata": {},
   "outputs": [
    {
     "name": "stdout",
     "output_type": "stream",
     "text": [
      "1\n",
      "1\n",
      "2\n",
      "3\n",
      "5\n",
      "8\n"
     ]
    }
   ],
   "source": [
    "#Fibonacci 1\n",
    "n=int(input())\n",
    "if n==1 or n==2:\n",
    "    print(n)\n",
    "else:\n",
    "    fn2,fn1=1,1\n",
    "    print('1','1',sep='\\n')\n",
    "    for i in range(3,n+1):\n",
    "        fn=fn1+fn2\n",
    "        fn2=fn1\n",
    "        fn1=fn\n",
    "        print(fn)\n",
    "\n"
   ]
  },
  {
   "cell_type": "code",
   "execution_count": null,
   "metadata": {},
   "outputs": [],
   "source": [
    "#Số Fibonacci 2\n",
    "def check(n):\n",
    "    if n==0 or n==1:\n",
    "        return True\n",
    "    fn2,fn1=0,1\n",
    "    for i in range(2,100):\n",
    "        fn=fn1+fn2\n",
    "        fn2=fn1\n",
    "        fn1=fn\n",
    "        if fn==n:\n",
    "            return True\n",
    "    return False\n",
    "if __name__=='__main__':\n",
    "    n=int(input())\n",
    "    if check(n):\n",
    "        print('YES')\n",
    "    else:\n",
    "        print('NO')"
   ]
  },
  {
   "cell_type": "code",
   "execution_count": 32,
   "metadata": {},
   "outputs": [
    {
     "name": "stdout",
     "output_type": "stream",
     "text": [
      "21\n"
     ]
    }
   ],
   "source": [
    "#Fibonacci 3\n",
    "def check(n):\n",
    "    if n==1:\n",
    "        return 2\n",
    "    elif n==2:\n",
    "        return 3\n",
    "    fn2,fn1=1,1\n",
    "    for i in range(3,100):\n",
    "        fn=fn1+fn2\n",
    "        fn2=fn1\n",
    "        fn1=fn\n",
    "        if fn>=n:\n",
    "            return fn\n",
    "if __name__=='__main__':\n",
    "    n=int(input())\n",
    "    print(check(n))\n",
    "      "
   ]
  },
  {
   "cell_type": "code",
   "execution_count": 33,
   "metadata": {},
   "outputs": [
    {
     "name": "stdout",
     "output_type": "stream",
     "text": [
      "2 3 5 11 17 23 41 53 67 71 101 107 113 "
     ]
    }
   ],
   "source": [
    "#Fibonacci 4\n",
    "from math import *\n",
    "def check(n):\n",
    "    if n==0 or n==1:\n",
    "        return True\n",
    "    fn2,fn1=0,1\n",
    "    for i in range(2,100):\n",
    "        fn=fn1+fn2\n",
    "        fn2=fn1\n",
    "        fn1=fn\n",
    "        if fn==n:\n",
    "            return True\n",
    "    return False\n",
    "def prime(n):\n",
    "    if n<2:\n",
    "        return False\n",
    "    for i in range(2,isqrt(n)+1):\n",
    "        if n%i==0:\n",
    "            return False\n",
    "    return True\n",
    "def tong(n):\n",
    "    tong=0\n",
    "    while n!=0:\n",
    "        tong+=n%10\n",
    "        n//=10\n",
    "    return check(tong)\n",
    "if __name__=='__main__':\n",
    "    n=int(input())\n",
    "    for i in range(2,n+1):\n",
    "        if prime(i) and tong(i):\n",
    "            print(i,end=' ')"
   ]
  },
  {
   "cell_type": "code",
   "execution_count": 34,
   "metadata": {},
   "outputs": [
    {
     "name": "stdout",
     "output_type": "stream",
     "text": [
      "YES\n",
      "NO\n",
      "NO\n",
      "YES\n",
      "NO\n"
     ]
    }
   ],
   "source": [
    "#Fibonacci 5\n",
    "from math import *\n",
    "def check(n):\n",
    "    if n==0 or n==1:\n",
    "        return True\n",
    "    fn2,fn1=0,1\n",
    "    for i in range(2,100):\n",
    "        fn=fn1+fn2\n",
    "        fn2=fn1\n",
    "        fn1=fn\n",
    "        if fn==n:\n",
    "            return True\n",
    "    return False\n",
    "if __name__=='__main__':\n",
    "    n=int(input())\n",
    "    for i in range(n):\n",
    "        a=int(input())\n",
    "        if check(a):\n",
    "            print('YES')\n",
    "        else:\n",
    "            print('NO')"
   ]
  }
 ],
 "metadata": {
  "kernelspec": {
   "display_name": "Python 3",
   "language": "python",
   "name": "python3"
  },
  "language_info": {
   "codemirror_mode": {
    "name": "ipython",
    "version": 3
   },
   "file_extension": ".py",
   "mimetype": "text/x-python",
   "name": "python",
   "nbconvert_exporter": "python",
   "pygments_lexer": "ipython3",
   "version": "3.10.8"
  },
  "orig_nbformat": 4
 },
 "nbformat": 4,
 "nbformat_minor": 2
}
