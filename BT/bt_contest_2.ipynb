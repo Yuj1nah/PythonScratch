{
 "cells": [
  {
   "cell_type": "code",
   "execution_count": 45,
   "metadata": {},
   "outputs": [
    {
     "name": "stdout",
     "output_type": "stream",
     "text": [
      "1 2 3 4 5 \n",
      "5 4 3 2 1 0 \n",
      "0 2 4 \n",
      "1 3 5 \n",
      "0 4 \n",
      "a b c d e \n",
      "v w x y z "
     ]
    }
   ],
   "source": [
    "#Bài 1\n",
    "n=int(input())\n",
    "for i in range(1,n+1):\n",
    "    print(i,end=' ') \n",
    "print()\n",
    "for i in range(n,-1,-1):\n",
    "    print(i,end=' ')\n",
    "print()\n",
    "for i in range(n+1):\n",
    "    if i%2==0:\n",
    "        if i<=n:\n",
    "            print(i,end=' ')\n",
    "print()\n",
    "for i in range(n+1):\n",
    "    if i%2!=0:\n",
    "        if i<=n:\n",
    "            print(i,end=' ')\n",
    "print()\n",
    "for i in range(n+1):\n",
    "    if(i%4==0):\n",
    "        if i<n:\n",
    "            print(i,end=' ')\n",
    "print()\n",
    "for i in range(n):\n",
    "    print(chr(i+97),end=' ')\n",
    "print()\n",
    "for i in range(n,0,-1):\n",
    "    print(chr(123-i),end=' ')\n"
   ]
  },
  {
   "cell_type": "code",
   "execution_count": 48,
   "metadata": {},
   "outputs": [
    {
     "name": "stdout",
     "output_type": "stream",
     "text": [
      "21\n"
     ]
    }
   ],
   "source": [
    "#Bài 2: TÍnh tổng các số tự nhiên\n",
    "n=int(input())\n",
    "tong=0\n",
    "for i in range(n+1):\n",
    "    tong+=i\n",
    "print(tong)"
   ]
  },
  {
   "cell_type": "code",
   "execution_count": 49,
   "metadata": {},
   "outputs": [
    {
     "name": "stdout",
     "output_type": "stream",
     "text": [
      "14\n"
     ]
    }
   ],
   "source": [
    "#Bài 3: Tổng bình phương\n",
    "n=int(input())\n",
    "tong=0\n",
    "for i in range(n+1):\n",
    "    tong+=i*i\n",
    "print(tong)"
   ]
  },
  {
   "cell_type": "code",
   "execution_count": 52,
   "metadata": {},
   "outputs": [
    {
     "name": "stdout",
     "output_type": "stream",
     "text": [
      "18\n"
     ]
    }
   ],
   "source": [
    "#Bài 4: Tổng bội của 3\n",
    "n=int(input())\n",
    "tong=0\n",
    "for i in range(n+1):\n",
    "    if i%3==0:\n",
    "        tong+=i\n",
    "print(tong)"
   ]
  },
  {
   "cell_type": "code",
   "execution_count": 9,
   "metadata": {},
   "outputs": [
    {
     "name": "stdout",
     "output_type": "stream",
     "text": [
      "56\n"
     ]
    }
   ],
   "source": [
    "#Bài 6 tổng ước:\n",
    "from math import *\n",
    "tong=0\n",
    "n=int(input())\n",
    "for i in range(1,isqrt(n)+1):\n",
    "    if n%i==0:\n",
    "        tong+=i\n",
    "        if i!=n//i:\n",
    "            tong+=n//i\n",
    "print(tong)"
   ]
  },
  {
   "cell_type": "code",
   "execution_count": 12,
   "metadata": {},
   "outputs": [
    {
     "name": "stdout",
     "output_type": "stream",
     "text": [
      "6\n",
      "1 2 4 7 14 28 "
     ]
    }
   ],
   "source": [
    "#Bài 7: Đếm số lượng ước và liệt kê tăng dần\n",
    "from math import *\n",
    "tong=0\n",
    "n=int(input())\n",
    "for i in range(1,n+1):\n",
    "    if n%i==0:\n",
    "        tong+=1\n",
    "print(tong)\n",
    "for i in range(1,n+1):\n",
    "    if n%i==0:\n",
    "        print(i,end=' ')\n"
   ]
  },
  {
   "cell_type": "code",
   "execution_count": 24,
   "metadata": {},
   "outputs": [
    {
     "name": "stdout",
     "output_type": "stream",
     "text": [
      "1 4 9 16 25 36 49 "
     ]
    }
   ],
   "source": [
    "#Bài 8: Liệt kê số chính phương\n",
    "from math import *\n",
    "n=int(input())\n",
    "for i in range(1,isqrt(n)+1):\n",
    "    print(i*i,end=' ')"
   ]
  },
  {
   "cell_type": "code",
   "execution_count": 25,
   "metadata": {},
   "outputs": [
    {
     "name": "stdout",
     "output_type": "stream",
     "text": [
      "100\n"
     ]
    }
   ],
   "source": [
    "#Bài 9 Tính tích các ước\n",
    "from math import *\n",
    "n=int(input())\n",
    "tich=1\n",
    "for i in range(1,isqrt(n)+1):\n",
    "    if n%i==0:\n",
    "        tich*=i\n",
    "        if i!=n//i: #tránh việc bị trùng giữa i và n//i vì sẽ nhân 2 lần\n",
    "            tich*=n//i  \n",
    "print(tich)\n"
   ]
  },
  {
   "cell_type": "code",
   "execution_count": 2,
   "metadata": {},
   "outputs": [
    {
     "name": "stdout",
     "output_type": "stream",
     "text": [
      "YES\n"
     ]
    }
   ],
   "source": [
    "#Kiểm tra sô 2022\n",
    "n=int(input())\n",
    "a=list(map(int,input().split())) #Khởi tạo list để lưu các số vào giống như mảng bên C\n",
    "if 2022 in a:\n",
    "    print('YES')\n",
    "else:\n",
    "    print('NO')\n"
   ]
  },
  {
   "cell_type": "code",
   "execution_count": 14,
   "metadata": {},
   "outputs": [
    {
     "name": "stdout",
     "output_type": "stream",
     "text": [
      "5\n"
     ]
    }
   ],
   "source": [
    "#Bài 11: Tổng chẵn lẽ \n",
    "from math import *\n",
    "n=int(input())\n",
    "tong=0\n",
    "for i in range(1,n+1):\n",
    "    a=((-1)**i)*i\n",
    "    tong+=a\n",
    "print(tong)"
   ]
  },
  {
   "cell_type": "code",
   "execution_count": 15,
   "metadata": {},
   "outputs": [
    {
     "name": "stdout",
     "output_type": "stream",
     "text": [
      "2\n"
     ]
    }
   ],
   "source": [
    "#Bài 12: Tổng bội 2\n",
    "from math import *\n",
    "n=int(input())\n",
    "tong=0\n",
    "for i in range(1,n+1):\n",
    "    tong+=i*2\n",
    "print(tong)"
   ]
  },
  {
   "cell_type": "code",
   "execution_count": 19,
   "metadata": {},
   "outputs": [
    {
     "name": "stdout",
     "output_type": "stream",
     "text": [
      "16\n"
     ]
    }
   ],
   "source": [
    "#Bài 13: Tổng chữ số lẻ\n",
    "from math import *\n",
    "n=int(input())\n",
    "tong=0\n",
    "for i in range(1,n+1):\n",
    "    tong+=2*i-1\n",
    "print(tong)\n"
   ]
  },
  {
   "cell_type": "code",
   "execution_count": 20,
   "metadata": {},
   "outputs": [
    {
     "name": "stdout",
     "output_type": "stream",
     "text": [
      "36\n"
     ]
    }
   ],
   "source": [
    "#Bài 14: Tổng lập phương\n",
    "n=int(input())\n",
    "tong=0\n",
    "for i in range(1,n+1):\n",
    "    tong+=i**3\n",
    "print(tong)"
   ]
  },
  {
   "cell_type": "code",
   "execution_count": 22,
   "metadata": {},
   "outputs": [
    {
     "name": "stdout",
     "output_type": "stream",
     "text": [
      "120\n"
     ]
    }
   ],
   "source": [
    "#Bài 15: Tính giai thừa\n",
    "n=int(input())\n",
    "tich=1\n",
    "if n==0:\n",
    "    print('1')\n",
    "else:\n",
    "    for i in range(1,n+1):\n",
    "        tich*=i\n",
    "print(tich)\n"
   ]
  },
  {
   "cell_type": "code",
   "execution_count": 25,
   "metadata": {},
   "outputs": [
    {
     "name": "stdout",
     "output_type": "stream",
     "text": [
      "3\n"
     ]
    }
   ],
   "source": [
    "#Bài 16: Đếm số lượng chữ số n\n",
    "n=int(input())\n",
    "count=0\n",
    "if n==0:\n",
    "    print('1')\n",
    "else:\n",
    "    while n!=0:\n",
    "        n//=10\n",
    "        count+=1\n",
    "    print(count)\n"
   ]
  },
  {
   "cell_type": "code",
   "execution_count": 26,
   "metadata": {},
   "outputs": [
    {
     "name": "stdout",
     "output_type": "stream",
     "text": [
      "11\n"
     ]
    }
   ],
   "source": [
    "#Bài 17: Tính tổng các chữ số n\n",
    "n=int(input())\n",
    "tong=0\n",
    "while n!=0:\n",
    "    tong+=n%10\n",
    "    n//=10\n",
    "print(tong)\n"
   ]
  },
  {
   "cell_type": "code",
   "execution_count": 44,
   "metadata": {},
   "outputs": [
    {
     "name": "stdout",
     "output_type": "stream",
     "text": [
      "6\n"
     ]
    }
   ],
   "source": [
    "#Bài 18: Đếm số lượng chữ số nguyên tố\n",
    "n=int(input())\n",
    "count=0\n",
    "while n!=0:\n",
    "    a=n%10\n",
    "    if a==2 or a==3 or a==5 or a==7:\n",
    "        count+=1\n",
    "    n//=10\n",
    "\n",
    "print(count)"
   ]
  },
  {
   "cell_type": "code",
   "execution_count": null,
   "metadata": {},
   "outputs": [],
   "source": [
    "#Bài 19: Mua bia\n",
    "n=int(input())\n",
    "count=n//28\n",
    "beers=count\n",
    "while beers>=3:\n",
    "    tmp=beers//3\n",
    "    count+=tmp\n",
    "    beers=beers%3+tmp\n",
    "print(count)"
   ]
  },
  {
   "cell_type": "code",
   "execution_count": null,
   "metadata": {},
   "outputs": [],
   "source": [
    "#Bài 20: Biểu diễn số nguyên\n",
    "n=int(input())\n",
    "count=n//2\n",
    "if n<=1:\n",
    "    print('-1')\n",
    "else:\n",
    "    if n%2==0:\n",
    "        print(count)\n",
    "        for i in range(n//2):\n",
    "            print('2',end=' ')\n",
    "    else:\n",
    "        print(count)\n",
    "        for i in range((n//2)-1):\n",
    "            print('2',end=' ')\n",
    "        print('3')\n"
   ]
  },
  {
   "cell_type": "code",
   "execution_count": null,
   "metadata": {},
   "outputs": [],
   "source": [
    "#Bài 21 Vẽ hình 1\n",
    "n=int(input())\n",
    "for i in range(n):\n",
    "    for j in range(n):\n",
    "        print('*',end='')\n",
    "    print()\n",
    "print()\n",
    "for i in range(n):\n",
    "    for j in range(n):\n",
    "        if i==0 or i==n-1 or j==0 or j==n-1:\n",
    "            print('*',end='')\n",
    "        else:\n",
    "            print(' ',end='')\n",
    "    print()\n",
    "print()\n",
    "for i in range(n):\n",
    "    for j in range(n):\n",
    "        if i==0 or i==n-1 or j==0 or j==n-1:\n",
    "            print('*',end='')\n",
    "        else:\n",
    "            print('#',end='')\n",
    "    print()\n",
    "print()\n",
    "for i in range(1,n+1):\n",
    "    for j in range(1,n+1):\n",
    "        if i==1 or i==n or j==1 or j==n:\n",
    "            print(i,end=' ')\n",
    "        else:\n",
    "            print(' ',end=' ')\n",
    "    print()\n"
   ]
  },
  {
   "cell_type": "code",
   "execution_count": null,
   "metadata": {},
   "outputs": [],
   "source": [
    "#Bài 23: vẽ hình 2\n",
    "n=5\n",
    "for i in range(n):\n",
    "    for j in range(i+1):\n",
    "        print('*',end='')\n",
    "    print()\n",
    "print()\n",
    "for i in range(n,0,-1):\n",
    "    for j in range(i):\n",
    "        print('*',end='')\n",
    "    print()\n",
    "print()\n",
    "for i in range(1,n+1):\n",
    "    for j in range(1,n+1):\n",
    "        if j<=n-i:\n",
    "            print(' ',end='')\n",
    "        else:\n",
    "            print('*',end='')\n",
    "    print()\n",
    "print()\n",
    "for i in range(1,n+1):\n",
    "    for j in range(1,n+1):\n",
    "        if j<i:\n",
    "            print(' ',end='')\n",
    "        else:\n",
    "            print('*',end='')\n",
    "    print()\n",
    "print()\n",
    "for i in range(1,n+1):\n",
    "    for j in range(1,i+1):\n",
    "        if i==1 or i==n or j==1 or j==i:\n",
    "            print('*',end='')\n",
    "        else:\n",
    "            print(' ',end='')\n",
    "    print()\n",
    "print()"
   ]
  },
  {
   "cell_type": "code",
   "execution_count": null,
   "metadata": {},
   "outputs": [],
   "source": [
    "#Bài 23: Vẽ hình 3\n",
    "n=int(input())\n",
    "dem=1\n",
    "for i in range(1,n+1):\n",
    "    for j in range(1,n+1):\n",
    "        print(dem,end=' ')\n",
    "        dem+=1\n",
    "    print()\n",
    "print()\n",
    "for i in range(1,n+1):\n",
    "    ktao=i\n",
    "    for j in range(1,n+1):\n",
    "        print(ktao,end=' ')\n",
    "        ktao+=1\n",
    "    print()\n",
    "print()\n",
    "for i in range(1,n+1):\n",
    "    for j in range(1,n+1):\n",
    "        if j<=n-i:\n",
    "            print('~',end='')\n",
    "        else:\n",
    "            print(i,end='')\n",
    "    print()\n",
    "print()\n",
    "for i in range(1,n+1):\n",
    "    ktao=i\n",
    "    kcach=n-1\n",
    "    for j in range(i):\n",
    "        print(ktao,end=' ')\n",
    "        ktao+=kcach\n",
    "        kcach-=1\n",
    "    print()\n"
   ]
  },
  {
   "cell_type": "code",
   "execution_count": 51,
   "metadata": {},
   "outputs": [
    {
     "name": "stdout",
     "output_type": "stream",
     "text": [
      "2\n"
     ]
    }
   ],
   "source": [
    "#Bài 24: Tìm ucln\n",
    "from math import *\n",
    "a,b=map(int,input().split())\n",
    "print(factorial(min(a,b)))"
   ]
  },
  {
   "cell_type": "code",
   "execution_count": 60,
   "metadata": {},
   "outputs": [
    {
     "name": "stdout",
     "output_type": "stream",
     "text": [
      "2.7183\n"
     ]
    }
   ],
   "source": [
    "#Bài 25:Thương giai thừa\n",
    "from math import *\n",
    "n=int(input())\n",
    "tong=0\n",
    "for i in range(n):\n",
    "    tong+=1/factorial(i)\n",
    "print('{:.4f}'.format(tong))"
   ]
  },
  {
   "cell_type": "code",
   "execution_count": 68,
   "metadata": {},
   "outputs": [
    {
     "name": "stdout",
     "output_type": "stream",
     "text": [
      "YES\n"
     ]
    }
   ],
   "source": [
    "#Bài 26: Giải phương trình\n",
    "a,b,n=map(int,input().split())\n",
    "check=0\n",
    "for i in range(0,(n//a)+1):\n",
    "    tmp=n-i*a\n",
    "    if tmp%b==0:\n",
    "        check = 1\n",
    "if check==1:\n",
    "    print('YES')\n",
    "else:\n",
    "    print('NO')"
   ]
  },
  {
   "cell_type": "code",
   "execution_count": 75,
   "metadata": {},
   "outputs": [
    {
     "name": "stdout",
     "output_type": "stream",
     "text": [
      "3\n"
     ]
    }
   ],
   "source": [
    "#Bài 27: Digital root\n",
    "n=int(input())\n",
    "while n>=10:\n",
    "    tong=0\n",
    "    while n!=0:\n",
    "        tong+=n%10\n",
    "        n//=10\n",
    "    n=tong\n",
    "print(tong)\n"
   ]
  },
  {
   "cell_type": "code",
   "execution_count": 78,
   "metadata": {},
   "outputs": [
    {
     "name": "stdout",
     "output_type": "stream",
     "text": [
      "24\n"
     ]
    }
   ],
   "source": [
    "#Bài 29: Tổng chẵn\n",
    "n=int(input())\n",
    "a=list(map(int,input().split()))\n",
    "tong=0\n",
    "for i in a:\n",
    "    if i%2==0:\n",
    "        tong+=i\n",
    "print(tong)"
   ]
  },
  {
   "cell_type": "code",
   "execution_count": 81,
   "metadata": {},
   "outputs": [
    {
     "name": "stdout",
     "output_type": "stream",
     "text": [
      "EVEN\n",
      "ODD\n",
      "ODD\n"
     ]
    }
   ],
   "source": [
    "#Bài 30: Test case\n",
    "n=int(input())\n",
    "for i in range(n):\n",
    "    t=int(input())\n",
    "    if t%2==0:\n",
    "        print('EVEN')\n",
    "    else:\n",
    "        print('ODD')"
   ]
  }
 ],
 "metadata": {
  "kernelspec": {
   "display_name": "Python 3",
   "language": "python",
   "name": "python3"
  },
  "language_info": {
   "codemirror_mode": {
    "name": "ipython",
    "version": 3
   },
   "file_extension": ".py",
   "mimetype": "text/x-python",
   "name": "python",
   "nbconvert_exporter": "python",
   "pygments_lexer": "ipython3",
   "version": "3.10.8"
  },
  "orig_nbformat": 4
 },
 "nbformat": 4,
 "nbformat_minor": 2
}
