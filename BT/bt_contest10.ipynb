{
 "cells": [
  {
   "cell_type": "code",
   "execution_count": 6,
   "metadata": {},
   "outputs": [
    {
     "name": "stdout",
     "output_type": "stream",
     "text": [
      "5 3 5\n"
     ]
    }
   ],
   "source": [
    "#Bài 1. Đếm số loại ký tự trong xâu.\n",
    "s=input()\n",
    "digit=0\n",
    "alpha=0\n",
    "kt=0\n",
    "for i in s:\n",
    "    if i.isdigit():\n",
    "        digit+=1\n",
    "    elif i.isalpha():\n",
    "        alpha+=1\n",
    "    else:\n",
    "        kt+=1\n",
    "print(alpha,digit,kt)"
   ]
  },
  {
   "cell_type": "code",
   "execution_count": 7,
   "metadata": {},
   "outputs": [
    {
     "name": "stdout",
     "output_type": "stream",
     "text": [
      "ABCD ABCD\n",
      "abcd abcd\n"
     ]
    }
   ],
   "source": [
    "#Bài 2. In hoa, in thường.\n",
    "s=input()\n",
    "print(s.upper())\n",
    "print(s.lower())"
   ]
  },
  {
   "cell_type": "code",
   "execution_count": null,
   "metadata": {},
   "outputs": [],
   "source": [
    "#Bài 3. Tần suất xuất hiện của ký tự\n",
    "from collections import Counter\n",
    "s=input()\n",
    "b=list(dict(Counter(s)).items())\n",
    "for x,y in sorted(b):\n",
    "    print(x,y)\n",
    "print()\n",
    "for x,y in b:\n",
    "    print(x,y)\n"
   ]
  },
  {
   "cell_type": "code",
   "execution_count": 42,
   "metadata": {},
   "outputs": [
    {
     "name": "stdout",
     "output_type": "stream",
     "text": [
      "W 6\n",
      "w 1\n"
     ]
    }
   ],
   "source": [
    "#Bài 4. Ký tự xuất hiện nhiều nhất trong xâu.\n",
    "from collections import Counter\n",
    "s=input()\n",
    "b=dict(Counter(s)).items()\n",
    "max_val,min_val=0,10**18\n",
    "res1,res2=' ',' '\n",
    "for x,y in sorted(b):\n",
    "    if y>=max_val:\n",
    "        max_val=y\n",
    "        res1=x\n",
    "    elif y<=min_val:\n",
    "        min_val=y\n",
    "        res2=x\n",
    "print(res1,max_val)\n",
    "print(res2,min_val)"
   ]
  },
  {
   "cell_type": "code",
   "execution_count": 56,
   "metadata": {},
   "outputs": [
    {
     "name": "stdout",
     "output_type": "stream",
     "text": [
      "Oh\n",
      "BGJNORSTUZbhknotv"
     ]
    }
   ],
   "source": [
    "#Bài 5. Ký tự xuất hiện ở cả 2 xâu.\n",
    "a=input()\n",
    "b=input()\n",
    "s1=set(a)\n",
    "s2=set(b)\n",
    "s3=s1&s2\n",
    "for i in sorted(s3):\n",
    "    print(i,end='')\n",
    "s4=s1|s2\n",
    "print()\n",
    "for i in sorted(s4):\n",
    "    print(i,end='')"
   ]
  },
  {
   "cell_type": "code",
   "execution_count": 58,
   "metadata": {},
   "outputs": [
    {
     "name": "stdout",
     "output_type": "stream",
     "text": [
      "AIOTfsx\n",
      "LRVYakw"
     ]
    }
   ],
   "source": [
    "#Bài 6. Ký tự xuất hiện ở 2 xâu 2.\n",
    "a=input()\n",
    "b=input()\n",
    "s1=set(a)\n",
    "s2=set(b)\n",
    "s3=s1-s2\n",
    "s4=s2-s1\n",
    "for i in sorted(s3):\n",
    "    print(i,end='')\n",
    "print()\n",
    "for i in sorted(s4):\n",
    "    print(i,end='')"
   ]
  },
  {
   "cell_type": "code",
   "execution_count": 68,
   "metadata": {},
   "outputs": [
    {
     "name": "stdout",
     "output_type": "stream",
     "text": [
      "YES\n"
     ]
    }
   ],
   "source": [
    "#Bài 7. Xâu đối xứng\n",
    "a=input()\n",
    "tong=''\n",
    "for i in a[::-1]:\n",
    "    tong+=i\n",
    "if tong==a:\n",
    "    print('YES')\n",
    "else:\n",
    "    print('NO')\n"
   ]
  },
  {
   "cell_type": "code",
   "execution_count": 71,
   "metadata": {},
   "outputs": [
    {
     "name": "stdout",
     "output_type": "stream",
     "text": [
      "NO\n",
      "NO\n"
     ]
    },
    {
     "ename": "",
     "evalue": "",
     "output_type": "error",
     "traceback": [
      "\u001b[1;31mThe Kernel crashed while executing code in the the current cell or a previous cell. Please review the code in the cell(s) to identify a possible cause of the failure. Click <a href='https://aka.ms/vscodeJupyterKernelCrash'>here</a> for more info. View Jupyter <a href='command:jupyter.viewOutput'>log</a> for further details."
     ]
    }
   ],
   "source": [
    "#Bài 8. Xâu pangram 1\n",
    "a=input()\n",
    "i=97\n",
    "b=set(a.lower())\n",
    "cnt=0\n",
    "while i<=122:\n",
    "    for x in sorted(b):\n",
    "        if ord(x)<=122:\n",
    "            cnt+=1\n",
    "            i+=1\n",
    "if cnt==26:\n",
    "    print('YES')\n",
    "else:\n",
    "    print('NO')"
   ]
  },
  {
   "cell_type": "code",
   "execution_count": 4,
   "metadata": {},
   "outputs": [
    {
     "name": "stdout",
     "output_type": "stream",
     "text": [
      "6\n"
     ]
    }
   ],
   "source": [
    "#Bài 9. Đếm số lượng từ trong xâu\n",
    "a=input()\n",
    "b=a.split()\n",
    "print(len(b))"
   ]
  },
  {
   "cell_type": "code",
   "execution_count": 15,
   "metadata": {},
   "outputs": [
    {
     "name": "stdout",
     "output_type": "stream",
     "text": [
      "java php python \n",
      "python java php "
     ]
    }
   ],
   "source": [
    "#Bài 10. Liệt kê các từ khác nhau trong xâu.\n",
    "from collections import Counter\n",
    "a=input()\n",
    "b=a.split()\n",
    "s1=set(b)\n",
    "for i in sorted(s1):\n",
    "    print(i,end=' ')\n",
    "print()\n",
    "s2=dict(Counter(b)).keys()\n",
    "for x in s2:\n",
    "    print(x,end=' ')"
   ]
  },
  {
   "cell_type": "code",
   "execution_count": 24,
   "metadata": {},
   "outputs": [
    {
     "name": "stdout",
     "output_type": "stream",
     "text": [
      "hoc lap php trinh\n",
      "\n",
      "hoc lap php trinh\n"
     ]
    }
   ],
   "source": [
    "#Bài 11. Sắp xếp các từ trong xâu 1\n",
    "a=input()\n",
    "b=a.split()\n",
    "print(' '.join(sorted(b)))\n",
    "b.sort(key=lambda x:(len(x),x))\n",
    "print(' '.join(b))"
   ]
  },
  {
   "cell_type": "code",
   "execution_count": 31,
   "metadata": {},
   "outputs": [
    {
     "name": "stdout",
     "output_type": "stream",
     "text": [
      "php aba pop aaaa\n"
     ]
    }
   ],
   "source": [
    "#Bài 12. Sắp xếp các từ trong xâu 2\n",
    "def palin(n):\n",
    "    tong=''\n",
    "    for i in n[::-1]:\n",
    "        tong+=i\n",
    "    return tong==n\n",
    "if __name__=='__main__':\n",
    "    n=input()\n",
    "    s=n.split()\n",
    "    se=set({})\n",
    "    b=[]\n",
    "    for x in s:\n",
    "        if palin(x) and x not in se:\n",
    "            se.add(x)\n",
    "            b.append(x)\n",
    "    b.sort(key=lambda x:len(x))\n",
    "    print(' '.join(b))"
   ]
  },
  {
   "cell_type": "code",
   "execution_count": 34,
   "metadata": {},
   "outputs": [
    {
     "name": "stdout",
     "output_type": "stream",
     "text": [
      "aa 2\n",
      "bb 3\n",
      "cc 2\n",
      "\n",
      "bb 3\n",
      "aa 2\n",
      "cc 2\n"
     ]
    }
   ],
   "source": [
    "#Bài 13. Tần suất các từ xuất hiện trong xâu.\n",
    "from collections import Counter\n",
    "n=input()\n",
    "s=n.split()\n",
    "b=dict(Counter(s)).items()\n",
    "for x,y in sorted(b):\n",
    "    print(x,y)\n",
    "print()\n",
    "for x,y in b:\n",
    "    print(x,y)"
   ]
  },
  {
   "cell_type": "code",
   "execution_count": 43,
   "metadata": {},
   "outputs": [
    {
     "name": "stdout",
     "output_type": "stream",
     "text": [
      "aa 4 \n",
      "cc 2\n"
     ]
    }
   ],
   "source": [
    "#Bài 14. Từ xuất hiện nhiều nhất, ít nhất\n",
    "from collections import Counter\n",
    "n=input()\n",
    "a=n.split()\n",
    "min_val,max_val=10**18,0\n",
    "s=dict(Counter(a)).items()\n",
    "\n",
    "res1,res2=' ',' '\n",
    "for x,y in sorted(s):\n",
    "    if y>=max_val:\n",
    "        max_val=y\n",
    "        res1=x\n",
    "    if y<=min_val:\n",
    "        min_val=y\n",
    "        res2=x\n",
    "print('%s %d \\n%s %d'%(res1,max_val,res2,min_val))"
   ]
  },
  {
   "cell_type": "code",
   "execution_count": 45,
   "metadata": {},
   "outputs": [
    {
     "name": "stdout",
     "output_type": "stream",
     "text": [
      "YES\n"
     ]
    }
   ],
   "source": [
    "#Bài 15. Kiểm tra xâu con\n",
    "s=input()\n",
    "t=input()\n",
    "if s in t or t in s:\n",
    "    print('YES')\n",
    "else:\n",
    "    print('NO')"
   ]
  },
  {
   "cell_type": "code",
   "execution_count": 2,
   "metadata": {},
   "outputs": [
    {
     "name": "stdout",
     "output_type": "stream",
     "text": [
      "Le Huu Hung\n",
      "09/09/2021\n"
     ]
    }
   ],
   "source": [
    "#Bài 16. Chuẩn hóa tên 1\n",
    "a=input()\n",
    "b=input()\n",
    "s=a.split()\n",
    "print(' '.join(s).title())\n",
    "if b[1]=='/':\n",
    "    b='0' + b\n",
    "if b[4]=='/':\n",
    "        b=b[0:3]+'0'+b[3:]\n",
    "print(b)"
   ]
  },
  {
   "cell_type": "code",
   "execution_count": 58,
   "metadata": {},
   "outputs": [
    {
     "name": "stdout",
     "output_type": "stream",
     "text": [
      "Hoang Dinh, NAM\n",
      "NAM, Hoang Dinh\n"
     ]
    }
   ],
   "source": [
    "# Bài 17. Chuẩn hóa tên 2\n",
    "s=input()\n",
    "a=s.split()\n",
    "a[-1]=a[-1].upper()\n",
    "for i in range(0,len(a)-1):\n",
    "    a[i]=a[i].title()\n",
    "for i in range(0,len(a)-1):\n",
    "    if i!=len(a)-2:\n",
    "        print(a[i],end=' ')\n",
    "    else:\n",
    "        print(a[i],end=', ')\n",
    "print(a[-1])\n",
    "print(a[-1],end=', ')\n",
    "print(' '.join(a[0:-1]))"
   ]
  },
  {
   "cell_type": "code",
   "execution_count": 69,
   "metadata": {},
   "outputs": [
    {
     "name": "stdout",
     "output_type": "stream",
     "text": [
      "namnv@xyz.edu.vn\n",
      "2272002"
     ]
    }
   ],
   "source": [
    "#Bài 18. Tạo email và mật khẩu.\n",
    "n=int(input())\n",
    "for _ in range(n):\n",
    "    a=input().lower()\n",
    "    s=a.split()\n",
    "    mk=s[-1]\n",
    "    print(s[-2],end='')\n",
    "    for i in range(0,len(s)-2):\n",
    "        print(s[i][0],end='')\n",
    "    print('@xyz.edu.vn')\n",
    "    s1=mk.split('/')\n",
    "    for i in s1:\n",
    "        print(int(i),end='')\n",
    "    print()\n"
   ]
  },
  {
   "cell_type": "code",
   "execution_count": 74,
   "metadata": {},
   "outputs": [
    {
     "name": "stdout",
     "output_type": "stream",
     "text": [
      "longnv@xyz.edu.vn\n",
      "20102002\n",
      "longnv@xyz.edu.vn\n",
      "20122002\n",
      "longnv@xyz.edu.vn\n",
      "22122003\n",
      "namhv@xyz.edu.vn\n",
      "1792002\n"
     ]
    }
   ],
   "source": [
    "#Bài 19. Tạo email và mật khẩu 2.\n",
    "n=int(input())\n",
    "d=dict({})\n",
    "for _ in range(n):\n",
    "    a=input().lower()\n",
    "    s=a.split()\n",
    "    mk=s[-1]\n",
    "    email=s[-2]\n",
    "    for i in range(len(s)-2):\n",
    "        email+=s[i][0]\n",
    "    if email in d:\n",
    "        d[email]+=1\n",
    "        print(email,d[email],'@xyz.edu.vn',sep='')\n",
    "    else:\n",
    "        d[email]=1\n",
    "        print(email+'@xyz.edu.vn',sep='')\n",
    "    s1=mk.split('/')\n",
    "    for i in s1:\n",
    "        print(int(i),end='')\n",
    "    print()"
   ]
  },
  {
   "cell_type": "code",
   "execution_count": 82,
   "metadata": {},
   "outputs": [
    {
     "name": "stdout",
     "output_type": "stream",
     "text": [
      "YES\n"
     ]
    }
   ],
   "source": [
    "#Bài 20. Ngôn ngữ lập trình Python.\n",
    "a=input()\n",
    "b='python'\n",
    "i=0\n",
    "for x in a:\n",
    "    if x == b[i]:\n",
    "        i+=1\n",
    "    if i==6:\n",
    "        print('YES')\n",
    "        exit()\n",
    "print('NO')\n",
    "\n"
   ]
  },
  {
   "cell_type": "code",
   "execution_count": 4,
   "metadata": {},
   "outputs": [
    {
     "name": "stdout",
     "output_type": "stream",
     "text": [
      "abc abcd "
     ]
    }
   ],
   "source": [
    "#Bài 21. Tập từ chung của 2 xâu\n",
    "a=input().lower()\n",
    "s1=set(a.split())\n",
    "b=input().lower()\n",
    "s2=set(b.split())\n",
    "for i in sorted(s1):\n",
    "    if i in s2:\n",
    "        print(i,end=' ')"
   ]
  },
  {
   "cell_type": "code",
   "execution_count": null,
   "metadata": {},
   "outputs": [],
   "source": [
    "#Bài 22. Tập từ riêng của 2 xâu.\n",
    "a=input().lower()\n",
    "s1=set(a.split())\n",
    "b=input().lower()\n",
    "s2=set(b.split())\n",
    "for i in sorted(s1):\n",
    "    if i not in s2:\n",
    "        print(i,end=' ')"
   ]
  },
  {
   "cell_type": "code",
   "execution_count": 12,
   "metadata": {},
   "outputs": [
    {
     "name": "stdout",
     "output_type": "stream",
     "text": [
      "abcdabcabaa\n"
     ]
    }
   ],
   "source": [
    "#Bài 23. Ghép xâu\n",
    "from functools import cmp_to_key\n",
    "def comp(a,b):\n",
    "    ab=a+b\n",
    "    ba=b+a\n",
    "    if ab>ba:\n",
    "        return -1\n",
    "    else:\n",
    "        return 1\n",
    "if __name__=='__main__':\n",
    "    n=int(input())\n",
    "    a=input().split()\n",
    "    a.sort(key=cmp_to_key(comp))\n",
    "    print(''.join(a))"
   ]
  },
  {
   "cell_type": "code",
   "execution_count": null,
   "metadata": {},
   "outputs": [],
   "source": [
    "#Bài 24. Xâu có đầu cuối giống nhau.\n",
    "a=input()\n",
    "cnt=[0]*256\n",
    "for x in a:\n",
    "    cnt[ord(x)]+=1\n",
    "ans=len(a)\n",
    "for i in range(256):\n",
    "    if cnt[i]!=0:\n",
    "        ans+=cnt[i] * (cnt[i]-1)//2\n",
    "print(ans)\n"
   ]
  },
  {
   "cell_type": "code",
   "execution_count": 19,
   "metadata": {},
   "outputs": [
    {
     "name": "stdout",
     "output_type": "stream",
     "text": [
      "159\n",
      "960\n",
      "[1, 5, 9]\n"
     ]
    }
   ],
   "source": [
    "#Bài 25. Số lớn nhất, nhỏ nhất\n",
    "m,s=map(int,input().split())\n",
    "lon,be=[0]*m,[0]*m\n",
    "if s>9*m or (s==0 and m>1):\n",
    "    print('NOT FOUND')\n",
    "else:\n",
    "    t=s\n",
    "    for i in range(m):\n",
    "        if s>=9:\n",
    "            lon[i]=9\n",
    "            s-=9\n",
    "        else:\n",
    "            lon[i]=s\n",
    "            s=0\n",
    "    t-=1\n",
    "    for i in range(m-1,0,-1):\n",
    "        if t>=9:\n",
    "            be[i]=9\n",
    "            t-=9\n",
    "        else:\n",
    "            be[i]=t\n",
    "            t=0\n",
    "    be[0]=t+1\n",
    "    for x in be:\n",
    "        print(x,end='')\n",
    "    print()\n",
    "    for x in lon:\n",
    "        print(x,end='')\n",
    "    print()\n"
   ]
  },
  {
   "cell_type": "code",
   "execution_count": 3,
   "metadata": {},
   "outputs": [
    {
     "name": "stdout",
     "output_type": "stream",
     "text": [
      "zzz\n"
     ]
    }
   ],
   "source": [
    "#Bài 26. Xâu con liên tiếp các kí tự giống nhau.\n",
    "n=input()\n",
    "n+='#'\n",
    "cnt,s=1,n[0]\n",
    "res=1\n",
    "ans=n[0]\n",
    "for i in range(1,len(n)):\n",
    "    if n[i]==n[i-1]:\n",
    "        cnt+=1\n",
    "        s+=n[i]\n",
    "    else:\n",
    "        if cnt>res:\n",
    "            res=cnt\n",
    "            ans=s\n",
    "        elif cnt==res:\n",
    "            if s>ans:\n",
    "                ans=s\n",
    "        cnt=1\n",
    "        s=n[i]\n",
    "print(ans)"
   ]
  },
  {
   "cell_type": "code",
   "execution_count": 5,
   "metadata": {},
   "outputs": [
    {
     "name": "stdout",
     "output_type": "stream",
     "text": [
      "za\n"
     ]
    }
   ],
   "source": [
    "#Bài 27. Xâu con liên tiếp các kí tự khác nhau.\n",
    "n=input()\n",
    "n+=n[-1]\n",
    "cnt,s=1,n[0]\n",
    "res=1\n",
    "ans=n[0]\n",
    "for i in range(1,len(n)):\n",
    "    if n[i]!=n[i-1]:\n",
    "        cnt+=1\n",
    "        s+=n[i]\n",
    "    else:\n",
    "        if cnt>res:\n",
    "            res=cnt\n",
    "            ans=s\n",
    "        elif cnt==res:\n",
    "            if s>ans:\n",
    "                ans=s\n",
    "        cnt=1\n",
    "        s=n[i]\n",
    "print(ans)"
   ]
  },
  {
   "cell_type": "code",
   "execution_count": 11,
   "metadata": {},
   "outputs": [
    {
     "name": "stdout",
     "output_type": "stream",
     "text": [
      "567\n"
     ]
    }
   ],
   "source": [
    "#Bài 28. Số lớn nhất xuất hiện trong xâu.\n",
    "n=input()\n",
    "t=''\n",
    "for x in n:\n",
    "    if x.isalpha():\n",
    "        t+=' '\n",
    "    else:\n",
    "        t+=x\n",
    "a=list(map(int,t.split()))\n",
    "print(max(a))\n"
   ]
  },
  {
   "cell_type": "code",
   "execution_count": 12,
   "metadata": {},
   "outputs": [
    {
     "name": "stdout",
     "output_type": "stream",
     "text": [
      "150\n"
     ]
    }
   ],
   "source": [
    "#Bài 29. Tính tổng các số xuất hiện trong xâu.\n",
    "n=input()\n",
    "t=''\n",
    "for x in n:\n",
    "    if x.isalpha():\n",
    "        t+=' '\n",
    "    else:\n",
    "        t+=x\n",
    "a=list(map(int,t.split()))\n",
    "print(sum(a))"
   ]
  },
  {
   "cell_type": "code",
   "execution_count": 19,
   "metadata": {},
   "outputs": [
    {
     "ename": "NameError",
     "evalue": "name 'cmp_to_key' is not defined",
     "output_type": "error",
     "traceback": [
      "\u001b[1;31m---------------------------------------------------------------------------\u001b[0m",
      "\u001b[1;31mNameError\u001b[0m                                 Traceback (most recent call last)",
      "\u001b[1;32mc:\\Users\\phero\\PycharmProjects\\hungleproject\\hunglevscode\\Python\\PythonScratch\\BT\\bt_contest10.ipynb Cell 30\u001b[0m in \u001b[0;36m1\n\u001b[0;32m     <a href='vscode-notebook-cell:/c%3A/Users/phero/PycharmProjects/hungleproject/hunglevscode/Python/PythonScratch/BT/bt_contest10.ipynb#X42sZmlsZQ%3D%3D?line=15'>16</a>\u001b[0m a\u001b[39m=\u001b[39m\u001b[39mlist\u001b[39m(\u001b[39mmap\u001b[39m(\u001b[39mint\u001b[39m,t\u001b[39m.\u001b[39msplit()))\n\u001b[0;32m     <a href='vscode-notebook-cell:/c%3A/Users/phero/PycharmProjects/hungleproject/hunglevscode/Python/PythonScratch/BT/bt_contest10.ipynb#X42sZmlsZQ%3D%3D?line=16'>17</a>\u001b[0m b\u001b[39m=\u001b[39m\u001b[39mlist\u001b[39m(\u001b[39mmap\u001b[39m(\u001b[39mstr\u001b[39m,a))\n\u001b[1;32m---> <a href='vscode-notebook-cell:/c%3A/Users/phero/PycharmProjects/hungleproject/hunglevscode/Python/PythonScratch/BT/bt_contest10.ipynb#X42sZmlsZQ%3D%3D?line=17'>18</a>\u001b[0m b\u001b[39m.\u001b[39msort(key\u001b[39m=\u001b[39mcmp_to_key(comp))\n\u001b[0;32m     <a href='vscode-notebook-cell:/c%3A/Users/phero/PycharmProjects/hungleproject/hunglevscode/Python/PythonScratch/BT/bt_contest10.ipynb#X42sZmlsZQ%3D%3D?line=18'>19</a>\u001b[0m \u001b[39mprint\u001b[39m(\u001b[39m'\u001b[39m\u001b[39m'\u001b[39m\u001b[39m.\u001b[39mjoin(b))\n",
      "\u001b[1;31mNameError\u001b[0m: name 'cmp_to_key' is not defined"
     ]
    }
   ],
   "source": [
    "#Bài 30. Ghép số.\n",
    "from functools import cmp_to_key\n",
    "def comp(a,b):\n",
    "    ab=a+b\n",
    "    ba=b+a\n",
    "    if ab>ba:\n",
    "        return -1\n",
    "    else:\n",
    "        return 1\n",
    "n=input()\n",
    "t=''\n",
    "for x in n:\n",
    "    if x.isalpha():\n",
    "        t+=' '\n",
    "    else:\n",
    "        t+=x\n",
    "a=list(map(int,t.split()))\n",
    "b=list(map(str,a))\n",
    "b.sort(key=cmp_to_key(comp))\n",
    "print(''.join(b))\n"
   ]
  },
  {
   "cell_type": "code",
   "execution_count": 28,
   "metadata": {},
   "outputs": [
    {
     "name": "stdout",
     "output_type": "stream",
     "text": [
      "45\n"
     ]
    }
   ],
   "source": [
    "#Bài 31. Tổng chữ số của số nguyên\n",
    "n=input()\n",
    "tong=0\n",
    "for i in n:\n",
    "    tong+=int(i)\n",
    "print(tong)"
   ]
  },
  {
   "cell_type": "code",
   "execution_count": 35,
   "metadata": {},
   "outputs": [
    {
     "name": "stdout",
     "output_type": "stream",
     "text": [
      "YES\n"
     ]
    }
   ],
   "source": [
    "#Bài 32. Số đẹp 1\n",
    "from math import *\n",
    "def prime(n):\n",
    "    if n<2:\n",
    "        return False\n",
    "    for i in range(2,isqrt(n)+1):\n",
    "        if int(n)%i==0:\n",
    "            return False\n",
    "    return True\n",
    "def nt(n):\n",
    "    tong=0\n",
    "    for i in n:\n",
    "        tong+=int(i)\n",
    "        if i not in '2357':\n",
    "            return False\n",
    "    return prime(tong)\n",
    "if __name__=='__main__':\n",
    "    n=input()\n",
    "    if nt(n):\n",
    "        print('YES')\n",
    "    else:\n",
    "        print('NO')"
   ]
  },
  {
   "cell_type": "code",
   "execution_count": 43,
   "metadata": {},
   "outputs": [
    {
     "name": "stdout",
     "output_type": "stream",
     "text": [
      "YES\n"
     ]
    }
   ],
   "source": [
    "#Bài 33. Số đẹp 2\n",
    "def palin(n):\n",
    "    tong=0\n",
    "    ans=int(n)\n",
    "    if '6' not in n:\n",
    "        return False\n",
    "    for x in n[::-1]:\n",
    "        tong=tong*10+int(x)\n",
    "    return tong == ans\n",
    "if __name__=='__main__':\n",
    "    n=input()\n",
    "    if palin(n):\n",
    "        print('YES')\n",
    "    else:\n",
    "        print('NO')\n"
   ]
  },
  {
   "cell_type": "code",
   "execution_count": null,
   "metadata": {},
   "outputs": [],
   "source": [
    "#Bài 34. Số đẹp 3\n",
    "def tang(n):\n",
    "    for i in range(1,len(n)):\n",
    "        if n[i]<n[i-1]:\n",
    "            return False\n",
    "    return True\n",
    "def giam(n):\n",
    "    for i in range(1,len(n)):\n",
    "        if n[i]>n[i-1]:\n",
    "            return False\n",
    "    return True\n",
    "if __name__=='__main__':\n",
    "    n=input()\n",
    "    if tang(n) or giam(n):\n",
    "        print('YES')\n",
    "    else:\n",
    "        print('NO')"
   ]
  },
  {
   "cell_type": "code",
   "execution_count": 42,
   "metadata": {},
   "outputs": [
    {
     "name": "stdout",
     "output_type": "stream",
     "text": [
      "False\n"
     ]
    }
   ],
   "source": [
    "# Bài 35. Số chia hết cho 6\n",
    "n=int(input())\n",
    "if n%3==0 and n%2==0:\n",
    "    print('YES')\n",
    "else:\n",
    "    print('NO')"
   ]
  },
  {
   "cell_type": "code",
   "execution_count": null,
   "metadata": {},
   "outputs": [],
   "source": [
    "#Bài 36. Số chia hết cho 4\n",
    "n=int(input())\n",
    "if n%4==0:\n",
    "    print('YES')\n",
    "else:\n",
    "    print('NO')"
   ]
  },
  {
   "cell_type": "code",
   "execution_count": 44,
   "metadata": {},
   "outputs": [
    {
     "name": "stdout",
     "output_type": "stream",
     "text": [
      "YES\n"
     ]
    }
   ],
   "source": [
    "#Bài 37. Số chia hết cho 15\n",
    "def check(n):\n",
    "    s=n[-1]\n",
    "    if s not in '05':\n",
    "        return False\n",
    "    tong=0\n",
    "    for i in n:\n",
    "        tong+=int(i)\n",
    "    return tong%3==0\n",
    "if __name__=='__main__':\n",
    "    n=input()\n",
    "    if check(n):\n",
    "        print('YES')\n",
    "    else:\n",
    "        print('NO')"
   ]
  },
  {
   "cell_type": "code",
   "execution_count": 46,
   "metadata": {},
   "outputs": [
    {
     "name": "stdout",
     "output_type": "stream",
     "text": [
      "YES\n"
     ]
    }
   ],
   "source": [
    "#Bài 38. Số chia hết cho 25\n",
    "def check(n):\n",
    "    if n=='0':\n",
    "        return True\n",
    "    last=int(n[-2:])\n",
    "    if last %25==0:\n",
    "        return True\n",
    "    else:return False\n",
    "if __name__=='__main__':\n",
    "    n=input()\n",
    "    if check(n):\n",
    "        print('YES')\n",
    "    else:\n",
    "        print('NO')"
   ]
  },
  {
   "cell_type": "code",
   "execution_count": 51,
   "metadata": {},
   "outputs": [
    {
     "name": "stdout",
     "output_type": "stream",
     "text": [
      "YES\n"
     ]
    }
   ],
   "source": [
    "#Bài 39. Số chia hết cho 11\n",
    "from math import *\n",
    "def check(n):\n",
    "    chan,le=0,0\n",
    "    for i in range(0,len(n)):\n",
    "        if i%2==0:\n",
    "            chan+=int(n[i])\n",
    "        else:\n",
    "            le+=int(n[i])\n",
    "    return abs(chan -le)%11==0\n",
    "if __name__=='__main__':\n",
    "    n=input()\n",
    "    if check(n):\n",
    "        print('YES')\n",
    "    else:\n",
    "        print('NO')"
   ]
  },
  {
   "cell_type": "code",
   "execution_count": 58,
   "metadata": {},
   "outputs": [
    {
     "name": "stdout",
     "output_type": "stream",
     "text": [
      "YES\n"
     ]
    }
   ],
   "source": [
    "#Bài 40. Số nhị phân chia hết cho 5\n",
    "def check(n):\n",
    "    tong=0\n",
    "    lt=1\n",
    "    for i in n[::-1]:\n",
    "        tong=tong+int(i)*lt\n",
    "        lt*=2\n",
    "        tong%=5\n",
    "        lt%=5\n",
    "    return tong%5==0\n",
    "if __name__=='__main__':\n",
    "    n=input()\n",
    "    if check(n):\n",
    "        print('YES')\n",
    "    else:\n",
    "        print('NO')"
   ]
  }
 ],
 "metadata": {
  "kernelspec": {
   "display_name": "Python 3",
   "language": "python",
   "name": "python3"
  },
  "language_info": {
   "codemirror_mode": {
    "name": "ipython",
    "version": 3
   },
   "file_extension": ".py",
   "mimetype": "text/x-python",
   "name": "python",
   "nbconvert_exporter": "python",
   "pygments_lexer": "ipython3",
   "version": "3.10.8"
  },
  "orig_nbformat": 4
 },
 "nbformat": 4,
 "nbformat_minor": 2
}
