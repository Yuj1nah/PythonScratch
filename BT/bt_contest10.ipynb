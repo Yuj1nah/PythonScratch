{
 "cells": [
  {
   "cell_type": "code",
   "execution_count": 6,
   "metadata": {},
   "outputs": [
    {
     "name": "stdout",
     "output_type": "stream",
     "text": [
      "5 3 5\n"
     ]
    }
   ],
   "source": [
    "#Bài 1. Đếm số loại ký tự trong xâu.\n",
    "s=input()\n",
    "digit=0\n",
    "alpha=0\n",
    "kt=0\n",
    "for i in s:\n",
    "    if i.isdigit():\n",
    "        digit+=1\n",
    "    elif i.isalpha():\n",
    "        alpha+=1\n",
    "    else:\n",
    "        kt+=1\n",
    "print(alpha,digit,kt)"
   ]
  },
  {
   "cell_type": "code",
   "execution_count": 7,
   "metadata": {},
   "outputs": [
    {
     "name": "stdout",
     "output_type": "stream",
     "text": [
      "ABCD ABCD\n",
      "abcd abcd\n"
     ]
    }
   ],
   "source": [
    "#Bài 2. In hoa, in thường.\n",
    "s=input()\n",
    "print(s.upper())\n",
    "print(s.lower())"
   ]
  },
  {
   "cell_type": "code",
   "execution_count": null,
   "metadata": {},
   "outputs": [],
   "source": [
    "#Bài 3. Tần suất xuất hiện của ký tự\n",
    "from collections import Counter\n",
    "s=input()\n",
    "b=list(dict(Counter(s)).items())\n",
    "for x,y in sorted(b):\n",
    "    print(x,y)\n",
    "print()\n",
    "for x,y in b:\n",
    "    print(x,y)\n"
   ]
  },
  {
   "cell_type": "code",
   "execution_count": 42,
   "metadata": {},
   "outputs": [
    {
     "name": "stdout",
     "output_type": "stream",
     "text": [
      "W 6\n",
      "w 1\n"
     ]
    }
   ],
   "source": [
    "#Bài 4. Ký tự xuất hiện nhiều nhất trong xâu.\n",
    "from collections import Counter\n",
    "s=input()\n",
    "b=dict(Counter(s)).items()\n",
    "max_val,min_val=0,10**18\n",
    "res1,res2=' ',' '\n",
    "for x,y in sorted(b):\n",
    "    if y>=max_val:\n",
    "        max_val=y\n",
    "        res1=x\n",
    "    elif y<=min_val:\n",
    "        min_val=y\n",
    "        res2=x\n",
    "print(res1,max_val)\n",
    "print(res2,min_val)"
   ]
  },
  {
   "cell_type": "code",
   "execution_count": 56,
   "metadata": {},
   "outputs": [
    {
     "name": "stdout",
     "output_type": "stream",
     "text": [
      "Oh\n",
      "BGJNORSTUZbhknotv"
     ]
    }
   ],
   "source": [
    "#Bài 5. Ký tự xuất hiện ở cả 2 xâu.\n",
    "a=input()\n",
    "b=input()\n",
    "s1=set(a)\n",
    "s2=set(b)\n",
    "s3=s1&s2\n",
    "for i in sorted(s3):\n",
    "    print(i,end='')\n",
    "s4=s1|s2\n",
    "print()\n",
    "for i in sorted(s4):\n",
    "    print(i,end='')"
   ]
  },
  {
   "cell_type": "code",
   "execution_count": 58,
   "metadata": {},
   "outputs": [
    {
     "name": "stdout",
     "output_type": "stream",
     "text": [
      "AIOTfsx\n",
      "LRVYakw"
     ]
    }
   ],
   "source": [
    "#Bài 6. Ký tự xuất hiện ở 2 xâu 2.\n",
    "a=input()\n",
    "b=input()\n",
    "s1=set(a)\n",
    "s2=set(b)\n",
    "s3=s1-s2\n",
    "s4=s2-s1\n",
    "for i in sorted(s3):\n",
    "    print(i,end='')\n",
    "print()\n",
    "for i in sorted(s4):\n",
    "    print(i,end='')"
   ]
  },
  {
   "cell_type": "code",
   "execution_count": 68,
   "metadata": {},
   "outputs": [
    {
     "name": "stdout",
     "output_type": "stream",
     "text": [
      "YES\n"
     ]
    }
   ],
   "source": [
    "#Bài 7. Xâu đối xứng\n",
    "a=input()\n",
    "tong=''\n",
    "for i in a[::-1]:\n",
    "    tong+=i\n",
    "if tong==a:\n",
    "    print('YES')\n",
    "else:\n",
    "    print('NO')\n"
   ]
  },
  {
   "cell_type": "code",
   "execution_count": 71,
   "metadata": {},
   "outputs": [
    {
     "name": "stdout",
     "output_type": "stream",
     "text": [
      "NO\n",
      "NO\n"
     ]
    },
    {
     "ename": "",
     "evalue": "",
     "output_type": "error",
     "traceback": [
      "\u001b[1;31mThe Kernel crashed while executing code in the the current cell or a previous cell. Please review the code in the cell(s) to identify a possible cause of the failure. Click <a href='https://aka.ms/vscodeJupyterKernelCrash'>here</a> for more info. View Jupyter <a href='command:jupyter.viewOutput'>log</a> for further details."
     ]
    }
   ],
   "source": [
    "#Bài 8. Xâu pangram 1\n",
    "a=input()\n",
    "i=97\n",
    "b=set(a.lower())\n",
    "cnt=0\n",
    "while i<=122:\n",
    "    for x in sorted(b):\n",
    "        if ord(x)<=122:\n",
    "            cnt+=1\n",
    "            i+=1\n",
    "if cnt==26:\n",
    "    print('YES')\n",
    "else:\n",
    "    print('NO')"
   ]
  },
  {
   "cell_type": "code",
   "execution_count": 4,
   "metadata": {},
   "outputs": [
    {
     "name": "stdout",
     "output_type": "stream",
     "text": [
      "6\n"
     ]
    }
   ],
   "source": [
    "#Bài 9. Đếm số lượng từ trong xâu\n",
    "a=input()\n",
    "b=a.split()\n",
    "print(len(b))"
   ]
  },
  {
   "cell_type": "code",
   "execution_count": 15,
   "metadata": {},
   "outputs": [
    {
     "name": "stdout",
     "output_type": "stream",
     "text": [
      "java php python \n",
      "python java php "
     ]
    }
   ],
   "source": [
    "#Bài 10. Liệt kê các từ khác nhau trong xâu.\n",
    "from collections import Counter\n",
    "a=input()\n",
    "b=a.split()\n",
    "s1=set(b)\n",
    "for i in sorted(s1):\n",
    "    print(i,end=' ')\n",
    "print()\n",
    "s2=dict(Counter(b)).keys()\n",
    "for x in s2:\n",
    "    print(x,end=' ')"
   ]
  },
  {
   "cell_type": "code",
   "execution_count": 24,
   "metadata": {},
   "outputs": [
    {
     "name": "stdout",
     "output_type": "stream",
     "text": [
      "hoc lap php trinh\n",
      "\n",
      "hoc lap php trinh\n"
     ]
    }
   ],
   "source": [
    "#Bài 11. Sắp xếp các từ trong xâu 1\n",
    "a=input()\n",
    "b=a.split()\n",
    "print(' '.join(sorted(b)))\n",
    "b.sort(key=lambda x:(len(x),x))\n",
    "print(' '.join(b))"
   ]
  },
  {
   "cell_type": "code",
   "execution_count": 31,
   "metadata": {},
   "outputs": [
    {
     "name": "stdout",
     "output_type": "stream",
     "text": [
      "php aba pop aaaa\n"
     ]
    }
   ],
   "source": [
    "#Bài 12. Sắp xếp các từ trong xâu 2\n",
    "def palin(n):\n",
    "    tong=''\n",
    "    for i in n[::-1]:\n",
    "        tong+=i\n",
    "    return tong==n\n",
    "if __name__=='__main__':\n",
    "    n=input()\n",
    "    s=n.split()\n",
    "    se=set({})\n",
    "    b=[]\n",
    "    for x in s:\n",
    "        if palin(x) and x not in se:\n",
    "            se.add(x)\n",
    "            b.append(x)\n",
    "    b.sort(key=lambda x:len(x))\n",
    "    print(' '.join(b))"
   ]
  },
  {
   "cell_type": "code",
   "execution_count": 34,
   "metadata": {},
   "outputs": [
    {
     "name": "stdout",
     "output_type": "stream",
     "text": [
      "aa 2\n",
      "bb 3\n",
      "cc 2\n",
      "\n",
      "bb 3\n",
      "aa 2\n",
      "cc 2\n"
     ]
    }
   ],
   "source": [
    "#Bài 13. Tần suất các từ xuất hiện trong xâu.\n",
    "from collections import Counter\n",
    "n=input()\n",
    "s=n.split()\n",
    "b=dict(Counter(s)).items()\n",
    "for x,y in sorted(b):\n",
    "    print(x,y)\n",
    "print()\n",
    "for x,y in b:\n",
    "    print(x,y)"
   ]
  },
  {
   "cell_type": "code",
   "execution_count": 43,
   "metadata": {},
   "outputs": [
    {
     "name": "stdout",
     "output_type": "stream",
     "text": [
      "aa 4 \n",
      "cc 2\n"
     ]
    }
   ],
   "source": [
    "#Bài 14. Từ xuất hiện nhiều nhất, ít nhất\n",
    "from collections import Counter\n",
    "n=input()\n",
    "a=n.split()\n",
    "min_val,max_val=10**18,0\n",
    "s=dict(Counter(a)).items()\n",
    "\n",
    "res1,res2=' ',' '\n",
    "for x,y in sorted(s):\n",
    "    if y>=max_val:\n",
    "        max_val=y\n",
    "        res1=x\n",
    "    if y<=min_val:\n",
    "        min_val=y\n",
    "        res2=x\n",
    "print('%s %d \\n%s %d'%(res1,max_val,res2,min_val))"
   ]
  },
  {
   "cell_type": "code",
   "execution_count": 45,
   "metadata": {},
   "outputs": [
    {
     "name": "stdout",
     "output_type": "stream",
     "text": [
      "YES\n"
     ]
    }
   ],
   "source": [
    "#Bài 15. Kiểm tra xâu con\n",
    "s=input()\n",
    "t=input()\n",
    "if s in t or t in s:\n",
    "    print('YES')\n",
    "else:\n",
    "    print('NO')"
   ]
  },
  {
   "cell_type": "code",
   "execution_count": 56,
   "metadata": {},
   "outputs": [
    {
     "name": "stdout",
     "output_type": "stream",
     "text": [
      "Le Huu Hung\n",
      "18/3/2004\n"
     ]
    }
   ],
   "source": [
    "#Bài 16. Chuẩn hóa tên 1\n",
    "a=input()\n",
    "b=input()\n",
    "s=a.split()\n",
    "print(' '.join(s).title())\n",
    "if b[1]=='/':\n",
    "    b='0' + b\n",
    "if b[4]=='/':\n",
    "        b=b[0:3]+'0'+b[3:]\n",
    "print(b)"
   ]
  },
  {
   "cell_type": "code",
   "execution_count": 58,
   "metadata": {},
   "outputs": [
    {
     "name": "stdout",
     "output_type": "stream",
     "text": [
      "Hoang Dinh, NAM\n",
      "NAM, Hoang Dinh\n"
     ]
    }
   ],
   "source": [
    "# Bài 17. Chuẩn hóa tên 2\n",
    "s=input()\n",
    "a=s.split()\n",
    "a[-1]=a[-1].upper()\n",
    "for i in range(0,len(a)-1):\n",
    "    a[i]=a[i].title()\n",
    "for i in range(0,len(a)-1):\n",
    "    if i!=len(a)-2:\n",
    "        print(a[i],end=' ')\n",
    "    else:\n",
    "        print(a[i],end=', ')\n",
    "print(a[-1])\n",
    "print(a[-1],end=', ')\n",
    "print(' '.join(a[0:-1]))"
   ]
  },
  {
   "cell_type": "code",
   "execution_count": 69,
   "metadata": {},
   "outputs": [
    {
     "name": "stdout",
     "output_type": "stream",
     "text": [
      "namnv@xyz.edu.vn\n",
      "2272002"
     ]
    }
   ],
   "source": [
    "#Bài 18. Tạo email và mật khẩu.\n",
    "n=int(input())\n",
    "for _ in range(n):\n",
    "    a=input().lower()\n",
    "    s=a.split()\n",
    "    mk=s[-1]\n",
    "    print(s[-2],end='')\n",
    "    for i in range(0,len(s)-2):\n",
    "        print(s[i][0],end='')\n",
    "    print('@xyz.edu.vn')\n",
    "    s1=mk.split('/')\n",
    "    for i in s1:\n",
    "        print(int(i),end='')\n",
    "    print()\n"
   ]
  },
  {
   "cell_type": "code",
   "execution_count": 74,
   "metadata": {},
   "outputs": [
    {
     "name": "stdout",
     "output_type": "stream",
     "text": [
      "longnv@xyz.edu.vn\n",
      "20102002\n",
      "longnv@xyz.edu.vn\n",
      "20122002\n",
      "longnv@xyz.edu.vn\n",
      "22122003\n",
      "namhv@xyz.edu.vn\n",
      "1792002\n"
     ]
    }
   ],
   "source": [
    "#Bài 19. Tạo email và mật khẩu 2.\n",
    "n=int(input())\n",
    "d=dict({})\n",
    "for _ in range(n):\n",
    "    a=input().lower()\n",
    "    s=a.split()\n",
    "    mk=s[-1]\n",
    "    email=s[-2]\n",
    "    for i in range(len(s)-2):\n",
    "        email+=s[i][0]\n",
    "    if email in d:\n",
    "        d[email]+=1\n",
    "        print(email,d[email],'@xyz.edu.vn',sep='')\n",
    "    else:\n",
    "        d[email]=1\n",
    "        print(email+'@xyz.edu.vn',sep='')\n",
    "    s1=mk.split('/')\n",
    "    for i in s1:\n",
    "        print(int(i),end='')\n",
    "    print()"
   ]
  },
  {
   "cell_type": "code",
   "execution_count": 82,
   "metadata": {},
   "outputs": [
    {
     "name": "stdout",
     "output_type": "stream",
     "text": [
      "YES\n"
     ]
    }
   ],
   "source": [
    "#Bài 20. Ngôn ngữ lập trình Python.\n",
    "a=input()\n",
    "b='python'\n",
    "i=0\n",
    "for x in a:\n",
    "    if x == b[i]:\n",
    "        i+=1\n",
    "    if i==6:\n",
    "        print('YES')\n",
    "        exit()\n",
    "print('NO')\n",
    "\n"
   ]
  }
 ],
 "metadata": {
  "kernelspec": {
   "display_name": "Python 3",
   "language": "python",
   "name": "python3"
  },
  "language_info": {
   "codemirror_mode": {
    "name": "ipython",
    "version": 3
   },
   "file_extension": ".py",
   "mimetype": "text/x-python",
   "name": "python",
   "nbconvert_exporter": "python",
   "pygments_lexer": "ipython3",
   "version": "3.10.8"
  },
  "orig_nbformat": 4
 },
 "nbformat": 4,
 "nbformat_minor": 2
}
