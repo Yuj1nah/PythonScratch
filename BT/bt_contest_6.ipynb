{
 "cells": [
  {
   "cell_type": "code",
   "execution_count": 3,
   "metadata": {},
   "outputs": [
    {
     "name": "stdout",
     "output_type": "stream",
     "text": [
      "39916800\n",
      "860734560\n",
      "24\n",
      "120\n",
      "720\n"
     ]
    }
   ],
   "source": [
    "#Bài 1. Giai Thừa Chia Dư\n",
    "from math import *\n",
    "F=[0]*(10**6+1)\n",
    "def init():\n",
    "    F[0]=1\n",
    "    for i in range(1,10**6+1):\n",
    "        F[i]=F[i-1]*i\n",
    "        F[i]%=(10**9+7)\n",
    "if __name__=='__main__':\n",
    "    n=int(input())\n",
    "    init()\n",
    "    for i in range(n):\n",
    "        a=int(input())\n",
    "        print(F[a])\n"
   ]
  },
  {
   "cell_type": "code",
   "execution_count": 6,
   "metadata": {},
   "outputs": [
    {
     "name": "stdout",
     "output_type": "stream",
     "text": [
      "5\n",
      "233\n"
     ]
    }
   ],
   "source": [
    "# Bài 2. Fibonacci\n",
    "fibo=[0]*(10**6+1)\n",
    "def fibonaci():\n",
    "    fibo[0]=0\n",
    "    fibo[1]=1\n",
    "    for i in range(2,10**6+1):\n",
    "        fibo[i]=fibo[i-1]+fibo[i-2]\n",
    "        fibo[i]%=(10**9+7)\n",
    "if __name__=='__main__':\n",
    "    fibonaci()\n",
    "    n=int(input())\n",
    "    for i in range(n):\n",
    "        a=int(input())\n",
    "        print(fibo[a])\n"
   ]
  },
  {
   "cell_type": "code",
   "execution_count": null,
   "metadata": {},
   "outputs": [],
   "source": [
    "# Bài 3. Tribonacci\n",
    "fibo=[0]*(10**6+1)\n",
    "def fibonaci():\n",
    "    fibo[0]=0\n",
    "    fibo[1]=0\n",
    "    fibo[2]=1\n",
    "    for i in range(3,10**6+1):\n",
    "        fibo[i]=fibo[i-1]+fibo[i-2]+fibo[i-3]\n",
    "        fibo[i]%=(10**9+7)\n",
    "if __name__=='__main__':\n",
    "    fibonaci()\n",
    "    n=int(input())\n",
    "    for i in range(n):\n",
    "        a=int(input())\n",
    "        print(fibo[a])"
   ]
  },
  {
   "cell_type": "code",
   "execution_count": 21,
   "metadata": {},
   "outputs": [
    {
     "name": "stdout",
     "output_type": "stream",
     "text": [
      "12\n",
      "19\n",
      "9\n",
      "23\n",
      "3\n"
     ]
    }
   ],
   "source": [
    "#Bài 4. Prime 1\n",
    "from math import *\n",
    "prime=[True]*(10**6+1)\n",
    "\n",
    "def innit():\n",
    "    prime[0]=False\n",
    "    prime[1]=False\n",
    "    for i in range(2,isqrt(10**6)+1):\n",
    "        if prime[i]:\n",
    "            for j in range(i*i,10**6+1,i):\n",
    "                prime[j]=False\n",
    "\n",
    "if __name__=='__main__':\n",
    "    innit()\n",
    "    F=[0]*(10**6+1)\n",
    "    F[0],F[1]=0,0\n",
    "    dem=0\n",
    "    for i in range(2,10**6+1):\n",
    "        if prime[i]:\n",
    "            dem+=1\n",
    "        F[i]=dem\n",
    "    n=int(input())\n",
    "    for i in range(n):\n",
    "        a=int(input())\n",
    "        print(F[a])\n",
    "\n",
    "\n",
    "\n"
   ]
  },
  {
   "cell_type": "code",
   "execution_count": null,
   "metadata": {},
   "outputs": [],
   "source": [
    "#Bài 5. Prime 2\n",
    "from math import *\n",
    "prime=[True]*(10**6+1)\n",
    "\n",
    "def innit():\n",
    "    prime[0]=False\n",
    "    prime[1]=False\n",
    "    for i in range(2,isqrt(10**6)+1):\n",
    "        if prime[i]:\n",
    "            for j in range(i*i,10**6+1,i):\n",
    "                prime[j]=False\n",
    "\n",
    "if __name__=='__main__':\n",
    "    innit()\n",
    "    F=[0]*(10**6+1)\n",
    "    F[0],F[1]=0,0\n",
    "    dem=0\n",
    "    for i in range(2,10**6+1):\n",
    "        if prime[i]:\n",
    "            dem+=1\n",
    "        F[i]=dem\n",
    "    n=int(input())\n",
    "    for i in range(n):\n",
    "        l,r=map(int,input().split())\n",
    "        if l==0:\n",
    "            print(F[r])\n",
    "        else:\n",
    "            print(F[r]-F[l-1])"
   ]
  },
  {
   "cell_type": "code",
   "execution_count": 30,
   "metadata": {},
   "outputs": [
    {
     "name": "stdout",
     "output_type": "stream",
     "text": [
      "9699690\n"
     ]
    }
   ],
   "source": [
    "#Bài 6. Prime 3\n",
    "from math import *\n",
    "prime=[True]*(10**6+1)\n",
    "def innit():\n",
    "    prime[0],prime[1]=False,False\n",
    "    for i in range(2,isqrt(10**6)+1):\n",
    "        if prime[i]:\n",
    "            for j in range(i*i,10**6+1,i):\n",
    "                prime[j]=False\n",
    "if __name__=='__main__':\n",
    "    innit()\n",
    "    k=0\n",
    "    F=[0]*(10**6+1)\n",
    "    F[0],F[1]=0,0\n",
    "    F[2]=2\n",
    "    for i in range(3,10**6+1):\n",
    "        if prime[i]:\n",
    "            F[i]=F[i-1]*i\n",
    "        else:\n",
    "            F[i]=F[i-1]\n",
    "        F[i]%=10**9+7\n",
    "    n=int(input())\n",
    "    for i in range(n):\n",
    "        a=int(input())\n",
    "        print(F[a])\n"
   ]
  }
 ],
 "metadata": {
  "kernelspec": {
   "display_name": "Python 3",
   "language": "python",
   "name": "python3"
  },
  "language_info": {
   "codemirror_mode": {
    "name": "ipython",
    "version": 3
   },
   "file_extension": ".py",
   "mimetype": "text/x-python",
   "name": "python",
   "nbconvert_exporter": "python",
   "pygments_lexer": "ipython3",
   "version": "3.10.8"
  },
  "orig_nbformat": 4
 },
 "nbformat": 4,
 "nbformat_minor": 2
}
