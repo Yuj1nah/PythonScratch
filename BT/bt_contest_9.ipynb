{
 "cells": [
  {
   "cell_type": "code",
   "execution_count": 5,
   "metadata": {},
   "outputs": [
    {
     "name": "stdout",
     "output_type": "stream",
     "text": [
      "2 3 \n",
      "5 \n",
      "7 \n"
     ]
    }
   ],
   "source": [
    "#Bài 1. Liệt kê các số nguyên tố trong mảng 2 chiều\n",
    "from math import *\n",
    "def prime(n):\n",
    "    if n<2:\n",
    "        return False\n",
    "    for i in range(2,isqrt(n)+1):\n",
    "        if n%i==0:\n",
    "            return False\n",
    "    return True\n",
    "if __name__=='__main__':\n",
    "    n,m=map(int,input().split())\n",
    "    a=[]\n",
    "    for i in range(n):\n",
    "        b=list(map(int,input().split()))\n",
    "        a.append(b)\n",
    "    for i in range(n):\n",
    "        for j in range(m):\n",
    "            if prime(a[i][j]):\n",
    "                print(a[i][j],end=' ')\n",
    "        print()"
   ]
  },
  {
   "cell_type": "code",
   "execution_count": 10,
   "metadata": {},
   "outputs": [
    {
     "name": "stdout",
     "output_type": "stream",
     "text": [
      "6 15 24 \n",
      "12 15 18 "
     ]
    }
   ],
   "source": [
    "#Bài 2. Tổng hàng, tổng cột trên ma trận\n",
    "n,m=map(int,input().split())\n",
    "a=[]\n",
    "for i in range(n):\n",
    "    b=list(map(int,input().split()))\n",
    "    a.append(b)\n",
    "for i in a:\n",
    "    print(sum(i),end=' ')\n",
    "print()\n",
    "for i in range(m):\n",
    "    tong=0\n",
    "    for j in range(n):\n",
    "        tong+=a[j][i]\n",
    "    print(tong,end=' ')"
   ]
  },
  {
   "cell_type": "code",
   "execution_count": 21,
   "metadata": {},
   "outputs": [
    {
     "name": "stdout",
     "output_type": "stream",
     "text": [
      "1\n",
      "1 1\n",
      "1 3\n",
      "9\n",
      "2 2\n"
     ]
    }
   ],
   "source": [
    "#Bài 3. Số lớn nhất và nhỏ nhất trong ma trận\n",
    "n,m=map(int,input().split())\n",
    "a=[]\n",
    "for i in range(n):\n",
    "    b=list(map(int,input().split()))\n",
    "    a.append(b)\n",
    "m_val,M_val=10**18,-10**18\n",
    "r,c=0,0\n",
    "for i in range(n):\n",
    "    for j in range(m):\n",
    "        m_val=min(m_val,a[i][j])\n",
    "        M_val=max(M_val,a[i][j])\n",
    "print(m_val)\n",
    "for i in range(n):\n",
    "    for j in range(m):\n",
    "        if m_val == a[i][j]:\n",
    "            print(i+1,j+1)\n",
    "print(M_val)\n",
    "for i in range(n):\n",
    "    for j in range(m):\n",
    "        if M_val==a[i][j]:\n",
    "            print(i+1,j+1)\n"
   ]
  },
  {
   "cell_type": "code",
   "execution_count": 50,
   "metadata": {},
   "outputs": [
    {
     "name": "stdout",
     "output_type": "stream",
     "text": [
      "4\n"
     ]
    }
   ],
   "source": [
    "#Bài 4. Số thuận nghịch trong tam giác dưới.\n",
    "def palin(n):\n",
    "    tmp=n\n",
    "    tong=0\n",
    "    while n!=0:\n",
    "        tong=tong*10+n%10\n",
    "        n//=10\n",
    "    return tong == tmp\n",
    "\n",
    "if __name__=='__main__':\n",
    "    n=int(input())\n",
    "    a=[]\n",
    "    cnt=0\n",
    "\n",
    "    for i in range(n):\n",
    "        b=list(map(int,input().split()))\n",
    "        a.append(b)\n",
    "\n",
    "    for i in range(n):\n",
    "        for j in range(i+1):\n",
    "            if palin(a[i][j]):\n",
    "                cnt+=1\n",
    "    print(cnt)\n"
   ]
  },
  {
   "cell_type": "code",
   "execution_count": 55,
   "metadata": {},
   "outputs": [
    {
     "name": "stdout",
     "output_type": "stream",
     "text": [
      "Pattern 1:\n",
      "510 474 905 477 874 \n",
      "745 22 958 414 372 \n",
      "649 168 391 314 159 \n",
      "186 18 202 824 833 \n",
      "313 787 625 334 70 \n",
      "Pattern 2:\n",
      "70 833 159 372 874 \n",
      "334 824 314 414 477 \n",
      "625 202 391 958 905 \n",
      "787 18 168 22 474 \n",
      "313 186 649 745 510 \n",
      "Pattern 3:\n",
      "313 787 625 334 70 \n",
      "186 18 202 824 833 \n",
      "649 168 391 314 159 \n",
      "745 22 958 414 372 \n",
      "510 474 905 477 874 \n",
      "Pattern 4:\n",
      "313 186 649 745 510 \n",
      "787 18 168 22 474 \n",
      "625 202 391 958 905 \n",
      "334 824 314 414 477 \n",
      "70 833 159 372 874 \n"
     ]
    }
   ],
   "source": [
    "#Bài 5. In ra ma trận theo mẫu.\n",
    "n=int(input())\n",
    "a=[]\n",
    "for i in range(n):\n",
    "    b=list(map(int,input().split()))\n",
    "    a.append(b)\n",
    "print('Pattern 1:')\n",
    "for i in range(n):\n",
    "    for j in range(n):\n",
    "        print(a[j][i],end=' ')\n",
    "    print()\n",
    "print('Pattern 2:')\n",
    "for i in range(n-1,-1,-1):\n",
    "    for j in range(n-1,-1,-1):\n",
    "        print(a[i][j],end=' ')\n",
    "    print()\n",
    "print('Pattern 3:')\n",
    "for i in range(n-1,-1,-1):\n",
    "    for j in range(n):\n",
    "        print(a[j][i],end=' ')\n",
    "    print()\n",
    "print('Pattern 4:')\n",
    "for i in range(n):\n",
    "    for j in range(n-1,-1,-1):\n",
    "        print(a[i][j],end=' ')\n",
    "    print()\n"
   ]
  },
  {
   "cell_type": "code",
   "execution_count": 48,
   "metadata": {},
   "outputs": [
    {
     "name": "stdout",
     "output_type": "stream",
     "text": [
      "True\n"
     ]
    }
   ],
   "source": [
    "#Bài 6. Hoán vị đường chéo\n",
    "n=int(input())\n",
    "a=[]\n",
    "for i in range(n):\n",
    "    b=list(map(int,input().split()))\n",
    "    a.append(b)\n",
    "for i in range(n):\n",
    "    a[i][i],a[i][n-i-1]=a[i][n-i-1],a[i][i]\n",
    "for i in range(n):\n",
    "    for j in range(n):\n",
    "        print(a[i][j],end=' ')\n",
    "    print()"
   ]
  },
  {
   "cell_type": "code",
   "execution_count": 4,
   "metadata": {},
   "outputs": [
    {
     "name": "stdout",
     "output_type": "stream",
     "text": [
      "1 2 \n",
      "3 4 \n"
     ]
    }
   ],
   "source": [
    "#Bài 7. Hoán vị 2 hàng của ma trận\n",
    "n=int(input())\n",
    "a=[]\n",
    "for i in range(n):\n",
    "    b=list(map(int,input().split()))\n",
    "    a.append(b)\n",
    "r1,r2=map(int,input().split())\n",
    "r1,r2=r1-1,r2-1\n",
    "for i in range(n):\n",
    "    a[r1][i],a[r2][i]=a[r2][i],a[r1][i]\n",
    "for i in range(n):\n",
    "    for j in range(n):\n",
    "        print(a[i][j],end=' ')\n",
    "    print()"
   ]
  },
  {
   "cell_type": "code",
   "execution_count": 5,
   "metadata": {},
   "outputs": [
    {
     "name": "stdout",
     "output_type": "stream",
     "text": [
      "3 2 1 \n",
      "6 5 4 \n",
      "9 8 7 \n"
     ]
    }
   ],
   "source": [
    "#Bài 8. Hoán vị 2 cột của ma trận\n",
    "n=int(input())\n",
    "a=[]\n",
    "for i in range(n):\n",
    "    b=list(map(int,input().split()))\n",
    "    a.append(b)\n",
    "r1,r2=map(int,input().split())\n",
    "r1,r2=r1-1,r2-1\n",
    "for i in range(n):\n",
    "    a[i][r1],a[i][r2]=a[i][r2],a[i][r1]\n",
    "for i in range(n):\n",
    "    for j in range(n):\n",
    "        print(a[i][j],end=' ')\n",
    "    print()"
   ]
  },
  {
   "cell_type": "code",
   "execution_count": 11,
   "metadata": {},
   "outputs": [
    {
     "name": "stdout",
     "output_type": "stream",
     "text": [
      "3\n"
     ]
    }
   ],
   "source": [
    "#Đếm các phần tử là số nguyên tố trên đường chéo chính và phụ\n",
    "from math import *\n",
    "def prime(n):\n",
    "    if n<2:\n",
    "        return False\n",
    "    for i in range(2,isqrt(n)+1):\n",
    "        if n%i==0:\n",
    "            return False\n",
    "    return True\n",
    "if __name__=='__main__':\n",
    "    n=int(input())\n",
    "    a=[]\n",
    "    for i in range(n):\n",
    "        b=list(map(int,input().split()))\n",
    "        a.append(b)\n",
    "    tong=0\n",
    "    for i in range(n):\n",
    "        if prime(a[i][i]):\n",
    "            tong+=1\n",
    "        if prime(a[i][n-i-1]):\n",
    "            tong+=1\n",
    "    if n%2 ==1:\n",
    "        if prime(a[n//2][n//2]):\n",
    "            tong-=1\n",
    "    print(tong)"
   ]
  },
  {
   "cell_type": "code",
   "execution_count": 12,
   "metadata": {},
   "outputs": [
    {
     "name": "stdout",
     "output_type": "stream",
     "text": [
      "3\n"
     ]
    }
   ],
   "source": [
    "#Bài 10. Đếm các phần tử là số nguyên tố trên đường chéo chính và phụ 2 \n",
    "from math import *\n",
    "def prime(n):\n",
    "    if n<2:\n",
    "        return False\n",
    "    for i in range(2,isqrt(n)+1):\n",
    "        if n%i==0:\n",
    "            return False\n",
    "    return True\n",
    "if __name__=='__main__':\n",
    "    n=int(input())\n",
    "    a=[]\n",
    "    for i in range(n):\n",
    "        b=list(map(int,input().split()))\n",
    "        a.append(b)\n",
    "    cnt=set({})\n",
    "    for i in range(n):\n",
    "        if prime(a[i][i]):\n",
    "            cnt.add(a[i][i])\n",
    "        if prime(a[i][n-i-1]):\n",
    "            cnt.add(a[i][n-i-1])\n",
    "    print(len(cnt))"
   ]
  },
  {
   "cell_type": "code",
   "execution_count": 5,
   "metadata": {},
   "outputs": [
    {
     "name": "stdout",
     "output_type": "stream",
     "text": [
      "2 6 7 \n",
      "1 2 3 \n",
      "1 8 9 \n"
     ]
    }
   ],
   "source": [
    "#Bài 11. Sắp xếp các hàng của ma trận\n",
    "n=int(input())\n",
    "a=[]\n",
    "for i in range(n):\n",
    "    b=list(map(int,input().split()))\n",
    "    a.append(b)\n",
    "for i in a:\n",
    "    i.sort()\n",
    "for i in range(n):\n",
    "    for j in range(n):\n",
    "        print(a[i][j],end=' ')\n",
    "    print()"
   ]
  },
  {
   "cell_type": "code",
   "execution_count": null,
   "metadata": {},
   "outputs": [],
   "source": [
    "#Bài 12. Sắp xếp các phần tử theo cột\n",
    "n=int(input())\n",
    "a=[]\n",
    "for i in range(n):\n",
    "    b=list(map(int,input().split()))\n",
    "    a.append(b)\n",
    "b=[[0 for i in range(n)] for i in range(n)]\n",
    "for i in range(n):\n",
    "    for j in range(n):\n",
    "        b[i][j]=a[j][i]\n",
    "for i in range(n):\n",
    "    b[i].sort()\n",
    "for i in range(n):\n",
    "    for j in range(n):\n",
    "        print(b[j][i],end=' ')\n",
    "    print()\n"
   ]
  },
  {
   "cell_type": "code",
   "execution_count": null,
   "metadata": {},
   "outputs": [],
   "source": [
    "# Bài 13. Nhân 2 ma trận.\n",
    "n,m,p=map(int,input().split())\n",
    "a=[]\n",
    "b=[]\n",
    "for i in range(n):\n",
    "    x=list(map(int,input().split()))\n",
    "    a.append(x)\n",
    "for i in range(m):\n",
    "    x=list(map(int,input().split()))\n",
    "    b.append(x)\n",
    "c=[[0 for _ in range(p)]for _ in range(n)]\n",
    "for i in range(n):\n",
    "    for j in range(p):\n",
    "        for k in range(m):\n",
    "            c[i][j]+=a[i][k]*b[k][j]\n",
    "for i in range(n):\n",
    "    for j in range(p):\n",
    "        print(c[i][j],end=' ')\n",
    "    print()"
   ]
  },
  {
   "cell_type": "code",
   "execution_count": 14,
   "metadata": {},
   "outputs": [
    {
     "name": "stdout",
     "output_type": "stream",
     "text": [
      "1 2 3 4 5 \n",
      "16 17 18 19 6 \n",
      "15 24 25 20 7 \n",
      "14 23 22 21 8 \n",
      "13 12 11 10 9 \n"
     ]
    }
   ],
   "source": [
    "#Bài 14. Ma trận xoáy ốc\n",
    "n=int(input())\n",
    "h1,h2,c1,c2=0,n-1,0,n-1\n",
    "dem =1\n",
    "a=[[0 for _ in range(n)] for _ in range(n)]\n",
    "while dem<=n*n:\n",
    "    #Xay dung dong tren cung c2->c1 cua h1\n",
    "    for i in range(c1,c2+1):\n",
    "        a[h1][i]=dem\n",
    "        dem+=1\n",
    "    h1+=1\n",
    "    #xay dung cot ben phai h1->h2 cua c2\n",
    "    for i in range(h1,h2+1):\n",
    "        a[i][c2]=dem\n",
    "        dem+=1\n",
    "    c2-=1\n",
    "    #xay dung dong cuoi c2->c1 cua h2\n",
    "    for i in range(c2,c1-1,-1):\n",
    "        a[h2][i]=dem\n",
    "        dem+=1\n",
    "    h2-=1\n",
    "    #xay dung cot ben trai h2->h1 cua c1\n",
    "    for i in range(h2,h1-1,-1):\n",
    "        a[i][c1]=dem\n",
    "        dem+=1\n",
    "    c1+=1\n",
    "for i in range(n):\n",
    "    for j in range(n):\n",
    "        print(a[i][j],end=' ')\n",
    "    print()\n",
    "\n",
    "\n"
   ]
  },
  {
   "cell_type": "code",
   "execution_count": 16,
   "metadata": {},
   "outputs": [
    {
     "name": "stdout",
     "output_type": "stream",
     "text": [
      "0 1 1 \n",
      "13 21 2 \n",
      "8 5 3 \n"
     ]
    }
   ],
   "source": [
    "\n",
    "n=int(input())\n",
    "F=[0]*100\n",
    "F[0]=0\n",
    "F[1]=1\n",
    "for i in range(2,100):\n",
    "    F[i]=F[i-1]+F[i-2]\n",
    "h1,h2,c1,c2=0,n-1,0,n-1\n",
    "idx=0\n",
    "a=[[0 for _ in range(n)] for _ in range(n)]\n",
    "while idx<n*n:\n",
    "    #Xay dung dong tren cung c2->c1 cua h1\n",
    "    for i in range(c1,c2+1):\n",
    "        a[h1][i]=F[idx]\n",
    "        idx+=1\n",
    "    h1+=1\n",
    "    #xay dung cot ben phai h1->h2 cua c2\n",
    "    for i in range(h1,h2+1):\n",
    "        a[i][c2]=F[idx]\n",
    "        idx+=1\n",
    "    c2-=1\n",
    "    #xay dung dong cuoi c2->c1 cua h2\n",
    "    for i in range(c2,c1-1,-1):\n",
    "        a[h2][i]=F[idx]\n",
    "        idx+=1\n",
    "    h2-=1\n",
    "    #xay dung cot ben trai h2->h1 cua c1\n",
    "    for i in range(h2,h1-1,-1):\n",
    "        a[i][c1]=F[idx]\n",
    "        idx+=1\n",
    "    c1+=1\n",
    "for i in range(n):\n",
    "    for j in range(n):\n",
    "        print(a[i][j],end=' ')\n",
    "    print()       \n"
   ]
  },
  {
   "cell_type": "code",
   "execution_count": 18,
   "metadata": {},
   "outputs": [
    {
     "name": "stdout",
     "output_type": "stream",
     "text": [
      "7 3 2 4\n"
     ]
    }
   ],
   "source": [
    "#Bài 16. Count Island 1\n",
    "n,m=0,0\n",
    "a=[]\n",
    "path=[[-1,0],[0,-1],[0,1],[1,0]]\n",
    "def loang(i,j):\n",
    "    a[i][j]=0\n",
    "    for x,y in path:\n",
    "        i1=x+i\n",
    "        j1=y+j\n",
    "        if i1>=0 and i1< n and j1>=0 and j1<m and a[i1][j1]==1:\n",
    "            loang(i1,j1)\n",
    "if __name__=='__main__':\n",
    "    n,m=map(int,input().split())\n",
    "    for i in range(n):\n",
    "        b=list(map(int,input().split()))\n",
    "        a.append(b)\n",
    "    dem=0\n",
    "    for i in range(n):\n",
    "        for j in range(m):\n",
    "            if a[i][j]==1:\n",
    "                dem+=1\n",
    "                loang(i,j)\n",
    "    print(dem)"
   ]
  },
  {
   "cell_type": "code",
   "execution_count": null,
   "metadata": {},
   "outputs": [],
   "source": [
    "#Bài 17. Count Island 2\n",
    "n,m=0,0\n",
    "a=[]\n",
    "path=[[-1,-1],[-1,0],[-1,1],[0,-1],[0,1],[1,-1],[1,0],[1,1]]\n",
    "def loang(i,j):\n",
    "    a[i][j]=0\n",
    "    for x,y in path:\n",
    "        i1=x+i\n",
    "        j1=y+j\n",
    "        if i1>=0 and i1< n and j1>=0 and j1<m and a[i1][j1]==1:\n",
    "            loang(i1,j1)\n",
    "if __name__=='__main__':\n",
    "    n,m=map(int,input().split())\n",
    "    for i in range(n):\n",
    "        b=list(map(int,input().split()))\n",
    "        a.append(b)\n",
    "    dem=0\n",
    "    for i in range(n):\n",
    "        for j in range(m):\n",
    "            if a[i][j]==1:\n",
    "                dem+=1\n",
    "                loang(i,j)\n",
    "    print(dem)"
   ]
  },
  {
   "cell_type": "code",
   "execution_count": null,
   "metadata": {},
   "outputs": [],
   "source": [
    "#Bài 18. Count Island 2\n",
    "n,m=0,0\n",
    "a=[]\n",
    "path=[[-1,-1],[-1,0],[-1,1],[0,-1],[0,1],[1,-1],[1,0],[1,1]]\n",
    "def check(i,j):\n",
    "    for x,y in path:\n",
    "            i1=x+i\n",
    "            j1=y+j\n",
    "            if i1>=0 and i1< n and j1>=0 and j1<m :\n",
    "                if a[i1][j1]>=a[i][j]:\n",
    "                    return False\n",
    "    return True\n",
    "if __name__=='__main__':\n",
    "    n,m=map(int,input().split())\n",
    "    for i in range(n):\n",
    "        b=list(map(int,input().split()))\n",
    "        a.append(b)\n",
    "    dem=0\n",
    "    for i in range(n):\n",
    "        for j in range(m):\n",
    "            if check(i,j):\n",
    "                dem+=1     \n",
    "    print(dem)"
   ]
  },
  {
   "cell_type": "code",
   "execution_count": null,
   "metadata": {},
   "outputs": [],
   "source": [
    "#Bài 19. Maximum path sum\n",
    "a=[]\n",
    "n,m=map(int,input().split())\n",
    "for i in range(n):\n",
    "    b=list(map(int,input().split()))\n",
    "    a.append(b)\n",
    "F=[[0 for _ in range(m)] for _ in range(n)]\n",
    "for i in range(n):\n",
    "    for j in range(m):\n",
    "        if i==0 and j==0:\n",
    "            F[0][0]=a[0][0]\n",
    "        elif i==0:\n",
    "            F[i][j]=F[i][j-1]+a[i][j]\n",
    "        elif j==0:\n",
    "            F[i][j]=F[i-1][j]+a[i][j]\n",
    "        else:\n",
    "            F[i][j]=max(F[i-1][j],F[i][j-1])+a[i][j]\n",
    "print(F[n-1][m-1])\n",
    "\n"
   ]
  },
  {
   "cell_type": "code",
   "execution_count": null,
   "metadata": {},
   "outputs": [],
   "source": [
    "#Bài 20. Tìm đường đi.\n",
    "n,m=0,0\n",
    "a=[]\n",
    "path=[[-1,0],[0,-1],[0,1],[1,0]]\n",
    "def loang(i,j):\n",
    "    a[i][j]=0\n",
    "    for x,y in path:\n",
    "        i1=x+i\n",
    "        j1=y+j\n",
    "        if i1>=0 and i1< n and j1>=0 and j1<m and a[i1][j1]==1:\n",
    "            loang(i1,j1)\n",
    "if __name__=='__main__':\n",
    "    n,m=map(int,input().split())\n",
    "    s,t,u,v=map(int,input().split())\n",
    "    s,t,u,v=s-1,t-1,u-1,v-1\n",
    "    for i in range(n):\n",
    "        b=list(map(int,input().split()))\n",
    "        a.append(b)\n",
    "    loang(s,t)\n",
    "    if a[u][v]==0:\n",
    "        print('YES')\n",
    "    else:\n",
    "        print('NO')"
   ]
  },
  {
   "cell_type": "code",
   "execution_count": null,
   "metadata": {},
   "outputs": [],
   "source": [
    "#Bài 21. Đường đi của quân Mã\n",
    "n=0\n",
    "a=[]\n",
    "path=[[-2,-1],[-2,1],[-1,-2],[-1,2],[1,-2],[1,2],[2,-1],[2,1]]\n",
    "def loang(i,j):\n",
    "    a[i][j]=0\n",
    "    for x,y in path:\n",
    "        i1=x+i\n",
    "        j1=y+j\n",
    "        if i1>=0 and i1< n and j1>=0 and j1<n and a[i1][j1]==1:\n",
    "            loang(i1,j1)\n",
    "if __name__=='__main__':\n",
    "    n=int(input())\n",
    "    s,t,u,v=map(int,input().split())\n",
    "    s,t,u,v=s-1,t-1,u-1,v-1\n",
    "    for i in range(n):\n",
    "        b=list(map(int,input().split()))\n",
    "        a.append(b)\n",
    "    loang(s,t)\n",
    "    if a[u][v]==0:\n",
    "        print('YES')\n",
    "    else:\n",
    "        print('NO')"
   ]
  },
  {
   "cell_type": "code",
   "execution_count": null,
   "metadata": {},
   "outputs": [],
   "source": [
    "#Bài 22. Snake\n",
    "n=int(input())\n",
    "a=[]\n",
    "for i in range(n):\n",
    "        b=list(map(int,input().split()))\n",
    "        a.append(b)\n",
    "for i in range(n):\n",
    "    if i%2==0:\n",
    "          for j in range(n):\n",
    "                print(a[i][j],end=' ')\n",
    "    else:\n",
    "          for j in range(n-1,-1,-1):\n",
    "                print(a[i][j],end=' ')\n",
    "    print()\n"
   ]
  },
  {
   "cell_type": "code",
   "execution_count": 26,
   "metadata": {},
   "outputs": [
    {
     "name": "stdout",
     "output_type": "stream",
     "text": [
      "[0, 0, 0, 0, 0, 0, 0, 0, 0]\n"
     ]
    }
   ],
   "source": [
    "#Bài 23. Biên của ma trận\n",
    "n=int(input())\n",
    "a=[]\n",
    "for i in range(n):\n",
    "        b=list(map(int,input().split()))\n",
    "        a.append(b)\n",
    "for i in range(n):\n",
    "   for j in range(n):\n",
    "         if i==0 or i==n-1 or j==0 or j==n-1:\n",
    "               print(a[i][j],end=' ')"
   ]
  },
  {
   "cell_type": "code",
   "execution_count": null,
   "metadata": {},
   "outputs": [],
   "source": [
    "#Bài 24. Phần tử xuất hiện ở mọi hàng.\n",
    "n=int(input())\n",
    "a=[]\n",
    "cnt=[0]*105\n",
    "for i in range(n):\n",
    "    b=list(map(int,input().split()))\n",
    "    a.append(b)\n",
    "for i in range(n):\n",
    "    for j in range(n):\n",
    "        if i==0:\n",
    "            cnt[a[i][j]]=1\n",
    "        else:\n",
    "            if cnt[a[i][j]]==i:\n",
    "                cnt[a[i][j]]=i+1\n",
    "check=False\n",
    "for i in range(101):\n",
    "    if cnt[i]== n:\n",
    "        print(i,end=' ')\n",
    "        check=True\n",
    "if not check:\n",
    "    print('NOT FOUND')"
   ]
  },
  {
   "cell_type": "code",
   "execution_count": null,
   "metadata": {},
   "outputs": [],
   "source": [
    "#Bài 25. Diện tích\n",
    "n,m=0,0\n",
    "a=[]\n",
    "dem=0\n",
    "path=[[-1,0],[0,-1],[0,1],[1,0]]\n",
    "def loang(i,j):\n",
    "    a[i][j]=0\n",
    "    global dem\n",
    "    dem+=1\n",
    "    for x,y in path:\n",
    "        i1=i+x\n",
    "        j1=j+y\n",
    "        if i1>=0 and i1<n and j1 >=0 and j1<m and a[i1][j1]==1:\n",
    "            loang(i1,j1)\n",
    "if __name__=='__main__':\n",
    "    n,m=map(int,input().split())\n",
    "    for i in range(n):\n",
    "        b=list(map(int,input().split()))\n",
    "        a.append(b)\n",
    "    ans=0\n",
    "    for i in range(n):\n",
    "        for j in range(m):\n",
    "            if a[i][j]==1:\n",
    "                dem=0\n",
    "                loang(i,j)\n",
    "                ans=max(ans,dem)\n",
    "    print(ans)"
   ]
  }
 ],
 "metadata": {
  "kernelspec": {
   "display_name": "Python 3",
   "language": "python",
   "name": "python3"
  },
  "language_info": {
   "codemirror_mode": {
    "name": "ipython",
    "version": 3
   },
   "file_extension": ".py",
   "mimetype": "text/x-python",
   "name": "python",
   "nbconvert_exporter": "python",
   "pygments_lexer": "ipython3",
   "version": "3.10.8"
  },
  "orig_nbformat": 4
 },
 "nbformat": 4,
 "nbformat_minor": 2
}
