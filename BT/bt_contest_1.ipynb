{
 "cells": [
  {
   "cell_type": "code",
   "execution_count": null,
   "metadata": {},
   "outputs": [],
   "source": [
    "#Bài 23 contest 1\n",
    "n,m=map(int,input().split())\n",
    "x,y=0,0\n",
    "if (n%2==0):\n",
    "    x=n//2\n",
    "    y=n\n",
    "    a=((x+m-1)//m)*m #công thức tìm số <=x và chia hết cho m\n",
    "    if(a<=y) :\n",
    "        print('{:.0f}'.format(a))\n",
    "    else:\n",
    "        print('-1')\n",
    "else:\n",
    "    x=n//2+1\n",
    "    y=n\n",
    "    a=((x+m-1)//m)*m\n",
    "    if(a<=y) :\n",
    "        print('{:.0f}'.format(a))\n",
    "    else:\n",
    "        print('-1')"
   ]
  },
  {
   "cell_type": "code",
   "execution_count": null,
   "metadata": {},
   "outputs": [],
   "source": [
    "#Bài 31 contest1\n",
    "a1,a2,a3,b1,b2,b3=map(int,input().split())\n",
    "n=int(input())\n",
    "cup=a1+a2+a3\n",
    "hc=b1+b2+b3\n",
    "ke1,ke2=0,0\n",
    "if cup%5==0:\n",
    "    ke1=cup//5\n",
    "else:\n",
    "    ke1=cup//5 +1\n",
    "if hc%10==0:\n",
    "    ke2=hc//10\n",
    "else:\n",
    "    ke2=hc//10 +1\n",
    "if (ke1+ke2)>n:\n",
    "    print('NO')\n",
    "else:\n",
    "    print('YES')"
   ]
  },
  {
   "cell_type": "code",
   "execution_count": null,
   "metadata": {},
   "outputs": [],
   "source": [
    "#Bài 33 contest 1\n",
    "a,b,c,n=map(int,input().split())\n",
    "tong=a+b+c+n\n",
    "if tong % 3==0:\n",
    "    if tong//3 > a and tong//3 >b and tong//3 >c:\n",
    "        print('YES')\n",
    "    else:\n",
    "        print('NO')\n",
    "else:\n",
    "    print('NO')"
   ]
  },
  {
   "cell_type": "code",
   "execution_count": null,
   "metadata": {},
   "outputs": [],
   "source": [
    "#Bài 34 contest 1\n",
    "c1,c2,c3,c4,c5=map(int,input().split())\n",
    "tong=c1+c2+c3+c4+c5\n",
    "if tong%5==0:\n",
    "    b=tong//5\n",
    "    if b!=0:\n",
    "        print(b)\n",
    "    else:\n",
    "        print('-1')\n",
    "else:\n",
    "    print('-1')"
   ]
  }
 ],
 "metadata": {
  "language_info": {
   "name": "python"
  },
  "orig_nbformat": 4
 },
 "nbformat": 4,
 "nbformat_minor": 2
}
