{
 "cells": [
  {
   "cell_type": "code",
   "execution_count": null,
   "metadata": {},
   "outputs": [],
   "source": [
    "#Bài 1. Lớp phân số\n",
    "from math import *\n",
    "class PS:\n",
    "    def __init__(self,tuso,mauso):\n",
    "        self.__tuso=tuso\n",
    "        self.__mauso=mauso\n",
    "    def toigian(self):\n",
    "        print('{}/{}'.format((self.__tuso//gcd(self.__tuso,self.__mauso)),(self.__mauso//gcd(self.__tuso,self.__mauso))))\n",
    "if __name__=='__main__':\n",
    "    a,b=map(int,input().split())\n",
    "    p1=PS(a,b)\n",
    "    p1.toigian()\n"
   ]
  },
  {
   "cell_type": "code",
   "execution_count": 8,
   "metadata": {},
   "outputs": [
    {
     "name": "stdout",
     "output_type": "stream",
     "text": [
      "hoang dinh nam 1/1/1 2.0\n"
     ]
    }
   ],
   "source": [
    "#Bài 2. Lớp sinh viên\n",
    "class sv:\n",
    "    def __init__(self,name,birth_date,mark1,mark2,mark3):\n",
    "        self.name=name\n",
    "        self.birth_date=birth_date\n",
    "        self.mark1,self.mark2,self.mark3=mark1,mark2,mark3\n",
    "    def infor(self):\n",
    "        print('{} {} {:.1f}'.format(self.name,self.birth_date,(self.mark1+self.mark2+self.mark3)))\n",
    "if __name__=='__main__':\n",
    "    name=input()\n",
    "    birth_date=input()\n",
    "    mark1=float(input())\n",
    "    mark2=float(input())\n",
    "    mark3=float(input())\n",
    "    p1=sv(name,birth_date,mark1,mark2,mark3)\n",
    "    p1.infor()\n",
    "\n"
   ]
  },
  {
   "cell_type": "code",
   "execution_count": 2,
   "metadata": {},
   "outputs": [
    {
     "name": "stdout",
     "output_type": "stream",
     "text": [
      "SV001 le huu hung dhkhdl18a 18/03/2004 3.2\n"
     ]
    }
   ],
   "source": [
    "#Bài 3. Lớp Sinh Viên\n",
    "def chuanhoa(b):\n",
    "    if b[1]=='/':\n",
    "        b='0'+b\n",
    "    if b[4]=='/':\n",
    "        b=b[0:3]+'0'+b[3:]\n",
    "    return b\n",
    "\n",
    "class sv:\n",
    "    def __init__(self,name,lop,date_birth,GPA):\n",
    "        self.name=name\n",
    "        self.lop=lop\n",
    "        self.date_birth=date_birth\n",
    "        self.GPA=GPA\n",
    "    def infor(self):\n",
    "        print('{} {} {} {:.1f}'.format(self.name,self.lop,self.date_birth,self.GPA))\n",
    "if __name__=='__main__':\n",
    "    name=input()\n",
    "    lop=input()\n",
    "    date_birth=input()\n",
    "    c=chuanhoa(date_birth)\n",
    "    GPA=float(input())\n",
    "    sv001=sv(name,lop,c,GPA)\n",
    "    print('SV001',end=' ')\n",
    "    sv001.infor()"
   ]
  },
  {
   "cell_type": "code",
   "execution_count": null,
   "metadata": {},
   "outputs": [],
   "source": [
    "#Bài 4. Lớp nhân viên\n",
    "def chuanhoa(a):\n",
    "    if a[1]=='/':\n",
    "        a='0'+a\n",
    "    if a[4]=='/':\n",
    "        a=a[0:3]+'0'+a[3:]\n",
    "    return a\n",
    "class nv:\n",
    "    def __init__(self,name,sex,date_birth,address,tax_code,date_sign):\n",
    "        self.name=name\n",
    "        self.sex=sex\n",
    "        self.date_birth=date_birth\n",
    "        self.address=address\n",
    "        self.tax_code=tax_code\n",
    "        self.date_sign=date_sign\n",
    "    def infor(self):\n",
    "        print('{} {} {} {} {} {}'.format(self.name,self.sex,self.date_birth,self.address,self.tax_code,self.date_sign))\n",
    "if __name__=='__main__':\n",
    "    name=input().title()\n",
    "    sex=input()\n",
    "    date_birth=input()\n",
    "    address=input()\n",
    "    tax_code=input()\n",
    "    date_sign=input()\n",
    "    a,b=chuanhoa(date_birth),chuanhoa(date_sign)\n",
    "    NV=nv(name,sex,a,address,tax_code,b)\n",
    "    print('00001',end=' ')\n",
    "    NV.infor()\n"
   ]
  },
  {
   "cell_type": "code",
   "execution_count": 12,
   "metadata": {},
   "outputs": [
    {
     "name": "stdout",
     "output_type": "stream",
     "text": [
      "HT02 Le Huu Hung 2 2004000\n"
     ]
    }
   ],
   "source": [
    "#Bài 9. Thu nhập của giáo viên\n",
    "class gv:\n",
    "    def __init__(self,code,name,lev,salary):\n",
    "        self.code=code\n",
    "        self.name=name\n",
    "        self.lev=lev\n",
    "        self.salary=salary\n",
    "    def infor(self):\n",
    "        print('{} {} {} {}'.format(self.code,self.name,self.lev,self.salary))\n",
    "if __name__=='__main__':\n",
    "    code=input()\n",
    "    lev=int(code[2:])\n",
    "    chucvu=code[:2]\n",
    "    name=input()\n",
    "    salary=int(input())\n",
    "    if chucvu=='HT':\n",
    "        salary=salary*int(lev)+2000000\n",
    "    if chucvu=='HP':\n",
    "        salary=salary*int(lev)+900000\n",
    "    if chucvu=='GV':\n",
    "        salary=salary*int(lev)+500000\n",
    "    GV=gv(code,name,lev,salary)\n",
    "    GV.infor()"
   ]
  },
  {
   "cell_type": "code",
   "execution_count": 5,
   "metadata": {},
   "outputs": [
    {
     "name": "stdout",
     "output_type": "stream",
     "text": [
      "NV01 le huu hung 460000 46000 150000 656000\n"
     ]
    }
   ],
   "source": [
    "#Bài 11. Tính lương nhân viên\n",
    "class tinhluong():\n",
    "    def __init__(self,name,salary,days,lev,thuong,phucap):\n",
    "        self.name=name\n",
    "        self.salary=salary\n",
    "        self.days=days\n",
    "        self.lev=lev\n",
    "        self.thuong=thuong\n",
    "        self.phucap=phucap\n",
    "    def infor(self):\n",
    "        print('{} {} {:.0f} {} {:.0f}'.format(self.name,self.salary,self.thuong,self.phucap,(NV.salary+NV.thuong+NV.phucap)))\n",
    "if __name__=='__main__':\n",
    "    NV=tinhluong('a',0,3,'s',1,1)\n",
    "    NV.name=input()\n",
    "    NV.salary=int(input())\n",
    "    NV.days=int(input())\n",
    "    NV.lev=input()\n",
    "    NV.thuong=0\n",
    "    NV.salary*=NV.days\n",
    "    if NV.days >=25:\n",
    "        NV.thuong=NV.salary*20/100\n",
    "    if NV.days<25 and NV.days>=22:\n",
    "        NV.thuong=NV.salary*10/100\n",
    "    NV.phucap=0\n",
    "    if NV.lev=='PGD':\n",
    "        NV.phucap=200000\n",
    "    if NV.lev=='GD':\n",
    "        NV.phucap=250000\n",
    "    if NV.lev=='TP':\n",
    "        NV.phucap=180000\n",
    "    if NV.lev=='NV':\n",
    "        NV.phucap=150000\n",
    "    print('NV01',end=' ')\n",
    "    NV.infor()\n",
    "\n"
   ]
  },
  {
   "cell_type": "code",
   "execution_count": 2,
   "metadata": {},
   "outputs": [
    {
     "name": "stdout",
     "output_type": "stream",
     "text": [
      "KV2B le huu hung 2 25.0 TRUNG TUYEN\n"
     ]
    }
   ],
   "source": [
    "#Bài 12. Tuyển sinh\n",
    "class TS():\n",
    "    def __init__(self,code,name,toan,li,hoa):\n",
    "        self.code=code\n",
    "        self.name=name\n",
    "        self.toan=toan\n",
    "        self.li=li\n",
    "        self.hoa=hoa\n",
    "    def vung(self):\n",
    "        return int(self.code[2])\n",
    "    def infor(self):\n",
    "        print(self.code + ' '+self.name +' '+ str(self.vung()),end=' ')\n",
    "        tongdiem=self.toan+self.li+self.hoa\n",
    "        kv=self.vung()\n",
    "        if kv==1:\n",
    "            tongdiem+=0.5\n",
    "        elif kv==2:\n",
    "            tongdiem+=1.0\n",
    "        else:\n",
    "            tongdiem+=2.5\n",
    "        if tongdiem==int(tongdiem):\n",
    "            print(int(tongdiem),end=' ')\n",
    "        else:\n",
    "            print('{:.1f}'.format(tongdiem),end=' ')\n",
    "        if tongdiem >= 24:\n",
    "            print('TRUNG TUYEN')\n",
    "        else:\n",
    "            print('TRUOT')\n",
    "if __name__=='__main__':\n",
    "    thisinh=TS(input(),input(),float(input()),float(input()),float(input()))\n",
    "    thisinh.infor()\n"
   ]
  },
  {
   "cell_type": "code",
   "execution_count": 4,
   "metadata": {},
   "outputs": [],
   "source": [
    "#Bài 21. Danh sách mặt hàng\n",
    "class hanghoa():\n",
    "    def __init__(self,code,name,dvt,buy,sell):\n",
    "        self.code=str(code)\n",
    "        while len(self.code)<4:\n",
    "            self.code='0'+self.code\n",
    "        self.code='MH'+self.code\n",
    "        self.name=name\n",
    "        self.dvt=dvt\n",
    "        self.buy=buy\n",
    "        self.sell=sell\n",
    "    def __str__(self):\n",
    "        return f'{self.code} {self.name} {self.dvt} {self.buy} {self.sell} {self.sell-self.buy}'\n",
    "    def loi_nhuan(self):\n",
    "        return self.sell - self.buy\n",
    "if __name__=='__main__':\n",
    "    n=int(input())\n",
    "    a=[]\n",
    "    for i in range(n):\n",
    "        mathang=hanghoa(i+1,input(),input(),int(input()),int(input()))\n",
    "        a.append(mathang)\n",
    "    a.sort(key=lambda x: -x.loi_nhuan())\n",
    "    for x in a:\n",
    "        print(x)    \n",
    "\n"
   ]
  },
  {
   "cell_type": "code",
   "execution_count": 13,
   "metadata": {},
   "outputs": [
    {
     "name": "stdout",
     "output_type": "stream",
     "text": [
      "001 le huu hung 18/3/2003 cntt2 3.20\n"
     ]
    }
   ],
   "source": [
    "class SinhVien:\n",
    "    def __init__(self,ma,ten,lop,ngay_sinh,gpa):\n",
    "        self.ma=format(ma,'03d')\n",
    "        self.ma='SV'+self.ma\n",
    "        self.ten=ten\n",
    "        self.lop=lop\n",
    "        self.ngay_sinh=ngay_sinh\n",
    "        self.gpa=gpa\n",
    "    def chuanhoa(self):\n",
    "        if self.ngay_sinh[1]=='/':\n",
    "            self.ngay_sinh='0'+self.ngay_sinh\n",
    "        if self.ngay_sinh[4]=='/':\n",
    "            self.ngay_sinh=self.ngay_sinh[0:3]+'0'+self.ngay_sinh[3:]\n",
    "    def __str__(self):\n",
    "        return f'{self.ma} {self.ten} {self.lop} {self.ngay_sinh} {self.gpa}'\n",
    "if __name__=='__main__':\n",
    "    n=int(input())\n",
    "    for i in range(n):\n",
    "        s=SinhVien(i+1,input(),input(),input(),float(input()))\n",
    "        s.chuanhoa()\n",
    "        print(s)\n"
   ]
  },
  {
   "cell_type": "code",
   "execution_count": 11,
   "metadata": {},
   "outputs": [
    {
     "name": "stdout",
     "output_type": "stream",
     "text": [
      "SV001 Nguyen Van Nam CNTT1 02/12/1994 2.17\n"
     ]
    }
   ],
   "source": [
    "#Sinh vien 2\n",
    "class SV:\n",
    "    def __init__(self,ma,ten,lop,ngay_sinh,gpa):\n",
    "        self.ma='SV'+format(ma,'03d')\n",
    "        self.ten=str(ten)\n",
    "        self.ten=self.ten.title()\n",
    "        self.lop=lop\n",
    "        self.ngay_sinh=ngay_sinh\n",
    "        self.gpa=gpa\n",
    "    def chuanhoa(self):\n",
    "        if self.ngay_sinh[1]=='/':\n",
    "            self.ngay_sinh='0'+self.ngay_sinh\n",
    "        if self.ngay_sinh[4]=='/':\n",
    "            self.ngay_sinh=self.ngay_sinh[0:3]+'0'+self.ngay_sinh[3:]\n",
    "    def __str__(self):\n",
    "        return f'{self.ma} {self.ten} {self.lop} {self.ngay_sinh} {self.gpa:.2f}'\n",
    "if __name__=='__main__':\n",
    "    n=int(input())\n",
    "    for i in range(n):\n",
    "        hocsinh=SV(i+1,input(),input(),input(),float(input()))\n",
    "        hocsinh.chuanhoa()\n",
    "        print(hocsinh)"
   ]
  },
  {
   "cell_type": "code",
   "execution_count": 14,
   "metadata": {},
   "outputs": [
    {
     "name": "stdout",
     "output_type": "stream",
     "text": [
      "SV001 Nguyen Van Nam CNTT1 02/12/1994 2.17\n"
     ]
    }
   ],
   "source": [
    "#Bài 24. Sắp xếp sinh viên theo GPA và Mã sinh viên\n",
    "class sv:\n",
    "    def __init__(self,code,ten,lop,ngay_sinh,gpa):\n",
    "        self.code='SV'+format(code,'03d')\n",
    "        self.ten=str(ten)\n",
    "        self.ten=self.ten.title()\n",
    "        self.lop=lop\n",
    "        self.ngay_sinh=ngay_sinh\n",
    "        self.gpa=gpa\n",
    "    def chuanhoa(self):\n",
    "        if self.ngay_sinh[1]=='/':\n",
    "            self.ngay_sinh='0'+self.ngay_sinh\n",
    "        if self.ngay_sinh[4]=='/':\n",
    "            self.ngay_sinh=self.ngay_sinh[0:3]+'0'+self.ngay_sinh[3:]\n",
    "    def get_gpa(self):\n",
    "        return self.gpa\n",
    "    def __str__(self):\n",
    "        return f'{self.code} {self.ten} {self.lop} {self.ngay_sinh} {self.gpa:.2f}'\n",
    "if __name__=='__main__':\n",
    "    n=int(input())\n",
    "    a=[]\n",
    "    for i in range(n):\n",
    "        s=sv(i+1,input(),input(),input(),float(input()))\n",
    "        s.chuanhoa()\n",
    "        a.append(s)\n",
    "    a.sort(key=lambda x: -x.get_gpa())\n",
    "    for i in a:\n",
    "        print(i)"
   ]
  },
  {
   "cell_type": "code",
   "execution_count": 2,
   "metadata": {},
   "outputs": [
    {
     "name": "stdout",
     "output_type": "stream",
     "text": [
      "00003\n"
     ]
    }
   ],
   "source": [
    "#Bài 25. Nhân viên 1\n",
    "class NV:\n",
    "    def __init__(self,stt,name,sex,ngay_sinh,address,code,ngay_khd):\n",
    "        self.stt=format(stt,'05d')\n",
    "        self.name=name\n",
    "        self.sex=sex\n",
    "        self.ngay_sinh=ngay_sinh\n",
    "        self.address=address\n",
    "        self.code=code\n",
    "        self.ngay_khd=ngay_khd\n",
    "    def chuanhoa(self):\n",
    "        if self.ngay_sinh[1]=='/':\n",
    "            self.ngay_sinh='0'+self.ngay_sinh\n",
    "        if self.ngay_sinh[4]=='/':\n",
    "            self.ngay_sinh=self.ngay_sinh[0:3]+'0'+self.ngay_sinh[3:]\n",
    "        if self.ngay_khd[1]=='/':\n",
    "            self.ngay_khd='0'+self.ngay_khd\n",
    "        if self.ngay_khd[4]=='/':\n",
    "            self.ngay_khd=self.ngay_khd[0:3]+'0'+self.ngay_khd[3:]\n",
    "    def __str__(self):\n",
    "        return f'{self.stt} {self.name} {self.sex} {self.ngay_sinh} {self.address} {self.code} {self.ngay_khd}'\n",
    "if __name__=='__main__':\n",
    "    n=int(input())\n",
    "    for i in range(n):\n",
    "        nv1=NV(i+1,input(),input(),input(),input(),input(),input())\n",
    "        nv1.chuanhoa()\n",
    "        print(nv1)"
   ]
  },
  {
   "cell_type": "code",
   "execution_count": null,
   "metadata": {},
   "outputs": [],
   "source": [
    "#Bài 26. Nhân viên 2\n",
    "from functools import cmp_to_key\n",
    "def cmp(a,b):\n",
    "    if int(a.ngay_sinh[6:]) < int(b.ngay_sinh[6:]):\n",
    "        return -1\n",
    "    elif int(a.ngay_sinh[6:]) > int(b.ngay_sinh[6:]):\n",
    "        return 1\n",
    "    else:\n",
    "        if int(a.ngay_sinh[3:5])<int(b.ngay_sinh[3:5]):\n",
    "            return -1\n",
    "        elif int(a.ngay_sinh[3:5])>int(b.ngay_sinh[3:5]):\n",
    "            return 1\n",
    "        else:\n",
    "            if int(a.ngay_sinh[0:2])<int(b.ngay_sinh[0:2]):\n",
    "                return -1\n",
    "            else:\n",
    "                return 1\n",
    "\n",
    "class NV:\n",
    "    def __init__(self,code,name,sex,ngay_sinh,address,tax_code,ngay_khd):\n",
    "        self.code=format(code,'05d')\n",
    "        self.name=name\n",
    "        self.sex=sex\n",
    "        self.ngay_sinh=ngay_sinh\n",
    "        self.address=address\n",
    "        self.tax_code=tax_code\n",
    "        self.ngay_khd=ngay_khd\n",
    "    def chuanhoa(self):\n",
    "        if self.ngay_sinh[1]=='/':\n",
    "            self.ngay_sinh='0'+ self.ngay_sinh\n",
    "        if self.ngay_sinh[4]=='/':\n",
    "            self.ngay_sinh=self.ngay_sinh[0:3]+'0'+self.ngay_sinh[3:]\n",
    "        if self.ngay_khd[1]=='/':\n",
    "            self.ngay_khd='0'+ self.ngay_khd\n",
    "        if self.ngay_khd[4]=='/':\n",
    "            self.ngay_khd=self.ngay_khd[0:3]+'0'+self.ngay_khd[3:]\n",
    "    def get_ngay_sinh(self):\n",
    "        return self.ngay_sinh\n",
    "    def __str__(self):\n",
    "        return f'{self.code} {self.name} {self.sex} {self.ngay_sinh} {self.address} {self.tax_code} {self.ngay_khd}'\n",
    "if __name__=='__main__':\n",
    "    n=int(input())\n",
    "    a=[]\n",
    "    for i in range(n):\n",
    "        s=NV(i+1,input(),input(),input(),input(),input(),input())\n",
    "        s.chuanhoa()\n",
    "        a.append(s)\n",
    "    a.sort(key=cmp_to_key(cmp))\n",
    "    for i in a:\n",
    "        print(i)"
   ]
  },
  {
   "cell_type": "code",
   "execution_count": null,
   "metadata": {},
   "outputs": [],
   "source": [
    "#Bài 27. Tính giờ quán net\n",
    "class quannet:\n",
    "    def __init__(self,user,psswd,name,time_in,time_out):\n",
    "        self.user=user\n",
    "        self.psswd=psswd\n",
    "        self.name=name\n",
    "        self.time_in=time_in\n",
    "        self.time_out=time_out\n",
    "    def get_user(self):\n",
    "        return self.user\n",
    "    def minutes1(self):\n",
    "        if int(self.time_in[3:]) > int(self.time_out[3:]):\n",
    "            self.hour1= int(self.time_out[0:2])-int(self.time_in[0:2])-1\n",
    "            self.minutes = int(self.time_out[3:])-int(self.time_in[3:])+60    \n",
    "        else:\n",
    "            self.hour1= int(self.time_out[0:2])-int(self.time_in[0:2])\n",
    "            self.minutes = int(self.time_out[3:])-int(self.time_in[3:])\n",
    "        return self.hour1*60 + self.minutes\n",
    "    def infor(self):\n",
    "        print('{} {} {} {} gio {} phut'.format(self.user,self.psswd,self.name,self.hour1,self.minutes))\n",
    "if __name__=='__main__':\n",
    "    n=int(input())\n",
    "    a=[]\n",
    "    for i in range(n):\n",
    "        s=quannet(input(),input(),input(),input(),input())\n",
    "        a.append(s)\n",
    "    a.sort(key=lambda x: (-x.minutes1(), x.get_user()))\n",
    "    for i in a:\n",
    "        i.infor()\n"
   ]
  },
  {
   "cell_type": "code",
   "execution_count": null,
   "metadata": {},
   "outputs": [],
   "source": [
    "#Bài 28. Bảng điểm\n",
    "from math import *\n",
    "class bangdiem:\n",
    "    def __init__(self,stt,name,diem):\n",
    "        self.stt='HS'+ format(stt,'02d')\n",
    "        self.name=name\n",
    "        self.diem=list(diem)\n",
    "    def infor(self):\n",
    "        dtb=sum(self.diem)/10\n",
    "        print(self.stt+' '+self.name+' '+'{:.1f}'.format(dtb),end=' ')\n",
    "        if dtb>=9:\n",
    "            print('XUAT SAC')\n",
    "        elif dtb>=8 and dtb<=8.9:\n",
    "            print('GIOI')\n",
    "        elif dtb>=7 and dtb<=7.9:\n",
    "            print('KHA')\n",
    "        elif dtb>=5 and dtb<=6.9:\n",
    "            print('TB')\n",
    "        else:\n",
    "            print('YEU')\n",
    "    def get_tb(self):\n",
    "        return sum(self.diem)\n",
    "if __name__=='__main__':\n",
    "    n=int(input())\n",
    "    a=[]\n",
    "    for i in range(n):\n",
    "        s=bangdiem(i+1,input(),list(map(float,(input().split()))))\n",
    "        a.append(s)\n",
    "    a.sort(key=lambda x: -x.get_tb())\n",
    "    for i in a:\n",
    "        i.infor()"
   ]
  },
  {
   "cell_type": "code",
   "execution_count": null,
   "metadata": {},
   "outputs": [],
   "source": [
    "#Bài 29. Sắp xếp sinh viên theo lớp\n",
    "class sv:\n",
    "    def __init__(self,code,name,lop,email):\n",
    "        self.code=code\n",
    "        self.name=name\n",
    "        self.lop=lop\n",
    "        self.email=email\n",
    "    def get_code(self):\n",
    "        return self.code\n",
    "    def get_lop(self):\n",
    "        return self.lop\n",
    "    def __str__(self):\n",
    "        return f'{self.code} {self.name} {self.lop} {self.email}'\n",
    "if __name__=='__main__':\n",
    "    n=int(input())\n",
    "    a=[]\n",
    "    for i in range(n):\n",
    "        s=sv(input(),input(),input(),input())\n",
    "        a.append(s)\n",
    "    a.sort(key=lambda x: (x.get_lop(),x.get_code()))\n",
    "    for i in a:\n",
    "        print(i)"
   ]
  },
  {
   "cell_type": "code",
   "execution_count": 19,
   "metadata": {},
   "outputs": [
    {
     "name": "stdout",
     "output_type": "stream",
     "text": [
      "['CNTT1', 'CNTT1', 'CNTT2', 'CNTT3']\n"
     ]
    }
   ],
   "source": [
    "#Bài 30. Sắp xếp sinh viên theo mã\n",
    "from sys import stdin\n",
    "class sv:\n",
    "    def __init__(self,code,name,lop,email):\n",
    "        self.code=code\n",
    "        self.name=name\n",
    "        self.lop=lop\n",
    "        self.email=email\n",
    "    def get_code(self):\n",
    "        return self.code\n",
    "    def get_lop(self):\n",
    "        return self.lop\n",
    "    def __str__(self):\n",
    "        return f'{self.code} {self.name} {self.lop} {self.email}'\n",
    "if __name__=='__main__':\n",
    "    a=[]\n",
    "    line=[]\n",
    "    for x in stdin:\n",
    "        line.append(x[:-1])\n",
    "    for i in range(0,len(line),4):\n",
    "        s=sv(line[i],line[i+1],line[i+2],line[i+3])\n",
    "        a.append(s)\n",
    "    a.sort(key=lambda x: (x.get_code()))\n",
    "    for i in a:\n",
    "        print(i)"
   ]
  },
  {
   "cell_type": "code",
   "execution_count": null,
   "metadata": {},
   "outputs": [],
   "source": [
    "#Bài 31. Liệt kê sinh viên theo lớp\n",
    "class sv:\n",
    "    def __init__(self,mssv,name,lop,mail):\n",
    "        self.mssv=mssv\n",
    "        self.name=name\n",
    "        self.lop=lop\n",
    "        self.mail=mail\n",
    "    def infor(self):\n",
    "        print(self.mssv,end=' ')\n",
    "        for i in self.name:\n",
    "            print(''.join(i.title()),end=' ')\n",
    "        print(self.lop+' '+self.mail)\n",
    "if __name__=='__main__':\n",
    "    n=int(input())\n",
    "    a=[]\n",
    "    for i in range(n):\n",
    "        s=sv(input(),input().split(),input(),input())\n",
    "        a.append(s)\n",
    "    q=int(input())\n",
    "    for i in range(q):\n",
    "        request=input()\n",
    "        print('DANH SACH SINH VIEN LOP {} :'.format(request))\n",
    "        for hs in a:\n",
    "            if hs.lop==request:\n",
    "                hs.infor()\n",
    "            \n",
    "    \n",
    "        "
   ]
  },
  {
   "cell_type": "code",
   "execution_count": null,
   "metadata": {},
   "outputs": [],
   "source": [
    "#Bài 32. Liệt kê sinh viên theo khóa\n",
    "class sv:\n",
    "    def __init__(self,mssv,name,lop,mail):\n",
    "        self.mssv=mssv\n",
    "        self.name=name\n",
    "        self.lop=lop\n",
    "        self.mail=mail\n",
    "    def infor(self):\n",
    "        print(self.mssv,end=' ')\n",
    "        for i in self.name:\n",
    "            print(''.join(i.title()),end=' ')\n",
    "        print(self.lop+' '+self.mail)\n",
    "if __name__=='__main__':\n",
    "    n=int(input())\n",
    "    a=[]\n",
    "    for i in range(n):\n",
    "        s=sv(input(),input().split(),input(),input())\n",
    "        a.append(s)\n",
    "    q=int(input())\n",
    "    for i in range(q):\n",
    "        request=input()\n",
    "        print('DANH SACH SINH VIEN KHOA {} :'.format(request))\n",
    "        for hs in a:\n",
    "            if hs.mssv[:4]==request:\n",
    "                hs.infor()"
   ]
  },
  {
   "cell_type": "code",
   "execution_count": 37,
   "metadata": {},
   "outputs": [
    {
     "name": "stdout",
     "output_type": "stream",
     "text": [
      "Pham Ngoc Thuan "
     ]
    }
   ],
   "source": [
    "a=input().split()\n",
    "for i in a:\n",
    "    print(''.join(i.title()),end=' ')\n"
   ]
  }
 ],
 "metadata": {
  "kernelspec": {
   "display_name": "Python 3",
   "language": "python",
   "name": "python3"
  },
  "language_info": {
   "codemirror_mode": {
    "name": "ipython",
    "version": 3
   },
   "file_extension": ".py",
   "mimetype": "text/x-python",
   "name": "python",
   "nbconvert_exporter": "python",
   "pygments_lexer": "ipython3",
   "version": "3.10.8"
  },
  "orig_nbformat": 4
 },
 "nbformat": 4,
 "nbformat_minor": 2
}
