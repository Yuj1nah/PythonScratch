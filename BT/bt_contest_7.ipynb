{
 "cells": [
  {
   "cell_type": "code",
   "execution_count": null,
   "metadata": {},
   "outputs": [],
   "source": [
    "# Bài 1. Các số khác nhau trong mảng\n",
    "n=int(input())\n",
    "a=list(map(int,input().split()))\n",
    "a.sort()    \n",
    "dem=1\n",
    "for i in range(1,n):\n",
    "    if a[i]!=a[i-1]:\n",
    "        dem+=1\n",
    "print(dem)"
   ]
  },
  {
   "cell_type": "code",
   "execution_count": 2,
   "metadata": {},
   "outputs": [
    {
     "name": "stdout",
     "output_type": "stream",
     "text": [
      "1 2 -3 4 -5 "
     ]
    }
   ],
   "source": [
    "#Bài 2. Sắp xếp theo trị tuyệt đối\n",
    "from math import *\n",
    "n=int(input())\n",
    "a=list(map(int,input().split()))\n",
    "a.sort(key=abs)    \n",
    "for i in a:\n",
    "    print(i,end=' ')"
   ]
  },
  {
   "cell_type": "code",
   "execution_count": null,
   "metadata": {},
   "outputs": [],
   "source": [
    "#Bài 3. Sắp xếp theo tổng chữ số\n",
    "from math import *\n",
    "from functools import cmp_to_key\n",
    "def sum_digit(a):\n",
    "    tong=0\n",
    "    while(a!=0):\n",
    "        tong+=a%10\n",
    "        a//=10\n",
    "    return tong\n",
    "def cmp(a,b):\n",
    "    tong1,tong2=sum_digit(a),sum_digit(b)\n",
    "    if tong1!=tong2:\n",
    "        return tong1-tong2\n",
    "    else:\n",
    "        return a-b\n",
    "n=int(input())\n",
    "a=list(map(int,input().split()))\n",
    "a.sort(key=cmp_to_key(cmp))    \n",
    "for i in a:\n",
    "    print(i,end=' ')"
   ]
  },
  {
   "cell_type": "code",
   "execution_count": null,
   "metadata": {},
   "outputs": [],
   "source": [
    "#Bài 4. Khoảng cách nhỏ nhất\n",
    "n=int(input())\n",
    "a=list(map(int,input().split()))\n",
    "a.sort()\n",
    "tong=10**18\n",
    "for i in range(1,n):\n",
    "    tong=min(tong,(a[i]-a[i-1]))\n",
    "print(tong)"
   ]
  },
  {
   "cell_type": "code",
   "execution_count": 9,
   "metadata": {},
   "outputs": [
    {
     "name": "stdout",
     "output_type": "stream",
     "text": [
      "1 2\n"
     ]
    }
   ],
   "source": [
    "#Bài 5. Số xuất hiện nhiều nhất trong mảng\n",
    "n=int(input())\n",
    "a=list(map(int,input().split()))\n",
    "a.sort()\n",
    "cnt=1\n",
    "ans=1\n",
    "res=a[0]\n",
    "a.append(10**18)\n",
    "for i in range(1,n+1):\n",
    "    if a[i]==a[i-1]:\n",
    "        cnt+=1\n",
    "    else:\n",
    "        if cnt>ans:\n",
    "            ans=cnt\n",
    "            res=a[i-1]\n",
    "        cnt=1\n",
    "print(res,ans)\n"
   ]
  },
  {
   "cell_type": "code",
   "execution_count": 17,
   "metadata": {},
   "outputs": [
    {
     "name": "stdout",
     "output_type": "stream",
     "text": [
      "YES\n",
      "NO\n"
     ]
    }
   ],
   "source": [
    "#Bài 9. Tìm kiếm nhị phân\n",
    "from math import *\n",
    "def binary_search(a,l,r,x):\n",
    "    while l<=r:\n",
    "        m=(l+r)//2\n",
    "        if a[m]==x:\n",
    "            return True\n",
    "        elif a[m]>x:\n",
    "            r=m-1\n",
    "        elif a[m]<x:\n",
    "            l=m+1\n",
    "    return False\n",
    "if __name__=='__main__':\n",
    "    n=int(input())\n",
    "    a=list(map(int,input().split()))\n",
    "    a.sort()\n",
    "    request=int(input())\n",
    "    for i in range(request):\n",
    "        k=int(input())\n",
    "        if binary_search(a,0,len(a)-1,k):\n",
    "            print('YES')\n",
    "        else:\n",
    "            print('NO')"
   ]
  },
  {
   "cell_type": "code",
   "execution_count": 20,
   "metadata": {},
   "outputs": [
    {
     "name": "stdout",
     "output_type": "stream",
     "text": [
      "c1 b1 c2 b2 b3 c3 c4 b4 b5 c5 "
     ]
    }
   ],
   "source": [
    "#Bài 11. Trộn 2 dãy\n",
    "n,m=map(int,input().split())\n",
    "b=list(map(int,input().split()))\n",
    "c=list(map(int,input().split()))\n",
    "i,j=0,0\n",
    "while i<n and j<m:\n",
    "    if b[i]<=c[j]:\n",
    "        print('b',i+1,sep='',end=' ')\n",
    "        i+=1\n",
    "    else:\n",
    "        print('c',j+1,sep='',end=' ')\n",
    "        j+=1\n",
    "while i<n:\n",
    "    print('b',i+1,sep='',end=' ')\n",
    "    i+=1\n",
    "while j<m:\n",
    "    print('c',j+1,sep='',end=' ')\n",
    "    j+=1\n"
   ]
  },
  {
   "cell_type": "code",
   "execution_count": 5,
   "metadata": {},
   "outputs": [
    {
     "name": "stdout",
     "output_type": "stream",
     "text": [
      "-1\n",
      "-1\n",
      "1\n",
      "1\n",
      "0\n"
     ]
    }
   ],
   "source": [
    "#Bài 10. Tìm kiếm nhị phân biến đổi\n",
    "def first_pos(a,l,r,x):\n",
    "    res=-1\n",
    "    while l<=r:\n",
    "        m=(l+r)//2\n",
    "        if a[m]==x:\n",
    "            res=m\n",
    "            r=m-1\n",
    "        elif a[m]>x:\n",
    "            r=m-1\n",
    "        else:\n",
    "            l=m+1\n",
    "    return res\n",
    "def last_pos(a,l,r,x):\n",
    "    res=-1\n",
    "    while l<=r:\n",
    "        m=(l+r)//2\n",
    "        if a[m]==x:\n",
    "            res=m\n",
    "            l=m+1\n",
    "        elif a[m]>x:\n",
    "            r=m-1\n",
    "        else:\n",
    "            l=m+1\n",
    "    return res\n",
    "def first_pos1(a,l,r,x):\n",
    "    res=-1\n",
    "    while l<=r:\n",
    "        m=(l+r)//2\n",
    "        if a[m]>=x:\n",
    "            res=m\n",
    "            r=m-1\n",
    "        else:\n",
    "            l=m+1\n",
    "    return res\n",
    "def first_pos2(a,l,r,x):\n",
    "    res=-1\n",
    "    while l<=r:\n",
    "        m=(l+r)//2\n",
    "        if a[m]>x:\n",
    "            res=m\n",
    "            r=m-1\n",
    "        else:\n",
    "            l=m+1\n",
    "    return res\n",
    "def count(a,l,r,x):\n",
    "    a,b=first_pos(a,l,r,x),last_pos(a,l,r,x)\n",
    "    if a <0:\n",
    "        return 0\n",
    "    elif a==b:\n",
    "        return 1\n",
    "    else:\n",
    "        return b-a+1\n",
    "if __name__=='__main__':\n",
    "    n,x=map(int,input().split())\n",
    "    a=list(map(int,input().split()))\n",
    "    print(first_pos(a,0,len(a)-1,x))\n",
    "    print(last_pos(a,0,len(a)-1,x))\n",
    "    print(first_pos1(a,0,len(a)-1,x))\n",
    "    print(first_pos2(a,0,len(a)-1,x))\n",
    "    print(count(a,0,len(a)-1,x))"
   ]
  },
  {
   "cell_type": "code",
   "execution_count": 20,
   "metadata": {},
   "outputs": [
    {
     "name": "stdout",
     "output_type": "stream",
     "text": [
      "3\n"
     ]
    }
   ],
   "source": [
    "#Bài 12. Khiêu vũ\n",
    "n,m=map(int,input().split())\n",
    "a=list(map(int,input().split()))\n",
    "b=list(map(int,input().split()))\n",
    "count=0\n",
    "i,j=0, 0\n",
    "a.sort()\n",
    "b.sort()\n",
    "while i<n and j<m:\n",
    "    if a[i]>b[j]:\n",
    "        count+=1\n",
    "        i+=1\n",
    "        j+=1\n",
    "    else:\n",
    "        i+=1\n",
    "print(count)\n",
    "    "
   ]
  },
  {
   "cell_type": "code",
   "execution_count": null,
   "metadata": {},
   "outputs": [],
   "source": [
    "# Bài 13. Xếp gạch\n",
    "n=int(input())\n",
    "a=list(map(int,input().split()))\n",
    "a.sort(reverse=True)\n",
    "docung=a[0]\n",
    "cnt=1\n",
    "for i in range(1,n):\n",
    "    if docung<=0:\n",
    "        break\n",
    "    cnt+=1\n",
    "    docung=min(docung-1,a[i])\n",
    "print(cnt)"
   ]
  },
  {
   "cell_type": "code",
   "execution_count": 33,
   "metadata": {},
   "outputs": [
    {
     "name": "stdout",
     "output_type": "stream",
     "text": [
      "9\n"
     ]
    }
   ],
   "source": [
    "#Bài 14. Vắt sữa bò\n",
    "n=int(input())\n",
    "a=list(map(int,input().split()))\n",
    "cnt=1\n",
    "a.sort(reverse=True)\n",
    "tong=a[0]\n",
    "for i in range(1,n):\n",
    "    if a[i]<=0:\n",
    "        break\n",
    "    elif a[i]>cnt:\n",
    "        tong=tong+a[i]-cnt\n",
    "        cnt+=1\n",
    "    else:\n",
    "        break\n",
    "\n",
    "print(tong)"
   ]
  },
  {
   "cell_type": "code",
   "execution_count": 55,
   "metadata": {},
   "outputs": [
    {
     "name": "stdout",
     "output_type": "stream",
     "text": [
      "6\n"
     ]
    }
   ],
   "source": [
    "#Bài 17. Cặp số có tổng bằng K\n",
    "def first_pos(a,l,r,x):\n",
    "    res=0\n",
    "    while l<=r:\n",
    "        m=(l+r)//2\n",
    "        if a[m]==x:\n",
    "            res=m\n",
    "            r=m-1\n",
    "        elif a[m]>x:\n",
    "            r=m-1\n",
    "        else:\n",
    "            l=m+1\n",
    "    return res\n",
    "def last_pos(a,l,r,x):\n",
    "    res=-1\n",
    "    while l<=r:\n",
    "        m=(l+r)//2\n",
    "        if a[m]==x:\n",
    "            res=m\n",
    "            l=m+1\n",
    "        elif a[m]>x:\n",
    "            r=m-1\n",
    "        else:\n",
    "            l=m+1\n",
    "    return res\n",
    "if __name__=='__main__':\n",
    "    n,k=map(int,input().split())\n",
    "    a=list(map(int,input().split()))\n",
    "    a.sort()\n",
    "    tong=0\n",
    "    i=0\n",
    "    cnt=0\n",
    "    while i<n-1:\n",
    "        tmp=k-a[i]\n",
    "        first,last=first_pos(a,i+1,n-1,tmp),last_pos(a,i+1,n-1,tmp)\n",
    "        if last - first <0:\n",
    "            cnt+=0\n",
    "        else:\n",
    "            cnt+=(last-first+1)\n",
    "        i+=1\n",
    "    print(cnt)"
   ]
  },
  {
   "cell_type": "code",
   "execution_count": 48,
   "metadata": {},
   "outputs": [
    {
     "name": "stdout",
     "output_type": "stream",
     "text": [
      "0\n"
     ]
    }
   ],
   "source": [
    "2 3 4 5 6"
   ]
  }
 ],
 "metadata": {
  "kernelspec": {
   "display_name": "Python 3",
   "language": "python",
   "name": "python3"
  },
  "language_info": {
   "codemirror_mode": {
    "name": "ipython",
    "version": 3
   },
   "file_extension": ".py",
   "mimetype": "text/x-python",
   "name": "python",
   "nbconvert_exporter": "python",
   "pygments_lexer": "ipython3",
   "version": "3.10.8"
  },
  "orig_nbformat": 4
 },
 "nbformat": 4,
 "nbformat_minor": 2
}
