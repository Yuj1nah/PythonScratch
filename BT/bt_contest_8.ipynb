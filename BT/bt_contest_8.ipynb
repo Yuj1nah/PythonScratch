{
 "cells": [
  {
   "cell_type": "code",
   "execution_count": 2,
   "metadata": {},
   "outputs": [
    {
     "name": "stdout",
     "output_type": "stream",
     "text": [
      "3\n",
      "3\n",
      "3\n"
     ]
    }
   ],
   "source": [
    "#Bài 1. Phần tử phân biệt\n",
    "#cach 1\n",
    "from collections import Counter\n",
    "n=int(input())\n",
    "a=list(map(int,input().split()))\n",
    "print(len(set(a)))\n",
    "#cach 2\n",
    "b={}\n",
    "for i in a:\n",
    "    b[i]=1\n",
    "print(len(b))\n",
    "#cach 3:\n",
    "c=list(dict(Counter(a)).keys())\n",
    "print(len(c))\n"
   ]
  },
  {
   "cell_type": "code",
   "execution_count": 4,
   "metadata": {},
   "outputs": [
    {
     "name": "stdout",
     "output_type": "stream",
     "text": [
      "YES\n",
      "NO\n"
     ]
    }
   ],
   "source": [
    "#Bài 2. Truy vấn phần tử trong mảng.\n",
    "n=int(input())\n",
    "a=set(map(int,input().split()))\n",
    "Q=int(input())\n",
    "for i in range(Q):\n",
    "    k=int(input())\n",
    "    if k in a:\n",
    "        print('YES')\n",
    "    else:\n",
    "        print('NO')"
   ]
  },
  {
   "cell_type": "code",
   "execution_count": 11,
   "metadata": {},
   "outputs": [
    {
     "name": "stdout",
     "output_type": "stream",
     "text": [
      "1 2 3 4 8 "
     ]
    }
   ],
   "source": [
    "#Bài 3. Phần tử riêng biệt.\n",
    "n=int(input())\n",
    "a=list(map(int,input().split()))\n",
    "b=set({})\n",
    "for i in a:\n",
    "    if i not in b:\n",
    "        print(i,end=' ')\n",
    "        b.add(i)"
   ]
  },
  {
   "cell_type": "code",
   "execution_count": 16,
   "metadata": {},
   "outputs": [
    {
     "name": "stdout",
     "output_type": "stream",
     "text": [
      "YES\n",
      "NO\n"
     ]
    }
   ],
   "source": [
    "#Bài 4. Truy vấn trên mảng\n",
    "n=int(input())\n",
    "a=list(map(int,input().split()))\n",
    "Q=int(input())\n",
    "for i in range(Q):\n",
    "    request,k=map(int,input().split())\n",
    "    if request == 1:\n",
    "        a.append(k)\n",
    "    elif request == 2:\n",
    "        if k in a:\n",
    "            a.remove(k)\n",
    "    elif request == 3:\n",
    "        b=set(a)\n",
    "        if k in b:\n",
    "            print('YES')\n",
    "        else:\n",
    "            print('NO')"
   ]
  },
  {
   "cell_type": "code",
   "execution_count": 31,
   "metadata": {},
   "outputs": [
    {
     "name": "stdout",
     "output_type": "stream",
     "text": [
      "9 7 6 5 4 3 2 0 "
     ]
    }
   ],
   "source": [
    "#Bài 9. Union\n",
    "n,m=map(int,input().split())\n",
    "N=set(map(int,input().split()))\n",
    "M=set(map(int,input().split()))\n",
    "b={x for x in N|M}\n",
    "ans=list(b)\n",
    "ans.sort(reverse=True)\n",
    "for i in ans:\n",
    "    print(i,end=' ')"
   ]
  },
  {
   "cell_type": "code",
   "execution_count": 39,
   "metadata": {},
   "outputs": [
    {
     "name": "stdout",
     "output_type": "stream",
     "text": [
      "5 6 2 3 "
     ]
    }
   ],
   "source": [
    "#Bài 10. Intersection\n",
    "n,m=map(int,input().split())\n",
    "N=list(map(int,input().split()))\n",
    "M=list(map(int,input().split()))\n",
    "s1=set(N)\n",
    "s2=set(M)\n",
    "s3=list(s1.intersection(s2))\n",
    "for i in N:\n",
    "    if i in s3:\n",
    "        print(i,end=' ')\n",
    "        s3.remove(i)"
   ]
  },
  {
   "cell_type": "code",
   "execution_count": 43,
   "metadata": {},
   "outputs": [
    {
     "name": "stdout",
     "output_type": "stream",
     "text": [
      "3 4 5 7 8 9 "
     ]
    }
   ],
   "source": [
    "#Bài 11-12. Difference symetric dif\n",
    "n,m=map(int,input().split())\n",
    "N=list(map(int,input().split()))\n",
    "M=list(map(int,input().split()))\n",
    "s1=set(N)\n",
    "s2=set(M)\n",
    "s3=list(s1.difference(s2))\n",
    "s4=list(s2.difference(s1))\n",
    "S=(s3+s4)\n",
    "S.sort()\n",
    "for i in S:\n",
    "    print(i,end=' ')"
   ]
  },
  {
   "cell_type": "code",
   "execution_count": 44,
   "metadata": {},
   "outputs": [
    {
     "name": "stdout",
     "output_type": "stream",
     "text": [
      "3 "
     ]
    }
   ],
   "source": [
    "#Bài 13. Loại trừ\n",
    "n,m=map(int,input().split())\n",
    "N=list(map(int,input().split()))\n",
    "M=list(map(int,input().split()))\n",
    "s1=set(N)\n",
    "s2=set(M)\n",
    "s3=list(s1.difference(s2))\n",
    "s3.sort()\n",
    "for i in s3:\n",
    "    print(i,end=' ')"
   ]
  },
  {
   "cell_type": "code",
   "execution_count": 51,
   "metadata": {},
   "outputs": [
    {
     "name": "stdout",
     "output_type": "stream",
     "text": [
      "1\n",
      "3\n",
      "5\n",
      "2\n"
     ]
    }
   ],
   "source": [
    "#Bài 14. Suffix And Query\n",
    "n=int(input())\n",
    "a=list(map(int,input().split()))\n",
    "Q=int(input())\n",
    "F=[0]*n\n",
    "s=set({})\n",
    "for i in range(n-1,-1,-1):\n",
    "    s.add(a[i])\n",
    "    F[i]=len(s)\n",
    "for i in range(Q):\n",
    "    L=int(input())\n",
    "    print(F[L])\n"
   ]
  },
  {
   "cell_type": "code",
   "execution_count": null,
   "metadata": {},
   "outputs": [],
   "source": [
    "#Bài 9. Đếm tần suất\n",
    "from collections import Counter\n",
    "n=int(input())\n",
    "a=list(map(int,input().split()))\n",
    "b=list(dict(Counter(a)).items())\n",
    "c={}\n",
    "for i in a:\n",
    "    if i in c:\n",
    "        c[i]+=1\n",
    "    else:\n",
    "        c[i]=1\n",
    "s=list(c.items())\n",
    "s.sort()\n",
    "d=dict(s)\n",
    "for x,y in d.items():\n",
    "    print(x,y)\n",
    "print()\n",
    "for x,y in b:\n",
    "    print(x,y)"
   ]
  },
  {
   "cell_type": "code",
   "execution_count": 26,
   "metadata": {},
   "outputs": [
    {
     "ename": "ValueError",
     "evalue": "not enough values to unpack (expected 2, got 0)",
     "output_type": "error",
     "traceback": [
      "\u001b[1;31m---------------------------------------------------------------------------\u001b[0m",
      "\u001b[1;31mValueError\u001b[0m                                Traceback (most recent call last)",
      "\u001b[1;32mc:\\Users\\phero\\PycharmProjects\\hungleproject\\hunglevscode\\Python\\PythonScratch\\BT\\bt_contest_8.ipynb Cell 11\u001b[0m in \u001b[0;36m1\n\u001b[1;32m----> <a href='vscode-notebook-cell:/c%3A/Users/phero/PycharmProjects/hungleproject/hunglevscode/Python/PythonScratch/BT/bt_contest_8.ipynb#X13sZmlsZQ%3D%3D?line=0'>1</a>\u001b[0m n,m\u001b[39m=\u001b[39m\u001b[39mmap\u001b[39m(\u001b[39mint\u001b[39m,\u001b[39minput\u001b[39m()\u001b[39m.\u001b[39msplit())\n\u001b[0;32m      <a href='vscode-notebook-cell:/c%3A/Users/phero/PycharmProjects/hungleproject/hunglevscode/Python/PythonScratch/BT/bt_contest_8.ipynb#X13sZmlsZQ%3D%3D?line=1'>2</a>\u001b[0m c\u001b[39m=\u001b[39m\u001b[39mlist\u001b[39m(\u001b[39mmap\u001b[39m(\u001b[39mint\u001b[39m,\u001b[39minput\u001b[39m()\u001b[39m.\u001b[39msplit()))\n\u001b[0;32m      <a href='vscode-notebook-cell:/c%3A/Users/phero/PycharmProjects/hungleproject/hunglevscode/Python/PythonScratch/BT/bt_contest_8.ipynb#X13sZmlsZQ%3D%3D?line=2'>3</a>\u001b[0m d\u001b[39m=\u001b[39m\u001b[39mlist\u001b[39m(\u001b[39mmap\u001b[39m(\u001b[39mint\u001b[39m,\u001b[39minput\u001b[39m()\u001b[39m.\u001b[39msplit()))\n",
      "\u001b[1;31mValueError\u001b[0m: not enough values to unpack (expected 2, got 0)"
     ]
    }
   ],
   "source": [
    "#Bài 10. Tìm hợp và giao của 2 mảng 1\n",
    "n,m=map(int,input().split())\n",
    "c=list(map(int,input().split()))\n",
    "d=list(map(int,input().split()))\n",
    "s1=set(c)\n",
    "s2=set(d)\n",
    "s3=list(s1&s2)\n",
    "s3.sort()\n",
    "for x in s3:\n",
    "    print(x,end=' ')\n",
    "s4=list(s1|s2)\n",
    "s4.sort()\n",
    "print()\n",
    "for i in s4:\n",
    "    print(i,end=' ')\n"
   ]
  },
  {
   "cell_type": "code",
   "execution_count": 27,
   "metadata": {},
   "outputs": [
    {
     "name": "stdout",
     "output_type": "stream",
     "text": [
      "1 2 3 4 5 6 7 \n",
      "2 3 "
     ]
    }
   ],
   "source": [
    "#Bài 11. Tìm hợp và giao của 2 mảng 2\n",
    "n,m=map(int,input().split())\n",
    "c=list(map(int,input().split()))\n",
    "d=list(map(int,input().split()))\n",
    "s1=set(c)\n",
    "s2=set(d)\n",
    "s3=list(s1&s2)\n",
    "s3.sort()\n",
    "s4=list(s1|s2)\n",
    "s4.sort()\n",
    "for i in s4:\n",
    "    print(i,end=' ')\n",
    "print()\n",
    "for x in s3:\n",
    "    print(x,end=' ')\n"
   ]
  },
  {
   "cell_type": "code",
   "execution_count": 36,
   "metadata": {},
   "outputs": [
    {
     "name": "stdout",
     "output_type": "stream",
     "text": [
      "7 2\n",
      "5 1\n",
      "2 2\n",
      "9 2\n",
      "3 1\n",
      "4 1\n"
     ]
    }
   ],
   "source": [
    "#Bài 12. Đếm tần suất số nguyên tố\n",
    "from math import *\n",
    "from collections import Counter\n",
    "def prime(n):\n",
    "    if n<2:\n",
    "        return False\n",
    "    for i in range(2,isqrt(n)+1):\n",
    "        if n%i==0:\n",
    "            return False\n",
    "    return True\n",
    "if __name__=='__main__':\n",
    "    a=list(map(int,input().split()))\n",
    "    b=[x for x in a if prime(x)]\n",
    "    c=list(dict(Counter(b)).items())\n",
    "    for x,y in c:\n",
    "        print(x,y)\n",
    "    "
   ]
  },
  {
   "cell_type": "code",
   "execution_count": 37,
   "metadata": {},
   "outputs": [
    {
     "name": "stdout",
     "output_type": "stream",
     "text": [
      "True\n"
     ]
    }
   ],
   "source": [
    "from math import *\n",
    "from collections import Counter\n",
    "def prime(n):\n",
    "    if n<2:\n",
    "        return False\n",
    "    for i in range(2,isqrt(n)+1):\n",
    "        if n%i==0:\n",
    "            return False\n",
    "    return True\n",
    "print(prime(4))"
   ]
  },
  {
   "cell_type": "code",
   "execution_count": null,
   "metadata": {},
   "outputs": [],
   "source": [
    "from sys import stdin\n",
    "def check(n):\n",
    "    r=n%10\n",
    "    n//=10\n",
    "    while n!=0:\n",
    "        if r<n%10:\n",
    "            return False\n",
    "        r=n%10\n",
    "        n//=10\n",
    "    return True\n",
    "if __name__=='__main__':\n",
    "    d=dict({})\n",
    "    for line in stdin:\n",
    "        a=list(map(int,line.split()))\n",
    "        for i in a:\n",
    "            if check(i):\n",
    "                if i in d:\n",
    "                    d[i]+=1\n",
    "                else:\n",
    "                    d[i]=1\n",
    "    d=list(d.items())\n",
    "    d.sort(key=lambda x: (-x[1],x[0]) )\n",
    "    for x,y in d:\n",
    "        print(x,y)\n"
   ]
  }
 ],
 "metadata": {
  "kernelspec": {
   "display_name": "Python 3",
   "language": "python",
   "name": "python3"
  },
  "language_info": {
   "codemirror_mode": {
    "name": "ipython",
    "version": 3
   },
   "file_extension": ".py",
   "mimetype": "text/x-python",
   "name": "python",
   "nbconvert_exporter": "python",
   "pygments_lexer": "ipython3",
   "version": "3.10.8"
  },
  "orig_nbformat": 4
 },
 "nbformat": 4,
 "nbformat_minor": 2
}
