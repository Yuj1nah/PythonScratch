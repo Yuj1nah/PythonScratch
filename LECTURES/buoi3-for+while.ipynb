{
 "cells": [
  {
   "cell_type": "code",
   "execution_count": 8,
   "metadata": {},
   "outputs": [
    {
     "name": "stdout",
     "output_type": "stream",
     "text": [
      "1 4 7 "
     ]
    }
   ],
   "source": [
    "#Vòng lặp for i in range(start,stop,step)\n",
    "for i in range(1,10,3):\n",
    "    print(i, end=' ')"
   ]
  },
  {
   "cell_type": "code",
   "execution_count": 3,
   "metadata": {},
   "outputs": [
    {
     "name": "stdout",
     "output_type": "stream",
     "text": [
      "0 1 2 3 4 Vong lap da ket thuc\n"
     ]
    }
   ],
   "source": [
    "#cấu trúc for-else chạy xong hết vòng lặp thì in dòng cuối cùng về cơ bản có hay k có else cũng được chỉ cần đứng ngòi vòng for\n",
    "for i in range(5):\n",
    "    print(i,end=' ')\n",
    "else: \n",
    "    print('Vong lap da ket thuc')\n"
   ]
  },
  {
   "cell_type": "code",
   "execution_count": 8,
   "metadata": {},
   "outputs": [
    {
     "name": "stdout",
     "output_type": "stream",
     "text": [
      "1\n",
      "2\n",
      "3\n",
      "4\n",
      "5\n",
      "6\n",
      "7\n",
      "cau lenh da ket thuc\n",
      "hung\n",
      "hung\n",
      "hung\n",
      "hung\n",
      "hung\n"
     ]
    }
   ],
   "source": [
    "#câu lệnh BREAK và CONTINUE\n",
    "#vd Break:\n",
    "for i in range(1,21):\n",
    "    print(i)\n",
    "    if i%7==0:\n",
    "        break\n",
    "print('cau lenh da ket thuc')\n",
    "#vd Continue:\n",
    "for i in range(5):\n",
    "    print('hung')\n",
    "    continue\n",
    "    print('vjp')"
   ]
  },
  {
   "cell_type": "code",
   "execution_count": null,
   "metadata": {},
   "outputs": [],
   "source": [
    "#Nested loop(Vòng for lồng nhau)\n",
    "for i in range(5):\n",
    "    for j in range(5):\n",
    "        print(i, j)"
   ]
  },
  {
   "cell_type": "code",
   "execution_count": 11,
   "metadata": {},
   "outputs": [
    {
     "name": "stdout",
     "output_type": "stream",
     "text": [
      "5\n"
     ]
    }
   ],
   "source": [
    "#while\n",
    "\n",
    "'''while condition:\n",
    "    code when condition is True\n",
    "else:\n",
    "    code when condisiton is False'''\n",
    "#ex:\n",
    "n=0\n",
    "while n<=5:\n",
    "    print(n)\n",
    "    n+=1\n",
    "#Yêu cầu người dùng nhập số dương nếu k đúng nhập lại\n",
    "while True:\n",
    "    n=int(input())\n",
    "    if(n>0):\n",
    "        break\n",
    "print(n)\n",
    "\n"
   ]
  },
  {
   "cell_type": "code",
   "execution_count": 22,
   "metadata": {},
   "outputs": [
    {
     "name": "stdout",
     "output_type": "stream",
     "text": [
      "4231\n"
     ]
    }
   ],
   "source": [
    "#Bài toán tính tổng chữ số:\n",
    "n=1324\n",
    "tong=0\n",
    "while n!=0:\n",
    "    tong+=n%10\n",
    "    n//=10\n",
    "print(tong)\n",
    "#Bài toán đảo ngược chữ số:\n",
    "b=1324\n",
    "tich=0\n",
    "while b!=0:\n",
    "    tich=tich*10+b%10\n",
    "    b//=10\n",
    "print(tich)"
   ]
  },
  {
   "cell_type": "code",
   "execution_count": null,
   "metadata": {},
   "outputs": [],
   "source": []
  }
 ],
 "metadata": {
  "kernelspec": {
   "display_name": "Python 3",
   "language": "python",
   "name": "python3"
  },
  "language_info": {
   "codemirror_mode": {
    "name": "ipython",
    "version": 3
   },
   "file_extension": ".py",
   "mimetype": "text/x-python",
   "name": "python",
   "nbconvert_exporter": "python",
   "pygments_lexer": "ipython3",
   "version": "3.10.8"
  },
  "orig_nbformat": 4
 },
 "nbformat": 4,
 "nbformat_minor": 2
}
