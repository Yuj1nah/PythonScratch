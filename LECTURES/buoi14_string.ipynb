{
 "cells": [
  {
   "cell_type": "code",
   "execution_count": 1,
   "metadata": {},
   "outputs": [
    {
     "name": "stdout",
     "output_type": "stream",
     "text": [
      "le huu kien\n"
     ]
    }
   ],
   "source": [
    "#ham replace replace('name','new name')\n",
    "t='le huu hung'\n",
    "s=t.replace('hung','kien')\n",
    "print(s)"
   ]
  },
  {
   "cell_type": "code",
   "execution_count": 6,
   "metadata": {},
   "outputs": [
    {
     "name": "stdout",
     "output_type": "stream",
     "text": [
      "['le', 'huu', 'hung', 'lop', '12/26']\n",
      "['le', ' huu', ' hung', ' dhkhdl18a']\n",
      "le-huu-hung-lop-12/26\n"
     ]
    }
   ],
   "source": [
    "#ham split() va join()\n",
    "t='le huu hung lop 12/26'\n",
    "s=t.split()\n",
    "print(s)\n",
    "a='le, huu, hung, dhkhdl18a'\n",
    "d=a.split(',')\n",
    "print(d)\n",
    "g='-'.join(s)\n",
    "print(g)"
   ]
  },
  {
   "cell_type": "code",
   "execution_count": null,
   "metadata": {},
   "outputs": [],
   "source": [
    "#cac ham conversion\n",
    "s='28tech JAva pyThon'\n",
    "s1=s.upper()\n",
    "print(s1)\n",
    "s2=s.lower()\n",
    "print(s2)\n",
    "s3=s.swapcase() #chuyen chu hoa thanh chu thuong va nguoc lai\n",
    "print(s3)\n",
    "s4=s.title() #viet hoa chu cai dau tung tu\n",
    "print(s4)\n",
    "s5=s.capitalize() #Viet hoa chu cai dau cua xau\n",
    "print(s5)"
   ]
  },
  {
   "cell_type": "code",
   "execution_count": 9,
   "metadata": {},
   "outputs": [
    {
     "name": "stdout",
     "output_type": "stream",
     "text": [
      "Found\n",
      "12\n",
      "-1\n"
     ]
    }
   ],
   "source": [
    "#kiem tra sau con\n",
    "s='28tech JAva pyThon'\n",
    "if '28tech' in s:\n",
    "    print('Found')\n",
    "else:\n",
    "    print('Not Found')\n",
    "print(s.find('pyThon'))\n",
    "print(s.find('hung'))"
   ]
  },
  {
   "cell_type": "code",
   "execution_count": 14,
   "metadata": {},
   "outputs": [
    {
     "name": "stdout",
     "output_type": "stream",
     "text": [
      "CR7 is 37 years old\n",
      "Pi=3.14\n",
      "CR7 is 37 years old\n",
      "cr7 is 37 years old\n"
     ]
    }
   ],
   "source": [
    "#string format\n",
    "s= '%s is %d years old' %('CR7',37)\n",
    "print(s)\n",
    "t='Pi=%.2f' %(3.141519)\n",
    "print(t)\n",
    "d='{0} is {1} years old'.format('CR7',37)\n",
    "print(d)\n",
    "name='cr7'\n",
    "age=37\n",
    "e=f'{name} is {age} years old'\n",
    "print(e)"
   ]
  },
  {
   "cell_type": "code",
   "execution_count": 16,
   "metadata": {},
   "outputs": [
    {
     "name": "stdout",
     "output_type": "stream",
     "text": [
      "le huu hung dhth18a dep trai\n",
      ", . ? / - "
     ]
    }
   ],
   "source": [
    "delin=',.?/-'\n",
    "s='le,huu.hung/dhth18a?dep-trai'\n",
    "for i in delin:\n",
    "    if i in s:\n",
    "        s=s.replace(i,' ')\n",
    "print(s)"
   ]
  },
  {
   "cell_type": "code",
   "execution_count": 24,
   "metadata": {},
   "outputs": [
    {
     "name": "stdout",
     "output_type": "stream",
     "text": [
      "35\n"
     ]
    }
   ],
   "source": [
    "#cac bai toan voi so nguyen lon\n",
    "a=input()\n",
    "tong=0\n",
    "for i in a:\n",
    "    tong+=int(i)\n",
    "print(tong)    "
   ]
  }
 ],
 "metadata": {
  "kernelspec": {
   "display_name": "Python 3",
   "language": "python",
   "name": "python3"
  },
  "language_info": {
   "codemirror_mode": {
    "name": "ipython",
    "version": 3
   },
   "file_extension": ".py",
   "mimetype": "text/x-python",
   "name": "python",
   "nbconvert_exporter": "python",
   "pygments_lexer": "ipython3",
   "version": "3.10.8"
  },
  "orig_nbformat": 4
 },
 "nbformat": 4,
 "nbformat_minor": 2
}
