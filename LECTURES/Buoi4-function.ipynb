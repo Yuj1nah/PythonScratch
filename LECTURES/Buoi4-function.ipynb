{
 "cells": [
  {
   "cell_type": "code",
   "execution_count": 3,
   "metadata": {},
   "outputs": [
    {
     "name": "stdout",
     "output_type": "stream",
     "text": [
      "30\n",
      "xin chao Teo Ty Nam\n",
      "30\n"
     ]
    }
   ],
   "source": [
    "#Cú pháp\n",
    "    #def function_name(parameter)\n",
    "        #code\n",
    "        #return value\n",
    "#lưu ý:\n",
    "#Hàm có đối số gì\n",
    "#Hàm trả về giá trị gì\n",
    "def tong(a,b): #Tham số hình thức a,b:Parameter\n",
    "    res=a+b \n",
    "    return res\n",
    "a,b=10,20\n",
    "print(tong(a,b))#Đối số a,b=argument\n",
    "def xinchao(name1,name2,name3):\n",
    "    print('xin chao',name1,name2,name3)\n",
    "xinchao('Teo','Ty','Nam')\n",
    "#code để chạy chương trình thường thì chương trình khác có nhưng python thì không nên sẽ có dòng này\n",
    "if __name__=='__main__':\n",
    "    #code\n",
    "    x,y=map(int,input().split())\n",
    "    print(tong(x,y))"
   ]
  },
  {
   "cell_type": "code",
   "execution_count": null,
   "metadata": {},
   "outputs": [],
   "source": [
    "#Keyword argument\n",
    "def xinchao(name1,name2,name3):\n",
    "    print('xin chao',name1,name2,name3)\n",
    "#default argument:\n",
    "def infor(name1,job='xe om'):\n",
    "    print(name1,job)\n",
    "#viết hàm giai thừa\n",
    "def gt(n):\n",
    "    res=1\n",
    "    for i in range(1,n+1):\n",
    "        res*=i\n",
    "    return res\n",
    "#viết hàm tính lũy thừa\n",
    "def lt(n):\n",
    "    res=1\n",
    "    for i in range(b):\n",
    "        res*=a\n",
    "    return res\n",
    "if __name__=='__main__':\n",
    "    xinchao('x','y','z') #positional argument\n",
    "    xinchao(name3='ti',name1='teo',name2='nam') #keyword argument\n",
    "    infor('teo','devop')\n",
    "    infor('teo')#default argument"
   ]
  },
  {
   "cell_type": "code",
   "execution_count": null,
   "metadata": {},
   "outputs": [],
   "source": [
    "#Kiếm tra đúng sai (Trả về True or False)\n",
    "#Viết hàm kiểm tra số vừa chia hết cho 3 và 5\n",
    "def check(n):\n",
    "    if (n%3==0) and n%5==0:\n",
    "        return True\n",
    "    else:\n",
    "        return False\n",
    "def tonghieu(a,b):\n",
    "    tong=a+b\n",
    "    hieu=a-b\n",
    "    return tong,hieu\n",
    "if __name__=='__main__':\n",
    "   n=int(input())\n",
    "   t,h=tonghieu(10,20)\n",
    "   print(t,h)\n",
    "   if check(n):\n",
    "       print('YES')\n",
    "   else:\n",
    "       print('NO')\n",
    "\n"
   ]
  }
 ],
 "metadata": {
  "kernelspec": {
   "display_name": "Python 3",
   "language": "python",
   "name": "python3"
  },
  "language_info": {
   "codemirror_mode": {
    "name": "ipython",
    "version": 3
   },
   "file_extension": ".py",
   "mimetype": "text/x-python",
   "name": "python",
   "nbconvert_exporter": "python",
   "pygments_lexer": "ipython3",
   "version": "3.10.8"
  },
  "orig_nbformat": 4
 },
 "nbformat": 4,
 "nbformat_minor": 2
}
