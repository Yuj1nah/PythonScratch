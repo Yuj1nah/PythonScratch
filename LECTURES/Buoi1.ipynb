{
 "cells": [
  {
   "cell_type": "code",
   "execution_count": 1,
   "metadata": {},
   "outputs": [
    {
     "name": "stdout",
     "output_type": "stream",
     "text": [
      "le--huu--hung?\n",
      "Hello world\n"
     ]
    }
   ],
   "source": [
    "print('le', 'huu', 'hung', sep='--',end='?\\n')\n",
    "print(\"Hello world\")"
   ]
  },
  {
   "cell_type": "code",
   "execution_count": 1,
   "metadata": {},
   "outputs": [
    {
     "name": "stdout",
     "output_type": "stream",
     "text": [
      "hello \n"
     ]
    }
   ],
   "source": [
    "\"\"\"Day la chu thich tren nhieu dong\"\"\"\n",
    "#chu thich tren 1 dong\n",
    "print('hello ')"
   ]
  },
  {
   "cell_type": "code",
   "execution_count": null,
   "metadata": {},
   "outputs": [],
   "source": [
    "a='t la ke dep trai 123'\n",
    "b=100.0\n",
    "c=100\n",
    "print(type(b),type(c))"
   ]
  },
  {
   "cell_type": "code",
   "execution_count": null,
   "metadata": {},
   "outputs": [],
   "source": [
    "#lam tron so\n",
    "a=14.212912\n",
    "print(\"%.2f\" % a)\n",
    "print(round(a,2)) \n",
    "print('{:.2f}'.format(a))"
   ]
  },
  {
   "cell_type": "code",
   "execution_count": 17,
   "metadata": {},
   "outputs": [
    {
     "name": "stdout",
     "output_type": "stream",
     "text": [
      "<class 'int'>\n",
      "<class 'float'>\n",
      "<class 'str'>\n"
     ]
    }
   ],
   "source": [
    "#Ép kiểu\n",
    "s='231241241' #s là một string\n",
    "a= int(s) #ép string sang int \n",
    "print(type(a))\n",
    "d='123123aa' #d là một string nhưng k thể chuyển sang được int vì có chứa aa\n",
    "b=34\n",
    "c=float(b)\n",
    "print(type(c))\n",
    "e=str(b) #ép kiểu từ int sang string\n",
    "print(type(e))"
   ]
  },
  {
   "cell_type": "code",
   "execution_count": 28,
   "metadata": {},
   "outputs": [
    {
     "name": "stdout",
     "output_type": "stream",
     "text": [
      "123\n",
      "1323\n",
      "123.3\n"
     ]
    }
   ],
   "source": [
    "s=input(\"nhap chuoi cua ban: \")\n",
    "print(s)\n",
    "a=int(input(\"nhap mot so nguyen\"))\n",
    "print(a)\n",
    "b=float(input(\"nhap so thuc\"))\n",
    "print(b)"
   ]
  },
  {
   "cell_type": "code",
   "execution_count": 35,
   "metadata": {},
   "outputs": [
    {
     "name": "stdout",
     "output_type": "stream",
     "text": [
      "600\n"
     ]
    }
   ],
   "source": [
    "#dùng  hàm map unpack và gán\n",
    "a=input(\"nhap 3 so\")\n",
    "s=a.split()\n",
    "x, y, z=map(int,s)\n",
    "print(x+y+z)\n"
   ]
  },
  {
   "cell_type": "code",
   "execution_count": 36,
   "metadata": {},
   "outputs": [
    {
     "name": "stdout",
     "output_type": "stream",
     "text": [
      "100 200 300 400\n"
     ]
    }
   ],
   "source": [
    "#Nhập 4 số nguyên trên 1 dòng bản rút gọn:\n",
    "x,y,z,t=map(int, input(\"Nhap 4 so nguyen: \").split())\n",
    "print(x,y,z,t)"
   ]
  }
 ],
 "metadata": {
  "kernelspec": {
   "display_name": "Python 3",
   "language": "python",
   "name": "python3"
  },
  "language_info": {
   "codemirror_mode": {
    "name": "ipython",
    "version": 3
   },
   "file_extension": ".py",
   "mimetype": "text/x-python",
   "name": "python",
   "nbconvert_exporter": "python",
   "pygments_lexer": "ipython3",
   "version": "3.10.8"
  },
  "orig_nbformat": 4
 },
 "nbformat": 4,
 "nbformat_minor": 2
}
