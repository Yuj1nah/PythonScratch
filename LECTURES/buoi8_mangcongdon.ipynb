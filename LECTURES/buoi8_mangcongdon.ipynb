{
 "cells": [
  {
   "cell_type": "code",
   "execution_count": 7,
   "metadata": {},
   "outputs": [
    {
     "name": "stdout",
     "output_type": "stream",
     "text": [
      "15\n"
     ]
    }
   ],
   "source": [
    "#prefix sum (mang cong don):\n",
    "#chu y khi a[0]=0 => ket qua bang F[r]\n",
    "#F[r]-F[l-1]\n",
    "n=int(input())\n",
    "a=list(map(int,input().split()))\n",
    "l,r=3,5\n",
    "F=[0]*n\n",
    "F[0]=a[0]\n",
    "for i in range(1,n):\n",
    "    F[i]=F[i-1]+a[i]\n",
    "print(F[r]-F[l-1])\n"
   ]
  },
  {
   "cell_type": "code",
   "execution_count": null,
   "metadata": {},
   "outputs": [],
   "source": [
    "#Ky thuat cua so truot\n",
    "#cach thong thuong\n",
    "n=int(input())\n",
    "a=list(map(int,input().split()))\n",
    "k=int(input())\n",
    "for i in range(0,n-k+1):\n",
    "    tong=0\n",
    "    for j in range(i,k+i):\n",
    "        tong+=a[i]\n",
    "    print(tong,end='')\n",
    "#cach nang cao\n",
    "Tong=sum(a[:k])\n",
    "for i in range(1,n-k+1):\n",
    "    Tong=Tong-a[i-1]+a[i+k-1]\n",
    "    print(tong,end='')"
   ]
  },
  {
   "cell_type": "code",
   "execution_count": 10,
   "metadata": {},
   "outputs": [
    {
     "name": "stdout",
     "output_type": "stream",
     "text": [
      "2 3 5 7 11 13 17 19 23 29 31 37 41 43 47 53 59 61 67 71 73 79 83 89 97 "
     ]
    }
   ],
   "source": [
    "#Sang so nguyen to Eratosthenes\n",
    "from math import *\n",
    "prime=[True]*(10**6+1)\n",
    "def sieve():\n",
    "    prime[0],prime[1]=False,False\n",
    "    for i in range(2,isqrt(10**6)+1):\n",
    "        if prime[i]:\n",
    "            for j in range(i*i,10**6,i):\n",
    "                prime[j]=False\n",
    "if __name__=='__main__':\n",
    "\n",
    "    for i in range(100):\n",
    "        sieve()\n",
    "        if prime[i]:\n",
    "            print(i,end=' ')"
   ]
  }
 ],
 "metadata": {
  "kernelspec": {
   "display_name": "Python 3",
   "language": "python",
   "name": "python3"
  },
  "language_info": {
   "codemirror_mode": {
    "name": "ipython",
    "version": 3
   },
   "file_extension": ".py",
   "mimetype": "text/x-python",
   "name": "python",
   "nbconvert_exporter": "python",
   "pygments_lexer": "ipython3",
   "version": "3.10.8"
  },
  "orig_nbformat": 4
 },
 "nbformat": 4,
 "nbformat_minor": 2
}
