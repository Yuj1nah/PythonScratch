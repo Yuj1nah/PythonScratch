{
 "cells": [
  {
   "attachments": {},
   "cell_type": "markdown",
   "metadata": {},
   "source": [
    "tuple are ordered\n",
    "accessed by index\n",
    "tuple can contain any sort of index (list,str,float,int...)\n",
    "tuple are immutable: we can not add, remove or change any objects in tuple\n"
   ]
  },
  {
   "cell_type": "code",
   "execution_count": null,
   "metadata": {},
   "outputs": [],
   "source": [
    "#tuple\n",
    "#tuple khac voi list(create by squareroot) tuple duoc khoi tao bang dau ngoac tron\n",
    "#ex\n",
    "a=(1,2,3)\n",
    "b=('28tech','hhung',23)\n",
    "c=(2801,)\n",
    "print(type(a))\n",
    "print(type(b))\n",
    "print(type(c))\n",
    "#tao tuple thong qua constructor\n",
    "a='ss'\n",
    "b=tuple(a)\n",
    "c=tuple([2,3,4,5,6])\n",
    "print(b)\n",
    "print(c)"
   ]
  },
  {
   "cell_type": "code",
   "execution_count": 5,
   "metadata": {},
   "outputs": [
    {
     "name": "stdout",
     "output_type": "stream",
     "text": [
      "<class 'tuple'>\n"
     ]
    }
   ],
   "source": [
    "#nested tuple\n",
    "a=('28tech',(2,3,4),'hung')\n",
    "print(type(a))"
   ]
  },
  {
   "cell_type": "code",
   "execution_count": null,
   "metadata": {},
   "outputs": [],
   "source": [
    "#tuple unpacking = giong nhu list \n",
    "a=(2,3,4,5,6)\n",
    "x,y,z,t,u=a\n",
    "print(x,y,z,t,u)\n",
    "k,*l,o=a\n",
    "print(k)\n",
    "print(l)\n",
    "print(o)"
   ]
  },
  {
   "cell_type": "code",
   "execution_count": 11,
   "metadata": {},
   "outputs": [
    {
     "name": "stdout",
     "output_type": "stream",
     "text": [
      "28tech hung 28 30 \n",
      "28tech hung 28 30 "
     ]
    }
   ],
   "source": [
    "#duyet tuple\n",
    "a=('28tech', 'hung',28,30) \n",
    "for i in range(len(a)):\n",
    "    print(a[i],end=' ')\n",
    "print()\n",
    "for item in a:\n",
    "    print(item,end=' ')"
   ]
  },
  {
   "cell_type": "code",
   "execution_count": 13,
   "metadata": {},
   "outputs": [
    {
     "name": "stdout",
     "output_type": "stream",
     "text": [
      "('28tech', 'java', 'C++', 'python', 'C++')\n",
      "('28tech', 'java', 'C++', '28tech', 'java', 'C++', '28tech', 'java', 'C++')\n"
     ]
    }
   ],
   "source": [
    "#tuple concatenation and repetiton\n",
    "a=('28tech','java','C++')\n",
    "b=('python','C++')\n",
    "c=a+b\n",
    "print(c)\n",
    "d=a*3\n",
    "print(d)"
   ]
  },
  {
   "cell_type": "code",
   "execution_count": 21,
   "metadata": {},
   "outputs": [
    {
     "name": "stdout",
     "output_type": "stream",
     "text": [
      "(1, 2, 3, 4, 5)\n",
      "\n",
      "(1, 2, 3, 4, 5)\n",
      "\n",
      "1\n",
      "1\n"
     ]
    }
   ],
   "source": [
    "#sap xep tuple\n",
    "a=(5,1,2,3,4)\n",
    "a=tuple(sorted(a))\n",
    "print(a)\n",
    "print()\n",
    "b=list(a)\n",
    "b.sort() # sort xong thi chuyen ve list\n",
    "c=tuple(b)\n",
    "print(c)\n",
    "print()\n",
    "#count and index\n",
    "p=(5,1,2,3,4)\n",
    "print(p.count(2))\n",
    "print(p.index(1))\n"
   ]
  },
  {
   "cell_type": "code",
   "execution_count": 27,
   "metadata": {},
   "outputs": [
    {
     "name": "stdout",
     "output_type": "stream",
     "text": [
      "[10, 11, 12, 13, 14]\n",
      "[50, 56, 116, 101, 99, 104]\n",
      "[0, 1, 4, 9, 16]\n",
      "[0, 2, 4, 6, 8]\n"
     ]
    }
   ],
   "source": [
    "#map\n",
    "#map(function,iterable)\n",
    "#apply mot ham tu dinh nghia\n",
    "def add(n):\n",
    "    return n+10\n",
    "if __name__=='__main__':\n",
    "    a=range(5)\n",
    "    b=list(map(add,a))\n",
    "    print(b)\n",
    "#apply mot ham build-in\n",
    "    c='28tech'\n",
    "    d=list(map(ord,c))\n",
    "    print(d)\n",
    "#apply with lambda\n",
    "    tich=list(map(lambda x:x**2,a))\n",
    "    print(tich)\n",
    "#apply with various iterable va su dung lambda\n",
    "    t=range(5)\n",
    "    tong=list(map(lambda x,y:x+y,a,t))\n",
    "    print(tong)\n"
   ]
  },
  {
   "cell_type": "code",
   "execution_count": 30,
   "metadata": {},
   "outputs": [
    {
     "name": "stdout",
     "output_type": "stream",
     "text": [
      "[2, 3, 5]\n",
      "[2, 3, 4, 5]\n"
     ]
    }
   ],
   "source": [
    "#Filter\n",
    "#fileter(function,iterable)=> tra ve True or False\n",
    "from math import *\n",
    "def prime(n):\n",
    "    if n<2:\n",
    "        return False\n",
    "    for i in range(2,isqrt(n)+1):\n",
    "        if n%i==0:\n",
    "            return False\n",
    "    return True\n",
    "def even(n):\n",
    "    return n%2==0\n",
    "a=[1,2,3,4,5]\n",
    "b=list(filter(even,a))\n",
    "c=list(filter(prime,a))\n",
    "print(c)\n",
    "#filter with lambda\n",
    "d=list(filter(lambda x:x>=2,a))\n",
    "print(d)"
   ]
  },
  {
   "cell_type": "code",
   "execution_count": null,
   "metadata": {},
   "outputs": [],
   "source": []
  }
 ],
 "metadata": {
  "kernelspec": {
   "display_name": "Python 3",
   "language": "python",
   "name": "python3"
  },
  "language_info": {
   "codemirror_mode": {
    "name": "ipython",
    "version": 3
   },
   "file_extension": ".py",
   "mimetype": "text/x-python",
   "name": "python",
   "nbconvert_exporter": "python",
   "pygments_lexer": "ipython3",
   "version": "3.10.8"
  },
  "orig_nbformat": 4
 },
 "nbformat": 4,
 "nbformat_minor": 2
}
