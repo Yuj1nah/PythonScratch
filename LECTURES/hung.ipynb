{
 "cells": [
  {
   "cell_type": "code",
   "execution_count": 46,
   "metadata": {},
   "outputs": [
    {
     "name": "stdout",
     "output_type": "stream",
     "text": [
      "le huu hung--dhth18b--k18!"
     ]
    }
   ],
   "source": [
    "print('le huu hung', 'dhth18b', 'k18', sep= '--',end = '!')"
   ]
  },
  {
   "cell_type": "code",
   "execution_count": 1,
   "metadata": {},
   "outputs": [
    {
     "name": "stdout",
     "output_type": "stream",
     "text": [
      "100 200 le huu hung\n",
      "ket qua lan luot la 300 -100 0.5 0 10000000000000000000000000000000000000000000000000000000000000000000000000000000000000000000000000000000000000000000000000000000000000000000000000000000000000000000000000000000000000000000000000000000000000000000000000000000000000000000000000000000000000000000000000000000000000000000000000000000000000000000000000000000000000000000000000000000000000000000000000000000000000000000000000000000000000000\n"
     ]
    }
   ],
   "source": [
    "a,b,c=100,200, 'le huu hung'\n",
    "print(a,b,c)\n",
    "a=100\n",
    "b=200\n",
    "tong = a+b\n",
    "hieu = a-b\n",
    "chia = a/b\n",
    "chiadu = a//b\n",
    "luythua = a**b\n",
    "print('ket qua lan luot la', tong, hieu,chia,chiadu,luythua)"
   ]
  },
  {
   "cell_type": "code",
   "execution_count": null,
   "metadata": {},
   "outputs": [],
   "source": [
    "'''a=int(input('Nhap so a: '))\n",
    "b=int(input('Nhap so b: '))\n",
    "tong=a+b\n",
    "print('tong la: ',tong)'''\n",
    "b=input('nhap so 2 so : ')\n",
    "a=b.split()\n",
    "x,y=map(float, a)\n",
    "print(x+y)\n",
    "\n"
   ]
  },
  {
   "cell_type": "code",
   "execution_count": null,
   "metadata": {},
   "outputs": [],
   "source": [
    "from math import *\n",
    "a=int(input('nhap so bat ki: '))\n",
    "b=int(input('nhap so bat ki: '))\n",
    "print(sqrt(a+b))\n",
    "print(ceil(a+b)) #lam tron len\n",
    "print(floor(a+b))  #lam tron xuong\n",
    "#factorial #tinh giai thua\n",
    "print(gcd(a,b)) #tim uoc chung lon nhat\n",
    "print(comb(a,b)) # tính tổ hợp\n",
    "print(round(a+b)) # lam tron dua theo phan thap phan >0.5 thi lam tron len, <0.5 thi lam tron xuong\n",
    "#ngoai ra con co ham min max sum\n",
    "c=max(a,b)\n",
    "print(c)"
   ]
  },
  {
   "cell_type": "code",
   "execution_count": 76,
   "metadata": {},
   "outputs": [
    {
     "name": "stdout",
     "output_type": "stream",
     "text": [
      "3\n"
     ]
    }
   ],
   "source": [
    "if __name__ == '__main__':\n",
    "    n = int(input())\n",
    "    arr = list(map(int, input().split()))\n",
    "    arr.sort(reverse=True)\n",
    "    runner_up_score = None\n",
    "    for i in arr:   \n",
    "        if i!=arr[0]:\n",
    "            runner_up_score=i\n",
    "            break\n",
    "    print(runner_up_score)\n"
   ]
  },
  {
   "cell_type": "code",
   "execution_count": 5,
   "metadata": {},
   "outputs": [
    {
     "name": "stdout",
     "output_type": "stream",
     "text": [
      "hung\n",
      "3.2\n",
      "5.5\n"
     ]
    }
   ],
   "source": [
    "if __name__ == '__main__':\n",
    "    students=[]\n",
    "    for _ in range(int(input())):\n",
    "        name = input()\n",
    "        score = float(input())\n",
    "        students.append([name,score])\n",
    "    grades=list(set([s[1] for s in students]))\n",
    "    grades.sort()\n",
    "    second_lowest_grade=grades[1]\n",
    "    students_names=[s[0] for s in students if s[1]==second_lowest_grade]\n",
    "    students_names.sort()\n",
    "    for name in students_names:\n",
    "            print(name)\n",
    "    "
   ]
  },
  {
   "cell_type": "code",
   "execution_count": 17,
   "metadata": {},
   "outputs": [
    {
     "name": "stdout",
     "output_type": "stream",
     "text": [
      "56.00\n"
     ]
    }
   ],
   "source": [
    "if __name__ == '__main__':\n",
    "    n = int(input())\n",
    "    student_marks = {}\n",
    "    for _ in range(n):\n",
    "        name, *line = input().split()\n",
    "        scores = list(map(float, line))\n",
    "        student_marks[name] = scores\n",
    "    query_name = input()\n",
    "    a=0\n",
    "    for s in student_marks[query_name]:\n",
    "        a+=s\n",
    "    print('%.2f'%(a/3))"
   ]
  },
  {
   "cell_type": "code",
   "execution_count": 27,
   "metadata": {},
   "outputs": [
    {
     "name": "stdout",
     "output_type": "stream",
     "text": [
      "The 9 in Spain\n"
     ]
    }
   ],
   "source": [
    "import re\n",
    "\n",
    "txt = \"The rain in Spain\"\n",
    "x = re.sub(\"rain\", \"9\", txt)\n",
    "print(x)\n"
   ]
  },
  {
   "cell_type": "code",
   "execution_count": null,
   "metadata": {},
   "outputs": [],
   "source": []
  }
 ],
 "metadata": {
  "kernelspec": {
   "display_name": "Python 3",
   "language": "python",
   "name": "python3"
  },
  "language_info": {
   "codemirror_mode": {
    "name": "ipython",
    "version": 3
   },
   "file_extension": ".py",
   "mimetype": "text/x-python",
   "name": "python",
   "nbconvert_exporter": "python",
   "pygments_lexer": "ipython3",
   "version": "3.10.8"
  },
  "orig_nbformat": 4,
  "vscode": {
   "interpreter": {
    "hash": "3440fa40ac2c39878b83ee7a6e81824601a62799733fc81e385c4ef9c8700d77"
   }
  }
 },
 "nbformat": 4,
 "nbformat_minor": 2
}
