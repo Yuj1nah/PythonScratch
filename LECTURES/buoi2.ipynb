{
 "cells": [
  {
   "cell_type": "code",
   "execution_count": null,
   "metadata": {},
   "outputs": [],
   "source": [
    "#các hàm phổ biến trong python\n",
    "import math #hàm toán học\n",
    "print(help(math)) # in ra các hàm có sẵn trong thư viện math và cách dùng\n",
    "print(math.sqrt(36)) #sqrt hàm căn bậc 2\n"
   ]
  },
  {
   "cell_type": "code",
   "execution_count": 2,
   "metadata": {},
   "outputs": [
    {
     "name": "stdout",
     "output_type": "stream",
     "text": [
      "6.0\n"
     ]
    }
   ],
   "source": [
    "from math import * #dùng cái này thì k cần dùng math. như phía trên\n",
    "print(sqrt(36))"
   ]
  },
  {
   "cell_type": "code",
   "execution_count": null,
   "metadata": {},
   "outputs": [],
   "source": [
    "#iqsrt: tính căn bậc 2 nhưng chỉ lấy nguyên\n",
    "from math import *\n",
    "print(isqrt(39))\n",
    "#pow: lũy thừa\n",
    "print(pow(2,10))\n",
    "print(pow(10,1/3))\n",
    "#ceil: Làm tròn lên\n",
    "print(ceil(2.3))\n",
    "#floor: Làm tròn xuống\n",
    "print(ceil(2.7))\n",
    "#factorial: Giai thừa\n",
    "print(factorial(10))\n",
    "#gcd: Ước chung lớn nhất\n",
    "print(gcd(100,450))\n",
    "#comb: Tính tổ hợp\n",
    "print(comb(10,2))\n",
    "#fabs: Tính trị tuyệt đối\n",
    "print(fabs(-100.2323))\n",
    "#min, max, sum: Tìm nhỏ,lớn,tổng\n"
   ]
  },
  {
   "cell_type": "code",
   "execution_count": null,
   "metadata": {},
   "outputs": [],
   "source": [
    "#Cấu trúc rẽ nhánh (if-else)\n",
    "if 10<20:\n",
    "    print('hello')\n",
    "    print('Le huu hung')\n",
    "#kiem tra n co nam trong doan [50;100]\n",
    "n=20\n",
    "if n>=50 and n<=100:\n",
    "    print('hello 22')\n",
    "    print('programming')\n"
   ]
  },
  {
   "cell_type": "code",
   "execution_count": null,
   "metadata": {},
   "outputs": [],
   "source": [
    "n=10\n",
    "if n>=20 and n<=100:\n",
    "    print('True')\n",
    "else:\n",
    "    print('False')"
   ]
  },
  {
   "cell_type": "code",
   "execution_count": null,
   "metadata": {},
   "outputs": [],
   "source": [
    "#Shorthand if\n",
    "n=30\n",
    "m=20\n",
    "if (n>m): print(n,'less than',m)"
   ]
  },
  {
   "cell_type": "code",
   "execution_count": null,
   "metadata": {},
   "outputs": [],
   "source": [
    "#Toán tử 3 ngôi\n",
    "#variable= statement if condition else statement\n",
    "#example1:\n",
    "a,b=10,20\n",
    "res='python' if a>b else 'java'\n",
    "print(res)"
   ]
  },
  {
   "cell_type": "code",
   "execution_count": 17,
   "metadata": {},
   "outputs": [
    {
     "name": "stdout",
     "output_type": "stream",
     "text": [
      "Yes\n"
     ]
    }
   ],
   "source": [
    "#Nested if (if lồng nhau)\n",
    "n=80\n",
    "if n>50:\n",
    "    if n%3==0 or n%5==0 or n%7==0:\n",
    "        print('Yes')\n",
    "    else:\n",
    "        print('No')\n",
    "else:\n",
    "    print('No')\n"
   ]
  },
  {
   "cell_type": "code",
   "execution_count": null,
   "metadata": {},
   "outputs": [],
   "source": [
    "#Bài 23 contest 1\n",
    "n,m=map(int,input().split())\n",
    "x,y=0,0\n",
    "if (n%2==0):\n",
    "    x=n//2\n",
    "    y=n\n",
    "    a=((x+m-1)//m)*m #công thức tìm số <=x và chia hết cho m\n",
    "    if(a<=y) :\n",
    "        print('{:.0f}'.format(a))\n",
    "    else:\n",
    "        print('-1')\n",
    "else:\n",
    "    x=n//2+1\n",
    "    y=n\n",
    "    a=((x+m-1)//m)*m\n",
    "    if(a<=y) :\n",
    "        print('{:.0f}'.format(a))\n",
    "    else:\n",
    "        print('-1')"
   ]
  },
  {
   "cell_type": "code",
   "execution_count": 1,
   "metadata": {},
   "outputs": [
    {
     "name": "stdout",
     "output_type": "stream",
     "text": [
      "NO\n"
     ]
    }
   ],
   "source": [
    "#Bài 31 contest1\n",
    "a1,a2,a3,b1,b2,b3=map(int,input().split())\n",
    "n=int(input())\n",
    "cup=a1+a2+a3\n",
    "hc=b1+b2+b3\n",
    "ke1,ke2=0,0\n",
    "if cup%5==0:\n",
    "    ke1=cup//5\n",
    "else:\n",
    "    ke1=cup//5 +1\n",
    "if hc%10==0:\n",
    "    ke2=hc//10\n",
    "else:\n",
    "    ke2=hc//10 +1\n",
    "if (ke1+ke2)>n:\n",
    "    print('NO')\n",
    "else:\n",
    "    print('YES')"
   ]
  },
  {
   "cell_type": "code",
   "execution_count": 3,
   "metadata": {},
   "outputs": [
    {
     "name": "stdout",
     "output_type": "stream",
     "text": [
      "YES\n"
     ]
    }
   ],
   "source": [
    "#Bài 33 contest 1\n",
    "a,b,c,n=map(int,input().split())\n",
    "tong=a+b+c+n\n",
    "if tong % 3==0:\n",
    "    if tong//3 > a and tong//3 >b and tong//3 >c:\n",
    "        print('YES')\n",
    "    else:\n",
    "        print('NO')\n",
    "else:\n",
    "    print('NO')"
   ]
  },
  {
   "cell_type": "code",
   "execution_count": null,
   "metadata": {},
   "outputs": [],
   "source": [
    "#Bài 34 contest 1\n",
    "c1,c2,c3,c4,c5=map(int,input().split())\n",
    "tong=c1+c2+c3+c4+c5\n",
    "if tong%5==0:\n",
    "    b=tong//5\n",
    "    if b!=0:\n",
    "        print(b)\n",
    "    else:\n",
    "        print('-1')\n",
    "else:\n",
    "    print('-1')"
   ]
  },
  {
   "cell_type": "code",
   "execution_count": 8,
   "metadata": {},
   "outputs": [
    {
     "name": "stdout",
     "output_type": "stream",
     "text": [
      "842\n"
     ]
    }
   ],
   "source": [
    "h,m=map(int,input().split())\n",
    "if m>0:\n",
    "    p1=(24-h-1)*60\n",
    "    p2=60-m\n",
    "    print(p1+p2)\n",
    "else:\n",
    "    p1=(24-h)*60\n",
    "    print(p1)\n"
   ]
  }
 ],
 "metadata": {
  "kernelspec": {
   "display_name": "Python 3",
   "language": "python",
   "name": "python3"
  },
  "language_info": {
   "codemirror_mode": {
    "name": "ipython",
    "version": 3
   },
   "file_extension": ".py",
   "mimetype": "text/x-python",
   "name": "python",
   "nbconvert_exporter": "python",
   "pygments_lexer": "ipython3",
   "version": "3.10.8"
  },
  "orig_nbformat": 4
 },
 "nbformat": 4,
 "nbformat_minor": 2
}
