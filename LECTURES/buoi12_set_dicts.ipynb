{
 "cells": [
  {
   "cell_type": "code",
   "execution_count": 2,
   "metadata": {},
   "outputs": [
    {
     "name": "stdout",
     "output_type": "stream",
     "text": [
      "{'lol', 99, '28tech', 28, 'hung', 'le'}\n",
      "{1, 2, 3, 'abcd'}\n"
     ]
    }
   ],
   "source": [
    "#Set are unordered\n",
    "#Set items are unique: k co ki tu nao trung nhau\n",
    "#Set are unindexed: k the truy cap qua chi so\n",
    "#set are changeble\n",
    "s={'28tech','hung','le',28,28,'hung','lol',99}\n",
    "print(s)\n",
    "t={1,2,3,2,1,'abcd'}\n",
    "print(t)"
   ]
  },
  {
   "cell_type": "code",
   "execution_count": 4,
   "metadata": {},
   "outputs": [
    {
     "name": "stdout",
     "output_type": "stream",
     "text": [
      "9\n"
     ]
    }
   ],
   "source": [
    "#in so luong phan tu khac nhau trong mang\n",
    "a=[1,2,4,2,2,1,7,5,2,7,1,9,0,8,3,2,2]\n",
    "b=set(a)\n",
    "print(len(b))"
   ]
  },
  {
   "cell_type": "code",
   "execution_count": 5,
   "metadata": {},
   "outputs": [
    {
     "ename": "TypeError",
     "evalue": "unhashable type: 'list'",
     "output_type": "error",
     "traceback": [
      "\u001b[1;31m---------------------------------------------------------------------------\u001b[0m",
      "\u001b[1;31mTypeError\u001b[0m                                 Traceback (most recent call last)",
      "\u001b[1;32mc:\\Users\\phero\\PycharmProjects\\hungleproject\\hunglevscode\\Python\\buoi12_set_dicts.ipynb Cell 3\u001b[0m in \u001b[0;36m2\n\u001b[0;32m      <a href='vscode-notebook-cell:/c%3A/Users/phero/PycharmProjects/hungleproject/hunglevscode/Python/buoi12_set_dicts.ipynb#W3sZmlsZQ%3D%3D?line=0'>1</a>\u001b[0m \u001b[39m#set k the luu duoc nhung phan tu co the thay doi duoc (list)\u001b[39;00m\n\u001b[1;32m----> <a href='vscode-notebook-cell:/c%3A/Users/phero/PycharmProjects/hungleproject/hunglevscode/Python/buoi12_set_dicts.ipynb#W3sZmlsZQ%3D%3D?line=1'>2</a>\u001b[0m s\u001b[39m=\u001b[39m{[\u001b[39m1\u001b[39m,\u001b[39m2\u001b[39m],\u001b[39m3\u001b[39m,\u001b[39m5\u001b[39m,\u001b[39m7\u001b[39m}\n\u001b[0;32m      <a href='vscode-notebook-cell:/c%3A/Users/phero/PycharmProjects/hungleproject/hunglevscode/Python/buoi12_set_dicts.ipynb#W3sZmlsZQ%3D%3D?line=2'>3</a>\u001b[0m \u001b[39mprint\u001b[39m(s)\n",
      "\u001b[1;31mTypeError\u001b[0m: unhashable type: 'list'"
     ]
    }
   ],
   "source": [
    "#set k the luu duoc nhung phan tu co the thay doi duoc (list)\n",
    "s={[1,2],3,5,7}\n",
    "print(s)"
   ]
  },
  {
   "cell_type": "code",
   "execution_count": 7,
   "metadata": {},
   "outputs": [
    {
     "name": "stdout",
     "output_type": "stream",
     "text": [
      "{1, 2, 3, 4}\n",
      "{1, 2, 3, 4, 200, 'hung'}\n"
     ]
    }
   ],
   "source": [
    "#them mot phan tu vao set (add,update)\n",
    "s={1,2,3,4}\n",
    "s.add(1) # khong the them vao phan tu trong set da co san\n",
    "print(s)\n",
    "s.update([200,'hung',2,3,1])\n",
    "print(s)"
   ]
  },
  {
   "cell_type": "code",
   "execution_count": 9,
   "metadata": {},
   "outputs": [
    {
     "name": "stdout",
     "output_type": "stream",
     "text": [
      "{2, 3, 4, 200, 'hung'}\n",
      "{2, 3, 4, 200}\n"
     ]
    }
   ],
   "source": [
    "#xoa phan tu khoi set(remove(),discard())\n",
    "#pop(): xoa phan tu ngau nhien\n",
    "#clear():xoa toan bo\n",
    "s={1, 2, 3, 4, 200, 'hung'}\n",
    "s.remove(1) #luu y dung ham remove() neu xoa phan tu k ton tai trong set thi se bao loi keyerror\n",
    "print(s)\n",
    "s.discard('hung') #dung ham discard co hay k co van k bi bao loi\n",
    "print(s)"
   ]
  },
  {
   "cell_type": "code",
   "execution_count": 19,
   "metadata": {},
   "outputs": [
    {
     "name": "stdout",
     "output_type": "stream",
     "text": [
      "1 2 3 4 200 hung \n",
      "FOUND\n"
     ]
    }
   ],
   "source": [
    "#duyet set\n",
    "s={1, 2, 3, 4, 200, 'hung'}\n",
    "for i in s:\n",
    "    print(i,end=' ')\n",
    "#toan tu 'in' manh do phuc tap (O1)\n",
    "if 'hung' in s:\n",
    "    print('\\nFOUND')\n",
    "else:\n",
    "    print('\\nNOT FOUND')"
   ]
  },
  {
   "cell_type": "code",
   "execution_count": 1,
   "metadata": {},
   "outputs": [
    {
     "name": "stdout",
     "output_type": "stream",
     "text": [
      "{'python', 'amazon', '28tech', 'abc'}\n",
      "{'python', 'amazon', '28tech', 'abc'}\n",
      "{'python', '28tech'}\n",
      "{'python', '28tech'}\n"
     ]
    }
   ],
   "source": [
    "#union lay ra cac phan tu thuoc 1 trong 2 tap hop su dung dau '|'\n",
    "#intersection: lay phan tu giao cua 2 tap hop dau '&'\n",
    "#difference: lay phan tu thuoc tap a nhung k phai tap b '-'\n",
    "#isdisjoint():Hai tap co phan tu chung nao k\n",
    "#issubset():tap nay co phai tap con cua tap khac hay khong\n",
    "#issuperset():tap hien tai co phai tap cha cua tap nao khac khong\n",
    "s={'28tech','abc','python'}\n",
    "t={'28tech','amazon','python'}\n",
    "v=s.union(t)\n",
    "f=s|t\n",
    "d=s&t\n",
    "e=s.intersection(t)\n",
    "h=s.difference(t)\n",
    "l=s-t\n",
    "print(v)\n",
    "print(f)\n",
    "print(d)\n",
    "print(e)"
   ]
  },
  {
   "cell_type": "code",
   "execution_count": null,
   "metadata": {},
   "outputs": [],
   "source": [
    "#cac bai tap su dung set\n",
    "#cac bai tap lien quan den cac gia tri khac nhau trong mang,tim kiem nhanh\n",
    "#VD: Dem so luong gia tri khac nhau trong mang\n",
    "a=int(input().split())\n",
    "b=list(map(int,input()))\n",
    "c=set(b)\n",
    "print(len(c))"
   ]
  },
  {
   "attachments": {},
   "cell_type": "markdown",
   "metadata": {},
   "source": [
    "Dictionaries"
   ]
  },
  {
   "cell_type": "code",
   "execution_count": 23,
   "metadata": {},
   "outputs": [
    {
     "name": "stdout",
     "output_type": "stream",
     "text": [
      "{'name': 'hung', 'age': 28, 'job': 'data science', 'dream': 'study abroad'}\n"
     ]
    }
   ],
   "source": [
    "#tao dict bang dict constructor\n",
    "a=[['name','hung'],['age',28],['job','data science'],['dream','study abroad']]\n",
    "b=dict(a)\n",
    "print(b)"
   ]
  },
  {
   "cell_type": "code",
   "execution_count": 26,
   "metadata": {},
   "outputs": [
    {
     "name": "stdout",
     "output_type": "stream",
     "text": [
      "{'name': 'hung', 'age': 28, 'job': 'data science', 'dream': 'study abroad'}\n",
      "{'name': (0, 1, 2, 3), 'age': (0, 1, 2, 3), 'job': (0, 1, 2, 3), 'dream': (0, 1, 2, 3)}\n"
     ]
    }
   ],
   "source": [
    "#tao bang zip\n",
    "a=['name','age','job','dream']\n",
    "b=['hung',28,'data science','study abroad']\n",
    "c=dict(zip(a,b))\n",
    "print(c)\n",
    "#tao dict bang fronkey\n",
    "defaultvalue=0\n",
    "d=dict.fromkeys(a,defaultvalue)\n",
    "print(d)"
   ]
  },
  {
   "cell_type": "code",
   "execution_count": 27,
   "metadata": {},
   "outputs": [
    {
     "name": "stdout",
     "output_type": "stream",
     "text": [
      "{'name': 'le huu hung', 'age': 28, 'job': 'data science', 'dream': 'study abroad'}\n"
     ]
    }
   ],
   "source": [
    "#Key trong dict la duy nhat\n",
    "#VD\n",
    "a={'name': 'hung', 'age': 28, 'job': 'data science', 'dream': 'study abroad','name':'le huu hung'}\n",
    "print(a)\n",
    "#Key phai la object k the thay doi k duoc chua list\n"
   ]
  },
  {
   "cell_type": "code",
   "execution_count": 29,
   "metadata": {},
   "outputs": [
    {
     "name": "stdout",
     "output_type": "stream",
     "text": [
      "hung\n",
      "data science\n"
     ]
    }
   ],
   "source": [
    "#Truy cap phan tu trong dict\n",
    "#truy cap qua key\n",
    "a={'name': 'hung', 'age': 28, 'job': 'data science', 'dream': 'study abroad'}\n",
    "print(a['name']) #truy cap qua key\n",
    "print(a.get('job')) #truy cap qua ham get()"
   ]
  },
  {
   "cell_type": "code",
   "execution_count": 45,
   "metadata": {},
   "outputs": [
    {
     "name": "stdout",
     "output_type": "stream",
     "text": [
      "['name', 'age', 'job', 'dream']\n",
      "[('name', 'hung'), ('age', 28), ('job', 'data science'), ('dream', 'study abroad')]\n",
      "['hung', 28, 'data science', 'study abroad']\n",
      "\n",
      "hung 28 data science study abroad \n",
      "name:hung\n",
      "age:28\n",
      "job:data science\n",
      "dream:study abroad\n",
      "\n",
      "name:hung\n",
      "age:28\n",
      "job:data science\n",
      "dream:study abroad\n"
     ]
    }
   ],
   "source": [
    "#Duyet dict\n",
    "a={'name': 'hung', 'age': 28, 'job': 'data science', 'dream': 'study abroad'}\n",
    "b=list(a.keys())\n",
    "c=list(a.items())\n",
    "d=list(a.values())\n",
    "print(b)\n",
    "print(c)\n",
    "print(d)\n",
    "print()\n",
    "for keys in a.values():\n",
    "    print(keys,end=' ')\n",
    "print()\n",
    "for key in a.keys():\n",
    "    print(key,a[key],sep=':')\n",
    "print()\n",
    "for key,value in a.items():\n",
    "    print(key,value,sep=':')"
   ]
  },
  {
   "cell_type": "code",
   "execution_count": 52,
   "metadata": {},
   "outputs": [
    {
     "name": "stdout",
     "output_type": "stream",
     "text": [
      "{'name': 'le huu hung', 'age': 28, 'job': 'data science', 'dream': 'study abroad', 'uni': 'iuh'}\n"
     ]
    }
   ],
   "source": [
    "#Them va sua dict\n",
    "#dict[key]=value\n",
    "#Neu cau lenh tren da co san trong dict thi se cap nhat value moi\n",
    "a={'name': 'hung', 'age': 28, 'job': 'data science', 'dream': 'study abroad'}\n",
    "a['name']='le huu hung'\n",
    "a['uni']='iuh'\n",
    "print(a)"
   ]
  },
  {
   "cell_type": "code",
   "execution_count": 49,
   "metadata": {},
   "outputs": [
    {
     "name": "stdout",
     "output_type": "stream",
     "text": [
      "{'age': 28, 'job': 'data science', 'dream': 'study abroad'}\n",
      "{'age': 28, 'dream': 'study abroad'}\n",
      "True\n"
     ]
    }
   ],
   "source": [
    "#xoa phan tu trong dict\n",
    "a={'name': 'hung', 'age': 28, 'job': 'data science', 'dream': 'study abroad'}\n",
    "#dung ham pop\n",
    "a.pop('name')# luu y ham pop voi key k ton tai se xay ra loi key error\n",
    "#de tranh truong hop nay nen dung\n",
    "if 'web' in a:\n",
    "    a.pop('web')\n",
    "print(a)\n",
    "#su dung ham del\n",
    "del a['job'] #ham del se k bao loi neu gap key k ton tai\n",
    "print(a)\n",
    "print('dream' in a)"
   ]
  },
  {
   "cell_type": "code",
   "execution_count": 2,
   "metadata": {},
   "outputs": [
    {
     "name": "stdout",
     "output_type": "stream",
     "text": [
      "0:1\n",
      "1:2\n",
      "2:2\n",
      "3:2\n",
      "4:2\n",
      "5:1\n",
      "7:1\n"
     ]
    }
   ],
   "source": [
    "#Dem tan xuat suat hien trong list\n",
    "a=[1,2,2,1,4,7,3,4,0,3,5]\n",
    "b={}\n",
    "for i in a:\n",
    "    if i in b:\n",
    "        b[i]+=1\n",
    "    else:\n",
    "        b[i]=1\n",
    "c=list(b.items())\n",
    "c.sort()\n",
    "d=dict(c)\n",
    "for val,fre in d.items():\n",
    "    print(val,fre,sep=':')"
   ]
  },
  {
   "cell_type": "code",
   "execution_count": 62,
   "metadata": {},
   "outputs": [
    {
     "name": "stdout",
     "output_type": "stream",
     "text": [
      "{1: 1, 2: 4, 3: 9, 4: 16}\n"
     ]
    }
   ],
   "source": [
    "#dict comprehension\n",
    "#{key : value for var in iterable}\n",
    "a=[1,2,3,4]\n",
    "for x in a:\n",
    "    a[x]=x**2\n",
    "#dict comprehension\n",
    "d1={ x:x**2 for x in a}\n",
    "print(d1)"
   ]
  },
  {
   "cell_type": "code",
   "execution_count": 6,
   "metadata": {},
   "outputs": [
    {
     "ename": "AttributeError",
     "evalue": "'list' object has no attribute 'split'",
     "output_type": "error",
     "traceback": [
      "\u001b[1;31m---------------------------------------------------------------------------\u001b[0m",
      "\u001b[1;31mAttributeError\u001b[0m                            Traceback (most recent call last)",
      "\u001b[1;32mc:\\Users\\phero\\PycharmProjects\\hungleproject\\hunglevscode\\Python\\PythonScratch\\LECTURES\\buoi12_set_dicts.ipynb Cell 19\u001b[0m in \u001b[0;36m8\n\u001b[0;32m      <a href='vscode-notebook-cell:/c%3A/Users/phero/PycharmProjects/hungleproject/hunglevscode/Python/PythonScratch/LECTURES/buoi12_set_dicts.ipynb#X24sZmlsZQ%3D%3D?line=5'>6</a>\u001b[0m c\u001b[39m=\u001b[39m\u001b[39mdict\u001b[39m(Counter(s))\n\u001b[0;32m      <a href='vscode-notebook-cell:/c%3A/Users/phero/PycharmProjects/hungleproject/hunglevscode/Python/PythonScratch/LECTURES/buoi12_set_dicts.ipynb#X24sZmlsZQ%3D%3D?line=6'>7</a>\u001b[0m c\u001b[39m=\u001b[39m\u001b[39mlist\u001b[39m(\u001b[39mdict\u001b[39m(Counter(s))\u001b[39m.\u001b[39mitems())\n\u001b[1;32m----> <a href='vscode-notebook-cell:/c%3A/Users/phero/PycharmProjects/hungleproject/hunglevscode/Python/PythonScratch/LECTURES/buoi12_set_dicts.ipynb#X24sZmlsZQ%3D%3D?line=7'>8</a>\u001b[0m d\u001b[39m=\u001b[39m\u001b[39mlist\u001b[39m(\u001b[39mdict\u001b[39m(Counter(a\u001b[39m.\u001b[39;49msplit())\u001b[39m.\u001b[39mitems()))\n\u001b[0;32m      <a href='vscode-notebook-cell:/c%3A/Users/phero/PycharmProjects/hungleproject/hunglevscode/Python/PythonScratch/LECTURES/buoi12_set_dicts.ipynb#X24sZmlsZQ%3D%3D?line=8'>9</a>\u001b[0m \u001b[39mprint\u001b[39m(d)\n",
      "\u001b[1;31mAttributeError\u001b[0m: 'list' object has no attribute 'split'"
     ]
    }
   ],
   "source": [
    "#counter trong collection: Dung de dem tan suat xuat hien cua cac phan tu trong mangs\n",
    "from collections import Counter\n",
    "a=[1,2,2,1,4,7,3,4,0,3,5]\n",
    "b=list(dict(Counter(a)).items())\n",
    "s='le huu hung lop dhkhdl'\n",
    "c=dict(Counter(s))\n",
    "c=list(dict(Counter(s)).items())\n",
    "d=list(dict(Counter(s.split()).items()))\n",
    "print(d)"
   ]
  }
 ],
 "metadata": {
  "kernelspec": {
   "display_name": "Python 3",
   "language": "python",
   "name": "python3"
  },
  "language_info": {
   "codemirror_mode": {
    "name": "ipython",
    "version": 3
   },
   "file_extension": ".py",
   "mimetype": "text/x-python",
   "name": "python",
   "nbconvert_exporter": "python",
   "pygments_lexer": "ipython3",
   "version": "3.10.8"
  },
  "orig_nbformat": 4
 },
 "nbformat": 4,
 "nbformat_minor": 2
}
