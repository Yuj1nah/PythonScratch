{
 "cells": [
  {
   "cell_type": "code",
   "execution_count": 1,
   "metadata": {},
   "outputs": [
    {
     "name": "stdout",
     "output_type": "stream",
     "text": [
      "[[1, 2, 3], [4, 5, 6]]\n"
     ]
    }
   ],
   "source": [
    "#tao mang 2 chieu\n",
    "#vd: 2 dong 3 cot \n",
    "# 1 2 3\n",
    "# 4 5 6\n",
    "n,m=map(int,input().split())\n",
    "a=[]\n",
    "for i in range(n):\n",
    "    b=list(map(int,input().split()))\n",
    "    a.append(b)\n",
    "print(a)"
   ]
  },
  {
   "cell_type": "code",
   "execution_count": 2,
   "metadata": {},
   "outputs": [
    {
     "name": "stdout",
     "output_type": "stream",
     "text": [
      "1 2 3 \n",
      "4 5 6 \n"
     ]
    }
   ],
   "source": [
    "#truy cap tung phan tu trong mang\n",
    "n,m=map(int,input().split())\n",
    "a=[]\n",
    "for i in range(n):\n",
    "    b=list(map(int,input().split()))\n",
    "    a.append(b)\n",
    "for i in range(n):\n",
    "    for j in range(m):\n",
    "        print(a[i][j],end=' ') #truy cap vao phan tu dong i cot j\n",
    "    print()\n"
   ]
  },
  {
   "cell_type": "code",
   "execution_count": 3,
   "metadata": {},
   "outputs": [
    {
     "name": "stdout",
     "output_type": "stream",
     "text": [
      "1 9\n"
     ]
    }
   ],
   "source": [
    "#Bai toan tim min,max trong mang 2 chieu\n",
    "n,m=map(int,input().split())\n",
    "a=[]\n",
    "for i in range(n):\n",
    "    b=list(map(int,input().split()))\n",
    "    a.append(b)\n",
    "min_val,max_val=10**18,-10**18\n",
    "for i in range(n):\n",
    "    for j in range(m):\n",
    "        min_val=min(min_val,a[i][j])\n",
    "        max_val=max(max_val,a[i][j])\n",
    "print(min_val,max_val)\n",
    "#cach 2\n",
    "min_val1,max_val1=10**18,-10**18\n",
    "for i in a:\n",
    "    min_val=min(min_val1,min(a[i])) #i la hang j la cot\n",
    "    max_val=max(max_val1,max(a[i]))\n",
    "print(min_val1,max_val1)"
   ]
  },
  {
   "cell_type": "code",
   "execution_count": 5,
   "metadata": {},
   "outputs": [
    {
     "name": "stdout",
     "output_type": "stream",
     "text": [
      "[1, 2, 4, 2, 5, 7, 9, 4, 8]\n",
      "[7, 14, 21]\n"
     ]
    }
   ],
   "source": [
    "#flatten mang 2 chieu thanh mang 1 chieu\n",
    "a=[[1,2,4],[2,5,7],[9,4,8]]\n",
    "b=[x for i in a for x in i]\n",
    "sum_row=[sum(row) for row in a]\n",
    "print(b)\n",
    "print(sum_row)\n",
    "#tinh tong tung cot\n",
    "n,m=map(int,input().split())\n",
    "a=[]\n",
    "for i in range(n):\n",
    "    b=list(map(int,input().split()))\n",
    "    a.append(b)\n",
    "for j in m:\n",
    "    tong=0\n",
    "    for i in n:\n",
    "        tong+=a[i][j]\n",
    "    print(tong)"
   ]
  }
 ],
 "metadata": {
  "kernelspec": {
   "display_name": "Python 3",
   "language": "python",
   "name": "python3"
  },
  "language_info": {
   "codemirror_mode": {
    "name": "ipython",
    "version": 3
   },
   "file_extension": ".py",
   "mimetype": "text/x-python",
   "name": "python",
   "nbconvert_exporter": "python",
   "pygments_lexer": "ipython3",
   "version": "3.10.8"
  },
  "orig_nbformat": 4
 },
 "nbformat": 4,
 "nbformat_minor": 2
}
