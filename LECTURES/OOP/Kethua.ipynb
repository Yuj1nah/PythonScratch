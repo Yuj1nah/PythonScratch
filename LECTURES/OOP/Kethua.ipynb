{
 "cells": [
  {
   "cell_type": "code",
   "execution_count": 1,
   "metadata": {},
   "outputs": [
    {
     "name": "stdout",
     "output_type": "stream",
     "text": [
      "Le Huu Hung\n",
      "Nguoi xin chao\n"
     ]
    }
   ],
   "source": [
    "#Cú pháp\n",
    "class Baseclass:\n",
    "    def __init__(self):\n",
    "        print('Ham khoi tao')\n",
    "    def xinchao(self):\n",
    "        print('Nguoi xin chao')\n",
    "class ChaClass(Baseclass):\n",
    "    def __init__(self):\n",
    "        print('Le Huu Hung')\n",
    "if __name__=='__main__':\n",
    "    s=ChaClass()\n",
    "    s.xinchao()"
   ]
  },
  {
   "cell_type": "code",
   "execution_count": 7,
   "metadata": {},
   "outputs": [
    {
     "name": "stdout",
     "output_type": "stream",
     "text": [
      "1\n",
      "2\n"
     ]
    }
   ],
   "source": [
    "class Person:\n",
    "    count=0\n",
    "    def __init__(self):\n",
    "        self.count+=1\n",
    "    def getcount(self):\n",
    "        return self.count\n",
    "class Student(Person):\n",
    "    def change(self):\n",
    "        self.count+=1\n",
    "if __name__=='__main__':\n",
    "    s=Student()\n",
    "    print(s.getcount())\n",
    "    s.change()\n",
    "    print(s.getcount())"
   ]
  },
  {
   "cell_type": "code",
   "execution_count": 10,
   "metadata": {},
   "outputs": [
    {
     "name": "stdout",
     "output_type": "stream",
     "text": [
      "h 19/3/22 3.22\n"
     ]
    }
   ],
   "source": [
    "#Subclassing\n",
    "class Person:\n",
    "    def __init__(self,name,birth):\n",
    "        self.name=name\n",
    "        self.birth=birth\n",
    "class Student(Person):\n",
    "    def __init__(self,name,birth,gpa):\n",
    "        Person.__init__(self,name,birth) # co the dung super()._init__(self,name,birth)\n",
    "        self.gpa=gpa\n",
    "    def display(self):\n",
    "        print(f'{self.name} {self.birth} {self.gpa:.2f}')\n",
    "if __name__=='__main__':\n",
    "    s=Student('h','19/3/22',3.22)\n",
    "    s.display()"
   ]
  }
 ],
 "metadata": {
  "kernelspec": {
   "display_name": "Python 3",
   "language": "python",
   "name": "python3"
  },
  "language_info": {
   "codemirror_mode": {
    "name": "ipython",
    "version": 3
   },
   "file_extension": ".py",
   "mimetype": "text/x-python",
   "name": "python",
   "nbconvert_exporter": "python",
   "pygments_lexer": "ipython3",
   "version": "3.10.8"
  },
  "orig_nbformat": 4
 },
 "nbformat": 4,
 "nbformat_minor": 2
}
