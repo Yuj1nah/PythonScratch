{
 "cells": [
  {
   "cell_type": "code",
   "execution_count": 1,
   "metadata": {},
   "outputs": [
    {
     "name": "stdout",
     "output_type": "stream",
     "text": [
      "<class '__main__.Person'>\n"
     ]
    }
   ],
   "source": [
    "class Person:\n",
    "    pass\n",
    "if __name__=='__main__':\n",
    "    p=Person()\n",
    "    print(type(p))"
   ]
  },
  {
   "cell_type": "code",
   "execution_count": 2,
   "metadata": {},
   "outputs": [
    {
     "name": "stdout",
     "output_type": "stream",
     "text": [
      "Viet Nam Teo dev\n",
      "Viet Nam Ti engineer\n"
     ]
    }
   ],
   "source": [
    "#Phuong thuc __init()__ va tham so self\n",
    "#trong 1 lop attribute va method \n",
    "#instance attribute: rieng cua moi doi tu\n",
    "#class attribute: la thuoc tinh chung cua class do\n",
    "class Person:\n",
    "    nationality='Viet Nam' #class attribute\n",
    "    def __init__(self,name,work):\n",
    "        self.name=name #instance attribute\n",
    "        self.work=work #instance attribute\n",
    "if __name__=='__main__':\n",
    "    p1=Person('Teo','dev')\n",
    "    p2=Person('Ti','engineer')\n",
    "    print(p1.nationality,p1.name,p1.work)\n",
    "    print(p2.nationality,p2.name,p2.work)\n"
   ]
  },
  {
   "cell_type": "code",
   "execution_count": null,
   "metadata": {},
   "outputs": [],
   "source": [
    "#method=behaviour\n",
    "class Person:\n",
    "    nationality='Viet Nam' #class attribute\n",
    "    def __init__(self,name,work):\n",
    "        self.name=name #instance attribute\n",
    "        self.work=work #instance attribute\n",
    "    def greet(self):\n",
    "        print('Xin chao')\n",
    "    def info(self):\n",
    "        print(self.name +' '+self.work)\n",
    "if __name__=='__main__':\n",
    "    p1=Person('Teo','dev')\n",
    "    p2=Person('Ti','engineer')\n",
    "    p1.greet()\n",
    "    p1.info\n",
    "    print(p1.nationality,p1.name,p1.work)\n",
    "    p2.greet()\n",
    "    p2.info\n",
    "    print(p2.nationality,p2.name,p2.work)\n",
    "\n"
   ]
  },
  {
   "cell_type": "code",
   "execution_count": 15,
   "metadata": {},
   "outputs": [
    {
     "name": "stdout",
     "output_type": "stream",
     "text": [
      "Hung DS 10000\n"
     ]
    }
   ],
   "source": [
    "#Tinh chat dong goi\n",
    "# thuoc tinh private k the truy cap truc tiep ma chi truy cap qua cac ham va k truy cap ngoai pham vi class\n",
    "class Person:\n",
    "    nationality='Viet Nam' \n",
    "    def __init__(self,name,work,salary):\n",
    "        self.name=name #public\n",
    "        self._work=work #protected\n",
    "        self.__salary=salary #private \n",
    "    def get_name(self):\n",
    "        return self.name\n",
    "    def get_work(self):\n",
    "        return self._work\n",
    "    def get_salary(self):\n",
    "        return self.__salary\n",
    "    def set_name(self,name):\n",
    "        self.name=name\n",
    "    def set_work(self,work):\n",
    "        self._work=work\n",
    "    def set_salary(self,salary):\n",
    "        self.__salary=salary\n",
    "    def infor(self):\n",
    "        print('{} {} {}'.format(self.name,self._work,self.__salary))\n",
    "if __name__=='__main__':\n",
    "    p1=Person('Teo','dev',1000)\n",
    "    p1.set_name('Hung')\n",
    "    p1.set_work('DS')\n",
    "    p1.set_salary(10000)\n",
    "    p1.infor()\n"
   ]
  },
  {
   "cell_type": "code",
   "execution_count": 13,
   "metadata": {},
   "outputs": [
    {
     "name": "stdout",
     "output_type": "stream",
     "text": [
      "Hung dev 18/03/2004\n"
     ]
    }
   ],
   "source": [
    "#Ham str\n",
    "class Person:\n",
    "    nationality='Viet Nam' \n",
    "    def __init__(self,name,work,salary):\n",
    "        self.name=name \n",
    "        self.work=work \n",
    "        self.salary=salary  \n",
    "    def __str__(self):\n",
    "        return f'{self.name} {self.work} {self.salary}'\n",
    "if __name__=='__main__':\n",
    "    p1=Person('Hung','dev','18/03/2004')\n",
    "    print(p1)"
   ]
  }
 ],
 "metadata": {
  "kernelspec": {
   "display_name": "Python 3",
   "language": "python",
   "name": "python3"
  },
  "language_info": {
   "codemirror_mode": {
    "name": "ipython",
    "version": 3
   },
   "file_extension": ".py",
   "mimetype": "text/x-python",
   "name": "python",
   "nbconvert_exporter": "python",
   "pygments_lexer": "ipython3",
   "version": "3.10.8"
  },
  "orig_nbformat": 4
 },
 "nbformat": 4,
 "nbformat_minor": 2
}
