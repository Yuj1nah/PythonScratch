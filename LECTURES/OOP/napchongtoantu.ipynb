{
 "cells": [
  {
   "cell_type": "code",
   "execution_count": 8,
   "metadata": {},
   "outputs": [
    {
     "name": "stdout",
     "output_type": "stream",
     "text": [
      "5 + 7j\n"
     ]
    }
   ],
   "source": [
    "#__add__\n",
    "class SoPhuc:\n",
    "    def __init__(self,sothuc,soao):\n",
    "        self.sothuc=sothuc\n",
    "        self.soao=soao\n",
    "    def __add__(self,other):\n",
    "        tmp1=self.sothuc+other.sothuc\n",
    "        tmp2=self.soao+other.soao\n",
    "        return SoPhuc(tmp1,tmp2)\n",
    "    def __str__(self):\n",
    "        return f'{self.sothuc} + {self.soao}j'\n",
    "if __name__=='__main__':\n",
    "    s1=SoPhuc(2,3)\n",
    "    s2=SoPhuc(3,4)\n",
    "    print(s1+s2)"
   ]
  },
  {
   "cell_type": "code",
   "execution_count": 13,
   "metadata": {},
   "outputs": [
    {
     "name": "stdout",
     "output_type": "stream",
     "text": [
      "-2 + -2\n"
     ]
    }
   ],
   "source": [
    "#__sub__\n",
    "class SoPhuc:\n",
    "    def __init__(self,thuc,ao):\n",
    "        self.thuc=thuc\n",
    "        self.ao=ao\n",
    "    def __sub__(self,other):\n",
    "        self.thuc-=other.thuc\n",
    "        self.ao-=other.ao\n",
    "        return SoPhuc(self.thuc,self.ao)\n",
    "    def __str__(self):\n",
    "        return f'{self.thuc} + {self.ao}'\n",
    "if __name__=='__main__':\n",
    "    s1=SoPhuc(2,3)\n",
    "    s2=SoPhuc(4,5)\n",
    "    s3=s1-s2\n",
    "    print(s3)"
   ]
  },
  {
   "cell_type": "code",
   "execution_count": 32,
   "metadata": {},
   "outputs": [
    {
     "name": "stdout",
     "output_type": "stream",
     "text": [
      "7 + 9\n"
     ]
    }
   ],
   "source": [
    "#__mul__\n",
    "class SoPhuc:\n",
    "    def __init__(self,thuc,ao):\n",
    "        self.thuc=thuc\n",
    "        self.ao=ao\n",
    "    def __mul__(self,other):\n",
    "        thuc=self.thuc*other.thuc-self.ao*other.ao\n",
    "        ao=self.thuc*other.ao+self.ao*other.thuc\n",
    "        self.thuc,self.ao=thuc,ao\n",
    "        return SoPhuc(thuc,ao)\n",
    "    def __str__(self):\n",
    "        return f'{self.thuc} + {self.ao}'\n",
    "if __name__=='__main__':\n",
    "    s1=SoPhuc(3,2)\n",
    "    s2=SoPhuc(3,1)\n",
    "    s3=s1*s2\n",
    "    print(s3)"
   ]
  },
  {
   "cell_type": "code",
   "execution_count": 34,
   "metadata": {},
   "outputs": [
    {
     "name": "stdout",
     "output_type": "stream",
     "text": [
      "True\n"
     ]
    }
   ],
   "source": [
    "#Cac ham so sanh\n",
    "#__lt__:less than\n",
    "#__le__:less or equal\n",
    "#__gt__:greater than\n",
    "#__ge__:greater than or equal\n",
    "#__eq__:equal\n",
    "#__ne__:not equal\n",
    "class SoPhuc:\n",
    "    def __init__(self,thuc,ao):\n",
    "        self.thuc=thuc\n",
    "        self.ao=ao\n",
    "    def __lt__(self,other):\n",
    "        return self.thuc <other.thuc and self.ao < other.ao\n",
    "    def __str__(self):\n",
    "        return f'{self.thuc} + {self.ao}'\n",
    "if __name__=='__main__':\n",
    "    s1=SoPhuc(2,0)\n",
    "    s2=SoPhuc(3,1)\n",
    "    print(s1<s2)"
   ]
  }
 ],
 "metadata": {
  "kernelspec": {
   "display_name": "Python 3",
   "language": "python",
   "name": "python3"
  },
  "language_info": {
   "codemirror_mode": {
    "name": "ipython",
    "version": 3
   },
   "file_extension": ".py",
   "mimetype": "text/x-python",
   "name": "python",
   "nbconvert_exporter": "python",
   "pygments_lexer": "ipython3",
   "version": "3.10.8"
  },
  "orig_nbformat": 4
 },
 "nbformat": 4,
 "nbformat_minor": 2
}
