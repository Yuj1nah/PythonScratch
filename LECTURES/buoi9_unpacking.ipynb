{
 "cells": [
  {
   "cell_type": "code",
   "execution_count": 3,
   "metadata": {},
   "outputs": [
    {
     "name": "stdout",
     "output_type": "stream",
     "text": [
      "2 3 4 6 8\n"
     ]
    }
   ],
   "source": [
    "#unpacking la ki thuat dung de tach cac bien cua mot tuple,list,iterable thanh cac bien roi rac\n",
    "#unpacking voi list\n",
    "#Example:\n",
    "a=[2,3,4,6,8]\n",
    "x,y,z,t,i=a #gan cac bien voi tung gia tri trong list\n",
    "print(x,y,z,t,i)"
   ]
  },
  {
   "cell_type": "code",
   "execution_count": null,
   "metadata": {},
   "outputs": [],
   "source": [
    "a=[2,3,5,6,7] #tach cac bien dau va bien cuoi \n",
    "x,*y,z=a\n",
    "print(x)\n",
    "print(z)\n",
    "print(y)"
   ]
  },
  {
   "cell_type": "code",
   "execution_count": 7,
   "metadata": {},
   "outputs": [
    {
     "name": "stdout",
     "output_type": "stream",
     "text": [
      "CR7 won 1994 championship\n",
      "CR7 1994\n"
     ]
    }
   ],
   "source": [
    "#unpacking voi tuple\n",
    "#example\n",
    "a=('CR7','won',1994,'championship')\n",
    "name,goal,year,achievement=a\n",
    "print(name,goal,year,achievement)\n",
    "name1,_,year1,_=a #chung ta co the chon biến cần gán \n",
    "print(name1,year1)"
   ]
  },
  {
   "cell_type": "code",
   "execution_count": 11,
   "metadata": {},
   "outputs": [
    {
     "name": "stdout",
     "output_type": "stream",
     "text": [
      "C R 7\n",
      "0 2 4\n",
      "a 10\n",
      "b 20\n",
      "c 30\n"
     ]
    }
   ],
   "source": [
    "#unpacking with str\n",
    "a='CR7'\n",
    "s,d,f=a\n",
    "print(s,d,f)\n",
    "#unpacking with range\n",
    "a,b,c=range(0,5,2)\n",
    "print(a,b,c)\n",
    "#unpack with for loop\n",
    "q=(('a',10),('b',20),('c',30))\n",
    "for x,y in q:\n",
    "    print(x,y)"
   ]
  },
  {
   "cell_type": "code",
   "execution_count": null,
   "metadata": {},
   "outputs": [],
   "source": []
  }
 ],
 "metadata": {
  "kernelspec": {
   "display_name": "Python 3",
   "language": "python",
   "name": "python3"
  },
  "language_info": {
   "codemirror_mode": {
    "name": "ipython",
    "version": 3
   },
   "file_extension": ".py",
   "mimetype": "text/x-python",
   "name": "python",
   "nbconvert_exporter": "python",
   "pygments_lexer": "ipython3",
   "version": "3.10.8"
  },
  "orig_nbformat": 4
 },
 "nbformat": 4,
 "nbformat_minor": 2
}
