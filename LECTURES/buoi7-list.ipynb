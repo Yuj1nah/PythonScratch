{
 "cells": [
  {
   "cell_type": "code",
   "execution_count": null,
   "metadata": {},
   "outputs": [],
   "source": [
    "#truy cập các phần tử thông qua chỉ số\n",
    "b=[1,2,3,4,5,6]\n",
    "print(b[0])\n",
    "#Duyệt list\n",
    "a=[1,2,3,4,'python','28tech']\n",
    "for i in a:\n",
    "    print(i,end=' ')\n",
    "print()\n",
    "for i in range(len(a)):\n",
    "    print(a[i],end=' ')\n",
    "print()\n",
    "for i in range(len(a)-1,-1,-1):\n",
    "    print(a[i],end=' ')"
   ]
  },
  {
   "cell_type": "code",
   "execution_count": 7,
   "metadata": {},
   "outputs": [
    {
     "name": "stdout",
     "output_type": "stream",
     "text": [
      "[20, 30, 40, 50]\n",
      "7\n"
     ]
    }
   ],
   "source": [
    "#list constructor : dùng hàm list để ép các object khác thành list\n",
    "a=20,30,40,50\n",
    "a=list(a)\n",
    "print(a)\n",
    "#Hàm len() để biết số lượng phần tử trong list\n",
    "b=[1,2,3,4,5,6,7]\n",
    "print(len(b))"
   ]
  },
  {
   "cell_type": "code",
   "execution_count": 22,
   "metadata": {},
   "outputs": [
    {
     "name": "stdout",
     "output_type": "stream",
     "text": [
      "[1, 2, 3, 4, 'java', 'C++', 'C']\n"
     ]
    }
   ],
   "source": [
    "#thay đổi giá trị của các phần tử\n",
    "a=[1,2,3,4,'java','python','Ruby']\n",
    "a[-1]='C'\n",
    "a[-2]='C++'\n",
    "print(a)"
   ]
  },
  {
   "cell_type": "code",
   "execution_count": 24,
   "metadata": {},
   "outputs": [
    {
     "name": "stdout",
     "output_type": "stream",
     "text": [
      "[1, 2, 3, 4, 'python', 'java', 100]\n",
      "[1, 2, 'C++', 3, 4, 'python', 'java', 100]\n"
     ]
    }
   ],
   "source": [
    "#Thêm một phần tử vào list\n",
    "#dùng hàm append (append thêm 1 phần tử vào cuối list)\n",
    "a=[1,2,3,4,'python','java']\n",
    "a.append(100)\n",
    "print(a)\n",
    "#dùng hàm insert (thêm 1 phần tử vào vị trí chỉ định) insert(chỉ số index, tên thay thế)\n",
    "a.insert(2,'C++')\n",
    "print(a)"
   ]
  },
  {
   "cell_type": "code",
   "execution_count": 28,
   "metadata": {},
   "outputs": [
    {
     "name": "stdout",
     "output_type": "stream",
     "text": [
      "[1, 2, 4, 'python', 'java']\n",
      "[1, 2, 4, 'java']\n",
      "[1, 2, 4]\n",
      "[]\n"
     ]
    }
   ],
   "source": [
    "#xóa phần tử khỏi list\n",
    "#pop (Index) : dùng để xóa phần tử dựa theo chỉ số index\n",
    "a=[1,2,3,4,'python','java']\n",
    "a.pop(2)\n",
    "print(a)\n",
    "#del object[index] dùng để xóa phần tử dựa theo chỉ số index\n",
    "del a[3]\n",
    "print(a)\n",
    "#remove (object in list): dùng để xóa phần tử cần xóa trong list\n",
    "a.remove('java')\n",
    "print(a)\n",
    "#clear(): xóa toàn bộ phần tử trong list\n",
    "a.clear()\n",
    "print(a)"
   ]
  },
  {
   "cell_type": "code",
   "execution_count": 38,
   "metadata": {},
   "outputs": [
    {
     "name": "stdout",
     "output_type": "stream",
     "text": [
      "[1, 2, 3, 4, 'python', 'java', 1, 2, 3, 4, 'python', 'java']\n"
     ]
    }
   ],
   "source": [
    "#sao chep list\n",
    "a=[1,2,3,4,'python','java']\n",
    "b=a*2\n",
    "print(b)"
   ]
  },
  {
   "cell_type": "code",
   "execution_count": 41,
   "metadata": {},
   "outputs": [
    {
     "name": "stdout",
     "output_type": "stream",
     "text": [
      "YES\n",
      "[1, 2, 3, 4, 5, 6]\n"
     ]
    }
   ],
   "source": [
    "#tìm kiếm phần tử trong list\n",
    "a=[1,2,3,4,'python','java']\n",
    "if 'python' in a:\n",
    "    print('YES')\n",
    "#combine list\n",
    "a=[1,2,3]\n",
    "b=[4,5,6]\n",
    "a.extend(b)\n",
    "print(a)"
   ]
  },
  {
   "cell_type": "code",
   "execution_count": 43,
   "metadata": {},
   "outputs": [
    {
     "name": "stdout",
     "output_type": "stream",
     "text": [
      "True\n",
      "True\n",
      "False\n"
     ]
    }
   ],
   "source": [
    "#hàm copy: copy y như list ban đầu nhưng k phải list ban đầu\n",
    "a=[1,2,3,4,'python','java']\n",
    "b=a\n",
    "print(a is b)\n",
    "c=a.copy() #copy cac phan tu a vao c\n",
    "print(c==a)\n",
    "print(c is a)"
   ]
  },
  {
   "cell_type": "code",
   "execution_count": 45,
   "metadata": {},
   "outputs": [
    {
     "name": "stdout",
     "output_type": "stream",
     "text": [
      "3\n",
      "1\n"
     ]
    }
   ],
   "source": [
    "#count(phần tử): trả về số lần xuất hiện của 1 pt trong list\n",
    "a=[1,2,3,4,'python','java',1,1,4,6,7]\n",
    "print(a.count(1))\n",
    "#index(phần tử): trả về chỉ số đầu tiên của 1 pt trong list\n",
    "print(a.index(2))"
   ]
  },
  {
   "cell_type": "code",
   "execution_count": null,
   "metadata": {},
   "outputs": [],
   "source": [
    "#reverse(): lat nguoc list\n",
    "a=[1,2,3,4,'python','java']\n",
    "a.reverse()\n",
    "print(a)\n",
    "b=[1,3,6,8,1,2,4,6,3,16,34,8,123]\n",
    "#sort():sap xep tang dan\n",
    "b.sort()\n",
    "print(b)\n",
    "#all(): tra ve true neu tat ca phan tu la true\n",
    "#any(): tra ve true neu it nhat 1 phan tu la true\n"
   ]
  },
  {
   "cell_type": "code",
   "execution_count": null,
   "metadata": {},
   "outputs": [],
   "source": [
    "#slicling cut\n",
    "# a[start:stop:step]\n",
    "a=[10,20,30,40,50,60,70]\n",
    "b=a[2:-2:]\n",
    "c=a[1:-2]\n",
    "print(b)\n",
    "print(c)\n",
    "# dung list slicing de reverse list\n",
    "d=a[::-1]\n",
    "print(d)\n",
    "#dung de thay the nhieu gia tri trong 1 list\n",
    "a[2:5]=[100]\n",
    "print(a)\n",
    "a[2:5]=[1,3,4]\n",
    "print(a)\n",
    "a[2:5]=[]\n",
    "print(a)\n",
    "a[:0]=[1,3,4,5,9]\n",
    "print(a)\n",
    "a[len(a):]=[20,30,40]\n",
    "print(a)\n",
    "b=a.copy()\n",
    "print(b)\n",
    "print(a is b)\n",
    "#co the viet cach khac ngoai ham copy\n",
    "b=a[:]\n",
    "print(a is b)"
   ]
  },
  {
   "cell_type": "code",
   "execution_count": null,
   "metadata": {},
   "outputs": [],
   "source": [
    "#ham Lambda\n",
    "# lambda parameter : expression\n",
    "func = lambda x: x*3\n",
    "print(func(10))\n",
    "print((lambda x: x*3)(10))\n",
    "summary= lambda x,y,z:x+y+z\n",
    "print(summary(10,20,30))\n",
    "print((lambda x,y,z:x+y+z)(10,20,30))"
   ]
  },
  {
   "cell_type": "code",
   "execution_count": 26,
   "metadata": {},
   "outputs": [
    {
     "name": "stdout",
     "output_type": "stream",
     "text": [
      "[1, 4, 9, 16]\n",
      "[2, 4]\n"
     ]
    }
   ],
   "source": [
    "#map\n",
    "a=[1,2,3,4]\n",
    "b=list(map(lambda x: x**2,a))\n",
    "print(b)\n",
    "#filter: Nếu trả về True thì trả về \n",
    "b=list(filter(lambda x: x%2==0,a))\n",
    "print(b)"
   ]
  },
  {
   "cell_type": "code",
   "execution_count": 27,
   "metadata": {},
   "outputs": [
    {
     "name": "stdout",
     "output_type": "stream",
     "text": [
      "200\n"
     ]
    }
   ],
   "source": [
    "#lambda with if else\n",
    "findMax= lambda x,y:x if x>y else y\n",
    "print(findMax(100,200))"
   ]
  },
  {
   "cell_type": "code",
   "execution_count": null,
   "metadata": {},
   "outputs": [],
   "source": [
    "#list comprehension\n",
    "# [Expression for var in iterable]\n",
    "from math import *\n",
    "a=[1,11,2314,231,88,19,123,99,26,19]\n",
    "b=[ x**2 for x in a]\n",
    "c=[x**3 for x in range(5)]\n",
    "print(c)\n",
    "print(b)\n",
    "def sum_digit(n):\n",
    "    tong=0\n",
    "    while n!=0:\n",
    "        tong+=n%10\n",
    "        n//=10\n",
    "    return tong\n",
    "def prime(n):\n",
    "    if n<2:\n",
    "        return False\n",
    "    else:\n",
    "        for i in range(2,isqrt(n)+1):\n",
    "            if n%i==0:\n",
    "                return False\n",
    "        return True\n",
    "b=[sum_digit(x) for x in a] #ex1\n",
    "e=[x for  x in a if x%2==0] #ex2\n",
    "f=[x for x in a if prime(x)]#ex3\n",
    "print(f)"
   ]
  },
  {
   "cell_type": "code",
   "execution_count": null,
   "metadata": {},
   "outputs": [],
   "source": [
    "#Kỹ thuật mảng đánh dấu\n",
    "# đếm tần suất xuất hiện\n",
    "count=[0]*((10**7)+1)\n",
    "n=int(input())\n",
    "a=list(map(int,input().split()))\n",
    "for x in a:\n",
    "  count[x]+=1\n",
    "#for x in a: #in theo thứ tự xuất hiện\n",
    "if count[x]!=0:\n",
    "    print(x,count[x])\n",
    "    count[x]=0\n",
    "l,r=min(a),max(a)\n",
    "for i in range(l,r+1) : #in theo thu tu tang dan\n",
    "    count[i]+=1\n",
    "for i in range(l,r+1):\n",
    "    if count[i]!=0:\n",
    "        print(i,count[i])"
   ]
  },
  {
   "cell_type": "code",
   "execution_count": null,
   "metadata": {},
   "outputs": [],
   "source": [
    "#đếm các giá trị khác nhau trong mảng\n",
    "count=[0]*((10**7)+1)\n",
    "n=int(input())\n",
    "a=list(map(int,input().split()))\n",
    "for x in a:\n",
    "    count[x]=1\n",
    "dem=0\n",
    "for x in a: #xep theo thu tu xuat hien\n",
    "    if count[x]==1:\n",
    "        dem+=1\n",
    "        print(x,end=' ')\n",
    "        count[x]=0\n",
    "print()\n",
    "print(dem)\n",
    "'''l,r=min(a),max(a)\n",
    "cnt=0\n",
    "for i in range(l,r+1):#xep theo thu tu tang dan\n",
    "    if count[i]==1:\n",
    "        dem+=1\n",
    "        print(i,end=' ')\n",
    "        count[x]=0\n",
    "print()\n",
    "print(dem)'''\n",
    "    "
   ]
  }
 ],
 "metadata": {
  "kernelspec": {
   "display_name": "Python 3",
   "language": "python",
   "name": "python3"
  },
  "language_info": {
   "codemirror_mode": {
    "name": "ipython",
    "version": 3
   },
   "file_extension": ".py",
   "mimetype": "text/x-python",
   "name": "python",
   "nbconvert_exporter": "python",
   "pygments_lexer": "ipython3",
   "version": "3.10.8"
  },
  "orig_nbformat": 4
 },
 "nbformat": 4,
 "nbformat_minor": 2
}
