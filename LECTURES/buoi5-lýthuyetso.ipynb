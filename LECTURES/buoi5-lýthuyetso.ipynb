{
 "cells": [
  {
   "cell_type": "code",
   "execution_count": 6,
   "metadata": {},
   "outputs": [
    {
     "name": "stdout",
     "output_type": "stream",
     "text": [
      "2\n"
     ]
    }
   ],
   "source": [
    "#Tính tổng ước và đếm ước viết hàm\n",
    "from math import *\n",
    "def tonguoc(n):\n",
    "    tong=0\n",
    "    for i in range(1,n+1):\n",
    "        if n%i==0:\n",
    "            tong+=i\n",
    "    return tong\n",
    "def demuoc(n):\n",
    "    cnt=0\n",
    "    for i in range(1,n+1):\n",
    "        if n%i==0:\n",
    "            cnt+=1\n",
    "    return cnt\n",
    "def optonguoc(n): #code tối ưu tổng ước\n",
    "    tong=0\n",
    "    for i in range(1,isqrt(n)+1):\n",
    "        if n%i==0:\n",
    "            tong+=i\n",
    "            if i!=n//i:\n",
    "                tong+=n//i\n",
    "    return tong\n",
    "def opdemuoc(n): #code tối ưu đếm ước\n",
    "    tong=0    \n",
    "    for i in range(1,isqrt(n)+1):\n",
    "        if n%i==0:\n",
    "            tong+=1\n",
    "            if i!=n//i:\n",
    "                tong+=1\n",
    "    return tong\n",
    "\n",
    "if __name__=='__main__':\n",
    "    n=79\n",
    "    a=opdemuoc(n)\n",
    "    print(a)\n"
   ]
  },
  {
   "cell_type": "code",
   "execution_count": null,
   "metadata": {},
   "outputs": [],
   "source": [
    "#Tính kiểm tra số nguyên tố:\n",
    "#Số nguyên tố là số nguyên dương có 2 ước là 1 và chính nó\n",
    "#Lưu ý khi code kiểm tra tính đúng sai => Nên cố gắng kiểm tra nó sai=>Kết luận bằng câu lện return\n",
    "from math import *\n",
    "def prime(n):\n",
    "    cnt=0\n",
    "    for i in range(1,isqrt(n)+1):\n",
    "        if n%i==0:\n",
    "            cnt+=1 #đếm ước\n",
    "            if i!=n//i:\n",
    "                cnt+=1\n",
    "    if cnt==2:\n",
    "        return True\n",
    "    else:\n",
    "        return False\n",
    "def opprime(n):#tối ưu code\n",
    "    if n<2:\n",
    "        return False\n",
    "    for i in range(2,isqrt(n)+1):\n",
    "        if n%i==0:\n",
    "            return False\n",
    "    return True\n",
    "#Liệt kê các snt từ 1 tới n:\n",
    "if __name__=='__main__':\n",
    "    n=int(input())\n",
    "    for i in range(1,n+1):\n",
    "        if prime(i):\n",
    "            print(i,end=' ')\n"
   ]
  },
  {
   "cell_type": "code",
   "execution_count": 5,
   "metadata": {},
   "outputs": [
    {
     "name": "stdout",
     "output_type": "stream",
     "text": [
      "3 3 "
     ]
    }
   ],
   "source": [
    "#Phân tích thừa số nguyên tố:\n",
    "#vd: 60=2*2*3*5\n",
    "from math import *\n",
    "def pt(n):\n",
    "    for i in range(2,isqrt(n)+1):\n",
    "        if n%i==0:\n",
    "            while n%i==0:\n",
    "                print(i,end=' ')\n",
    "                n//=i\n",
    "    \n",
    "    #n is prime\n",
    "    if n>1:\n",
    "        print(n)\n",
    "\n",
    "if __name__=='__main__':\n",
    "    n=int(input())\n",
    "    pt(n)"
   ]
  },
  {
   "cell_type": "code",
   "execution_count": null,
   "metadata": {},
   "outputs": [],
   "source": [
    "#Số chính phương\n",
    "from math import *\n",
    "def square(n):\n",
    "    can=isqrt(n)\n",
    "    return can*can==n\n",
    "#Số lập phương\n",
    "def cube(n):\n",
    "    can=pow(n,1/3)\n",
    "    return can**3==n or (can+1)**3==n\n",
    "#Ước chung lớn nhất\n",
    "def gcd(a,b):\n",
    "    while b!=0:\n",
    "        a,b=b,a%b\n",
    "    print(a)\n",
    "#Bội chung nhỏ nhất    \n",
    "def lcm(a,b):\n",
    "    return (a*b)//gcd(a,b)\n",
    "#Tính tỏ hợp\n",
    "def tohop(n,k):\n",
    "    return factorial(n)/(factorial(k)*factorial(n-k))    \n",
    "if __name__=='__main__':\n",
    "    a,b=15,18\n",
    "    while b!=0:\n",
    "        a,b=b,a%b\n",
    "        print(a,b)\n",
    "    print(a)\n",
    "\n"
   ]
  },
  {
   "cell_type": "code",
   "execution_count": null,
   "metadata": {},
   "outputs": [],
   "source": [
    "#Số fibonaci\n",
    "def fibo(n):\n",
    "    if n==0 or n==1:\n",
    "        print(n)\n",
    "    elif n==2:\n",
    "        print(n)\n",
    "    else:\n",
    "        print('0 1',end=' ')\n",
    "        fn2,fn1=0,1\n",
    "        for i in range(2,n+1):\n",
    "            fn=fn2+fn1\n",
    "            print(fn,end=' ')\n",
    "            fn2,fn1=fn1,fn\n",
    "def checkfibo(n): #Kiểm tra số fibo\n",
    "    if n==0 or n==1:\n",
    "        return True\n",
    "    fn2,fn1=0,1\n",
    "    for i in range(2,n+1):\n",
    "        fn=fn2+fn1\n",
    "        if fn==n:\n",
    "            return True\n",
    "        fn2,fn1=fn1,fn\n",
    "    return False\n",
    "def printFibo(n): #in ra số fibo thứ n\n",
    "    if n==0 or n==1:\n",
    "        print(n)\n",
    "    elif n==2:\n",
    "        print(n)\n",
    "    else:\n",
    "        fn2,fn1=0,1\n",
    "        for i in range(2,n+1):\n",
    "            fn=fn2+fn1\n",
    "            fn2,fn1=fn1,fn\n",
    "        return fn\n",
    "\n",
    "if __name__=='__main__':\n",
    "    print(printFibo(11))\n",
    "    \n",
    "        \n"
   ]
  },
  {
   "cell_type": "code",
   "execution_count": 44,
   "metadata": {},
   "outputs": [
    {
     "name": "stdout",
     "output_type": "stream",
     "text": [
      "False\n"
     ]
    }
   ],
   "source": [
    "#Số thuận nghịch (Palindrome)\n",
    "def palin(n):\n",
    "    tmp=n\n",
    "    rev=0\n",
    "    while(n!=0):\n",
    "        rev=rev*10+n%10\n",
    "        n//=10\n",
    "    return rev==tmp\n",
    "if __name__=='__main__':\n",
    "    print(palin(241))"
   ]
  },
  {
   "cell_type": "code",
   "execution_count": 1,
   "metadata": {},
   "outputs": [
    {
     "name": "stdout",
     "output_type": "stream",
     "text": [
      "False\n"
     ]
    }
   ],
   "source": [
    "#Số hoàn hảo (Là tổng các ước trừ chính nó):\n",
    "from math import *\n",
    "def perfect(n):\n",
    "    tong=1\n",
    "    for i in range(2,isqrt(n)+1):\n",
    "        if n%i==0:\n",
    "            tong+=i\n",
    "            if i!=n//i:\n",
    "                tong+=n//i\n",
    "    return tong\n",
    "def prime(n):\n",
    "    if n<2:\n",
    "        return False\n",
    "    for i in range(2,isqrt(n)+1):\n",
    "        if n%i==0:\n",
    "            return False\n",
    "    return True\n",
    "#Áp dụng Eclid-Euler để xác định số hoàn hảo\n",
    "#Nếu p là một số nguyên tố và 2^(p-1) cũng là một số nguyên tố ==>(2^(p-1))*(2^p-1)== một số nguyên tố\n",
    "def perfect2(n):\n",
    "    for i in range(2,33):\n",
    "        if prime(i):\n",
    "            if prime(2**(i-1)):\n",
    "                if (2**(i-1))*(2**(i-1))==n:\n",
    "                    return True\n",
    "    return False \n",
    "print(perfect2(28))\n",
    "            "
   ]
  },
  {
   "cell_type": "code",
   "execution_count": 45,
   "metadata": {},
   "outputs": [],
   "source": [
    "#Lý thuyết đồng dư:\n",
    "#(A+B)%C=((A%C)+(B%C))%C\n",
    "#(A-B)%C=((A%C)-(B%C))%C\n",
    "#(A*B)%C=((A%C)*(B%C))%C\n",
    "#(A/B)%C=((A%C)/(B%C))%C\n",
    "#Tính n giai thừa chia dư cho 10^9+7\n",
    "#Khi bài toán yêu cầu chia dư kết quả cho 1 số nào đó => Tính đến đâu chia dư đến đó\n",
    "#Tính a^b chia dư cho c\n",
    "from math import *\n",
    "n=int(input())\n",
    "tich=1\n",
    "for i in range(1,n+1):\n",
    "    n*=i\n",
    "    n%=((10 ** 9)+7)\n",
    "print(tich%(10 ** 9+7))\n",
    "def mu(a,b,c):\n",
    "    res=1\n",
    "    for i in range(1,b+1):\n",
    "        res*=b\n",
    "        res%=c\n",
    "    print(a)"
   ]
  }
 ],
 "metadata": {
  "kernelspec": {
   "display_name": "Python 3",
   "language": "python",
   "name": "python3"
  },
  "language_info": {
   "codemirror_mode": {
    "name": "ipython",
    "version": 3
   },
   "file_extension": ".py",
   "mimetype": "text/x-python",
   "name": "python",
   "nbconvert_exporter": "python",
   "pygments_lexer": "ipython3",
   "version": "3.10.8"
  },
  "orig_nbformat": 4
 },
 "nbformat": 4,
 "nbformat_minor": 2
}
