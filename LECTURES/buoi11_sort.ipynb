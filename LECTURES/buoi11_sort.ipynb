{
 "cells": [
  {
   "cell_type": "code",
   "execution_count": 2,
   "metadata": {},
   "outputs": [
    {
     "name": "stdout",
     "output_type": "stream",
     "text": [
      "[0, 1, 2, 3, 3, 4, 7, 9, 23]\n"
     ]
    }
   ],
   "source": [
    "#sort(key=,reverse=)\n",
    "#key duoc su dung de lam tieu chi sap xep\n",
    "#reverse: Neu reverse = true thi se sap xep theo thu tu nguoc \n",
    "#Ham sort k thay doi bat ki gia tri nao ma thay doi truc tiep list\n",
    "a=[2,3,4,1,7,23,9,3,0]\n",
    "a.sort()\n",
    "print(a)"
   ]
  },
  {
   "cell_type": "code",
   "execution_count": 4,
   "metadata": {},
   "outputs": [
    {
     "name": "stdout",
     "output_type": "stream",
     "text": [
      "[23, 9, 7, 4, 3, 3, 2, 1, 0]\n"
     ]
    }
   ],
   "source": [
    "a=[2,3,4,1,7,23,9,3,0]\n",
    "a.sort(reverse=True)\n",
    "print(a)"
   ]
  },
  {
   "cell_type": "code",
   "execution_count": 9,
   "metadata": {},
   "outputs": [
    {
     "name": "stdout",
     "output_type": "stream",
     "text": [
      "[0, -2, 3, 5, -7, -9, 12, -76]\n"
     ]
    }
   ],
   "source": [
    "from math import *\n",
    "a=[-7,3,5,0,-2,-76,12,-9]\n",
    "a.sort(key= abs) #dung key la cac ham co san\n",
    "print(a)\n"
   ]
  },
  {
   "cell_type": "code",
   "execution_count": 13,
   "metadata": {},
   "outputs": [
    {
     "name": "stdout",
     "output_type": "stream",
     "text": [
      "[0, 2, 12, 5, 9, 73, 344, 76]\n"
     ]
    }
   ],
   "source": [
    "#sort voi cac ham tu viet\n",
    "def sum_digit(n):\n",
    "    tong=0\n",
    "    while(n!=0):\n",
    "        tong+=n%10\n",
    "        n//=10\n",
    "    return tong\n",
    "if __name__=='__main__':\n",
    "    a=[73,344,5,0,2,76,12,9]\n",
    "    a.sort(key=sum_digit)\n",
    "    print(a)"
   ]
  },
  {
   "cell_type": "code",
   "execution_count": 14,
   "metadata": {},
   "outputs": [
    {
     "name": "stdout",
     "output_type": "stream",
     "text": [
      "[0, -2, 5, 9, -12, 73, 76, -344]\n",
      "[[1, 2], [3, 4], [3, 6], [4, 1], [5, 2]]\n"
     ]
    }
   ],
   "source": [
    "#sort voi lambda\n",
    "a=[73,-344,5,0,-2,76,-12,9]\n",
    "a.sort(key=lambda x: abs(x))\n",
    "print(a)\n",
    "b=[[1,2],[3,4],[5,2],[4,1],[3,6]]\n",
    "b.sort(key=lambda x: x[0]) #sap xep theo phan tu dau tien cua moi list con \n",
    "print(b)\n",
    "c=[[2,3],[1,3],[1,1],[2,4],[3,5],[3,9]]\n",
    "c.sort(key=lambda x: (x[0],x[1])) # neu pt thu 1 giong nhau thi sx theo pt 2 tang dan co the -x[1] neu muon giam dan\n"
   ]
  },
  {
   "cell_type": "code",
   "execution_count": 1,
   "metadata": {},
   "outputs": [
    {
     "name": "stdout",
     "output_type": "stream",
     "text": [
      "[['le', 9999], ['hung', 3000], ['nam', 900]]\n"
     ]
    }
   ],
   "source": [
    "a=[['hung',3000],['le',9999],['nam',900]]\n",
    "a.sort(key=lambda x: x[1])\n",
    "print(a)"
   ]
  },
  {
   "cell_type": "code",
   "execution_count": null,
   "metadata": {},
   "outputs": [],
   "source": [
    "#sorted() tra ve list\n",
    "a=[73,-344,5,0,-2,76,-12,9]\n",
    "b=sorted(a)\n",
    "print(b)"
   ]
  },
  {
   "cell_type": "code",
   "execution_count": 18,
   "metadata": {},
   "outputs": [
    {
     "name": "stdout",
     "output_type": "stream",
     "text": [
      "[67, 9, 233, 23, 111, 12, 0]\n"
     ]
    }
   ],
   "source": [
    "#cmp to key lib\n",
    "#Neu a dung truoc va b dung sau sau khi sap xep\n",
    "#Neu a va b da dung thu tu mong muon thi tra ve -1\n",
    "from functools import cmp_to_key\n",
    "def cmp1(a,b): #sap xep tang dan\n",
    "    if a<b:\n",
    "        return -1\n",
    "    elif a>b:\n",
    "        return 1\n",
    "    else:\n",
    "        return 0\n",
    "def cmp(a,b): # sap xep tang dan nang cao\n",
    "    return a-b\n",
    "def cmp2(a,b): #sap xep giam dan\n",
    "    if a>b:\n",
    "        return -1\n",
    "    elif a<b:\n",
    "        return 1\n",
    "    else:\n",
    "        return 0    \n",
    "def cmp3(a,b): # sap xep giam dan nang cao\n",
    "    return b-a\n",
    "def sum_digit(n):\n",
    "    tong=0\n",
    "    while n!=0:\n",
    "        tong+=n%10\n",
    "        n//=10\n",
    "    return tong\n",
    "def cmp4(a,b):\n",
    "    tong1,tong2=sum_digit(a),sum_digit(b)\n",
    "    if tong1!=tong2:\n",
    "        return tong2-tong1\n",
    "    else:\n",
    "        return b-a\n",
    "a=[10,3,6,9,3,5,8,1]\n",
    "a.sort(key=cmp_to_key(cmp1))\n",
    "b=[233,67,12,9,23,0,111]\n",
    "b.sort(key=cmp_to_key(cmp4))\n",
    "print(b)"
   ]
  },
  {
   "cell_type": "code",
   "execution_count": 25,
   "metadata": {},
   "outputs": [
    {
     "name": "stdout",
     "output_type": "stream",
     "text": [
      "YES\n"
     ]
    }
   ],
   "source": [
    "#thuat toan tim kiem nhi phan (BINARY SEARCH)\n",
    "#tu tuong tim kiem trong doan[L,R]=>tinh m=(L+R)/2\n",
    "#1 a[m]==x return true\n",
    "#2 a[m]<x l=m+1\n",
    "#3 a[m]>x r=m-1\n",
    "def binary_search(a,l,r,x):\n",
    "    while l<=r:\n",
    "        m=(l+r)//2\n",
    "        if a[m]==x:\n",
    "            return True\n",
    "        elif a[m]>x:\n",
    "            r=m-1\n",
    "        elif a[m]<x:\n",
    "            l=m+1\n",
    "    return False\n",
    "if __name__=='__main__':\n",
    "    a=[2,6,8,1,4,213,67,44,6,3]\n",
    "    a.sort()\n",
    "    if binary_search(a,0,len(a)-1,3):\n",
    "        print('YES')\n",
    "    else:\n",
    "        print('NO')"
   ]
  },
  {
   "cell_type": "code",
   "execution_count": 3,
   "metadata": {},
   "outputs": [
    {
     "name": "stdout",
     "output_type": "stream",
     "text": [
      "[1, 2, 3, 4, 4, 4, 5, 6, 7, 12, 23, 32, 78]\n",
      "5\n"
     ]
    }
   ],
   "source": [
    "#cac bien the binary search\n",
    "#tim kiem chi so xuat hien dau tien\n",
    "def first_pos(a,l,r,x):\n",
    "    res=-1\n",
    "    while l<=r:\n",
    "        m=(l+r)//2\n",
    "        if a[m]==x:\n",
    "            res=m #cap nhat ket qua\n",
    "            r=m-1\n",
    "        elif a[m]>x:\n",
    "            r=m-1\n",
    "        else:\n",
    "            l=m+1\n",
    "    return res\n",
    "#tim vi tri cuoi cung\n",
    "def last_pos(a,l,r,x):\n",
    "    res=-1\n",
    "    while l<=r:\n",
    "        m=(l+r)//2\n",
    "        if a[m]==x:\n",
    "            res=m\n",
    "            l=m+1\n",
    "        elif a[m]>x:\n",
    "            r=m-1\n",
    "        else:\n",
    "            l=m+1\n",
    "    return res\n",
    "#tim vi tri xuat hien dau tien cua phan tu >=x da duoc sap xep tang dan\n",
    "def first_pos1(a,l,r,x):\n",
    "    res=-1\n",
    "    while l<=r:\n",
    "        m=(l+r)//2\n",
    "        if a[m]>=x:\n",
    "            res=m\n",
    "            r=m-1\n",
    "        else:\n",
    "            l=m+1\n",
    "    return res\n",
    "#tim vi tri xuat hien dau tien cua phan tu >x da duoc sap xep tang dan\n",
    "def first_pos2(a,l,r,x):\n",
    "    res=-1\n",
    "    while l<=r:\n",
    "        m=(l+r)//2\n",
    "        if a[m]>x:\n",
    "            res=m\n",
    "            r=m-1\n",
    "        else:\n",
    "            l=m+1\n",
    "    return res\n",
    "if __name__=='__main__':\n",
    "    a=[2,4,4,6,3,4,7,1,32,5,12,78,23]\n",
    "    a.sort()\n",
    "    print(a)\n",
    "    fisrt=first_pos(a,0,len(a)-1,4)\n",
    "    last=last_pos(a,0,len(a)-1,4)\n",
    "    print(last)"
   ]
  }
 ],
 "metadata": {
  "kernelspec": {
   "display_name": "Python 3",
   "language": "python",
   "name": "python3"
  },
  "language_info": {
   "codemirror_mode": {
    "name": "ipython",
    "version": 3
   },
   "file_extension": ".py",
   "mimetype": "text/x-python",
   "name": "python",
   "nbconvert_exporter": "python",
   "pygments_lexer": "ipython3",
   "version": "3.10.8"
  },
  "orig_nbformat": 4
 },
 "nbformat": 4,
 "nbformat_minor": 2
}
